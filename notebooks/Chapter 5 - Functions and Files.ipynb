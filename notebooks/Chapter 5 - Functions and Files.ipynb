{
 "cells": [
  {
   "cell_type": "markdown",
   "metadata": {},
   "source": [
    "# Chapter 5: Functions and Files"
   ]
  },
  {
   "cell_type": "markdown",
   "metadata": {},
   "source": [
    "## File Input/Output"
   ]
  },
  {
   "cell_type": "markdown",
   "metadata": {},
   "source": [
    "Input for your programs often comes from files on your disk, such as 'corpora' (a 'corpus' is what we call a large collection of digital text in linguistics). Likewise, you often want output to be written back to files on your disk as well. Thus, reading and writing files is often an essential part of programming and, lucky, for us, this is really simple in Python. The following example reads a file from disk:"
   ]
  },
  {
   "cell_type": "code",
   "execution_count": 2,
   "metadata": {
    "collapsed": false
   },
   "outputs": [
    {
     "name": "stdout",
     "output_type": "stream",
     "text": [
      "Emma by Jane Austen 1816\n",
      "\n",
      "VOLUME I\n",
      "\n",
      "CHAPTER I\n",
      "\n",
      "\n",
      "Emma Woodhouse, handsome, clever, and rich, with a comfortable home\n",
      "and happy disposition, seemed to unite some of the best blessings\n",
      "of existence; and had lived nearly twenty-one years in the world\n",
      "with very little to distress or vex her.\n",
      "\n",
      "She was the youngest of the two daughters of a most affectionate,\n",
      "indulgent father; and had, in consequence of her sister's marriage,\n",
      "been mistress of his house from a very early period.  Her mother\n",
      "had died too long ago for her to have more than an indistinct\n",
      "remembrance of her caresses; and her place had been supplied\n",
      "by an excellent woman as governess, who had fallen little short\n",
      "of a mother in affection.\n"
     ]
    }
   ],
   "source": [
    "f = open('data/austen-emma-excerpt.txt', 'rt', encoding='utf-8')\n",
    "text = f.read()\n",
    "f.close()\n",
    "print(text)"
   ]
  },
  {
   "cell_type": "markdown",
   "metadata": {},
   "source": [
    "Watch out: the `open()` function doesn't return the actual text that is saved in the text file. It only returns a so-called 'file object' from which we can read the content using the `.read()` function. We passed three arguments to the `open()` function:\n",
    "\n",
    " * the name of the file that you wish to open\n",
    " * the mode, a combination of characters, 'r' represents read-mode, and 't' represent plain text-mode. This indicates we are reading a plain text file.\n",
    " * the last argument, a named argument (encoding), specifies the encoding of the text file.\n"
   ]
  },
  {
   "cell_type": "markdown",
   "metadata": {},
   "source": [
    ">UTF-8\n",
    "\n",
    ">You may wonder what an encoding is and what *utf-8* is. For anyone working with texts and computers this is vital to know. Internally, a computer knows no characters whatsoever: every piece of information is represented as numbers (which in turn are represented in a binary format, as zeroes and ones). An encoding specifies which numbers represent which characters. A famous and long-standing encoding scheme is ASCII, in which for example the letter 'A' is encoded using the number 65. ASCII however only has a very limited alphabet and can not encode a lot of writing systems. A modern-day encoding supporting countless writing systems is *unicode* and *utf-8* is a kind of unicode. This the type of encoding that you will want to use for your data whenever possible. Whenever you have a choice, you should use unicode!"
   ]
  },
  {
   "cell_type": "markdown",
   "metadata": {},
   "source": [
    "Reading an entire file in one string is not always desirable, especially not with huge files. The following example reads up until a newline everytime, and returns one line at a time. \n"
   ]
  },
  {
   "cell_type": "code",
   "execution_count": 3,
   "metadata": {
    "collapsed": false
   },
   "outputs": [
    {
     "name": "stdout",
     "output_type": "stream",
     "text": [
      "Emma by Jane Austen 1816\n",
      "\n",
      "n\n",
      "\n",
      "\n",
      "n\n",
      "VOLUME I\n",
      "\n",
      "n\n",
      "\n",
      "\n",
      "n\n",
      "CHAPTER I\n",
      "\n",
      "n\n",
      "\n",
      "\n",
      "n\n",
      "\n",
      "\n",
      "n\n",
      "Emma Woodhouse, handsome, clever, and rich, with a comfortable home\n",
      "\n",
      "n\n",
      "and happy disposition, seemed to unite some of the best blessings\n",
      "\n",
      "n\n",
      "of existence; and had lived nearly twenty-one years in the world\n",
      "\n",
      "n\n",
      "with very little to distress or vex her.\n",
      "\n",
      "n\n",
      "\n",
      "\n",
      "n\n",
      "She was the youngest of the two daughters of a most affectionate,\n",
      "\n",
      "n\n",
      "indulgent father; and had, in consequence of her sister's marriage,\n",
      "\n",
      "n\n",
      "been mistress of his house from a very early period.  Her mother\n",
      "\n",
      "n\n",
      "had died too long ago for her to have more than an indistinct\n",
      "\n",
      "n\n",
      "remembrance of her caresses; and her place had been supplied\n",
      "\n",
      "n\n",
      "by an excellent woman as governess, who had fallen little short\n",
      "\n",
      "n\n",
      "of a mother in affection.\n",
      "n\n"
     ]
    }
   ],
   "source": [
    "f = open('data/austen-emma-excerpt.txt','rt', encoding='utf-8')\n",
    "for line in f:\n",
    "    print(line)\n",
    "    print(\"n\")\n",
    "f.close()"
   ]
  },
  {
   "cell_type": "markdown",
   "metadata": {},
   "source": [
    "The 'newline' character is probably something new to you. If you are dealing with plain text files (typically files whose name ends in the '.txt' extension), your machine uses a special character internally to signal that a new line should begin. Internally, such newlines are represented as `\"\\n\"`. Normally, this character is visualized on your screen as if the enter key were pressed. See what happens below: "
   ]
  },
  {
   "cell_type": "code",
   "execution_count": 4,
   "metadata": {
    "collapsed": false
   },
   "outputs": [
    {
     "name": "stdout",
     "output_type": "stream",
     "text": [
      "This is the first line.\n",
      "This is the second line.\n"
     ]
    }
   ],
   "source": [
    "s = \"This is the first line.\\nThis is the second line.\"\n",
    "print(s)"
   ]
  },
  {
   "cell_type": "markdown",
   "metadata": {},
   "source": [
    "There exists a similar character to encode 'tab' characters, namely `\\t`. You can use this character to play around with the indentation of your (e.g. hierarchically structured) output:\n"
   ]
  },
  {
   "cell_type": "code",
   "execution_count": 5,
   "metadata": {
    "collapsed": false
   },
   "outputs": [
    {
     "name": "stdout",
     "output_type": "stream",
     "text": [
      "First line\n",
      "\t* Second line\n",
      "\t* Third line\n",
      "\t* Fourth line\n",
      "Fifth line\n"
     ]
    }
   ],
   "source": [
    "s = \"First line\\n\\t* Second line\\n\\t* Third line\\n\\t* Fourth line\\nFifth line\"\n",
    "print(s)"
   ]
  },
  {
   "cell_type": "markdown",
   "metadata": {},
   "source": [
    "In the code block above in which you read the Austen file, the newline is still included with the original line that preceded it in the file: this is why you see all the extra empty lines in the output above! If you wish to remove all preceding and trailing whitespace in a string (newlines, spaces, but also tabs), you can use the `strip()` function:"
   ]
  },
  {
   "cell_type": "code",
   "execution_count": 6,
   "metadata": {
    "collapsed": false
   },
   "outputs": [
    {
     "name": "stdout",
     "output_type": "stream",
     "text": [
      "strip me!\n"
     ]
    }
   ],
   "source": [
    "s = \"   strip me!    \"\n",
    "print(s.strip())"
   ]
  },
  {
   "cell_type": "markdown",
   "metadata": {},
   "source": [
    "Now, try to adapt the code that read in the Austen file and have your code print each line without the preceding and trailing whitespace! Have the annoying \"double lines\" disappeared in your output? "
   ]
  },
  {
   "cell_type": "code",
   "execution_count": 10,
   "metadata": {
    "collapsed": false
   },
   "outputs": [
    {
     "name": "stdout",
     "output_type": "stream",
     "text": [
      "Emma by Jane Austen 1816\n",
      "\n",
      "VOLUME I\n",
      "\n",
      "CHAPTER I\n",
      "\n",
      "\n",
      "Emma Woodhouse, handsome, clever, and rich, with a comfortable home\n",
      "and happy disposition, seemed to unite some of the best blessings\n",
      "of existence; and had lived nearly twenty-one years in the world\n",
      "with very little to distress or vex her.\n",
      "\n",
      "She was the youngest of the two daughters of a most affectionate,\n",
      "indulgent father; and had, in consequence of her sister's marriage,\n",
      "been mistress of his house from a very early period.  Her mother\n",
      "had died too long ago for her to have more than an indistinct\n",
      "remembrance of her caresses; and her place had been supplied\n",
      "by an excellent woman as governess, who had fallen little short\n",
      "of a mother in affection.\n"
     ]
    }
   ],
   "source": [
    "f = open('data/austen-emma-excerpt.txt','rt', encoding='utf-8')\n",
    "for line in f:\n",
    "    print(line.strip())\n",
    "f.close()"
   ]
  },
  {
   "cell_type": "markdown",
   "metadata": {},
   "source": [
    "Rather than just printing, we can of course do whatever we want with this file's content. Let's count the number of lines (but note, that a line does not necessarily correspond to a sentence)."
   ]
  },
  {
   "cell_type": "code",
   "execution_count": 11,
   "metadata": {
    "collapsed": false
   },
   "outputs": [
    {
     "name": "stdout",
     "output_type": "stream",
     "text": [
      "19\n"
     ]
    }
   ],
   "source": [
    "count = 0\n",
    "f = open('data/austen-emma-excerpt.txt', 'rt', encoding='utf-8')\n",
    "for line in f:\n",
    "    count += 1\n",
    "f.close()\n",
    "print(count)"
   ]
  },
  {
   "cell_type": "markdown",
   "metadata": {},
   "source": [
    "#### Quiz"
   ]
  },
  {
   "cell_type": "markdown",
   "metadata": {},
   "source": [
    "Read the file `data/austen-emma-excerpt.txt` and compute the average length (in characters) of the lines."
   ]
  },
  {
   "cell_type": "code",
   "execution_count": 25,
   "metadata": {
    "collapsed": false
   },
   "outputs": [
    {
     "name": "stdout",
     "output_type": "stream",
     "text": [
      "Average characters in line:  36.8\n"
     ]
    }
   ],
   "source": [
    "f = open('data/austen-emma-excerpt.txt', 'rt', encoding='utf-8')\n",
    "# insert your code here\n",
    "# important: always remember to properly close your files again!\n",
    "\n",
    "count = 0\n",
    "lines = 0\n",
    "\n",
    "for line in f:\n",
    "    count += len(line)\n",
    "    lines += 1\n",
    "\n",
    "f.close()\n",
    "\n",
    "print(\"Average characters in line: \", (round(count/lines,1)))"
   ]
  },
  {
   "cell_type": "markdown",
   "metadata": {},
   "source": [
    "- - -"
   ]
  },
  {
   "cell_type": "markdown",
   "metadata": {},
   "source": [
    "Now we mastered the art of reading files, let's move on to writing files, which follows a similar logic:"
   ]
  },
  {
   "cell_type": "code",
   "execution_count": 26,
   "metadata": {
    "collapsed": false
   },
   "outputs": [],
   "source": [
    "f = open('data/testoutput.txt', 'wt', encoding='utf-8')\n",
    "f.write(\"Hello world!\")\n",
    "f.close()"
   ]
  },
  {
   "cell_type": "markdown",
   "metadata": {},
   "source": [
    "In this code block, we have automatically created a new file called `testoutput.txt` in the `data` directory. We then wrote a single line to this file and then we closed it. Note that the `w` in `wt` is a crucial addition: if you would have left this out, Python would have opened the file in 'readonly' mode and you wouldn't have been able to write to it! The 't' in the argument, again, signifies that we will be writing to this file in plain text mode."
   ]
  },
  {
   "cell_type": "markdown",
   "metadata": {},
   "source": [
    "If you want your data to be written on multiple lines, you need to take care to explicitly encode the newlines. Instead of:\n",
    "    "
   ]
  },
  {
   "cell_type": "code",
   "execution_count": 27,
   "metadata": {
    "collapsed": false
   },
   "outputs": [],
   "source": [
    "f = open('data/testouput.txt','wt', encoding='utf-8')\n",
    "f.write(\"Hello world on the first line!\")\n",
    "f.write(\"Hello world on the second line!\")\n",
    "f.close()"
   ]
  },
  {
   "cell_type": "markdown",
   "metadata": {},
   "source": [
    "You need to write:"
   ]
  },
  {
   "cell_type": "code",
   "execution_count": 28,
   "metadata": {
    "collapsed": false
   },
   "outputs": [],
   "source": [
    "f = open('data/testoutput.txt','wt', encoding='utf-8')\n",
    "f.write(\"Hello world on the first line!\\n\")\n",
    "f.write(\"Hello world on the second line!\")\n",
    "f.close()"
   ]
  },
  {
   "cell_type": "markdown",
   "metadata": {},
   "source": [
    "Otherwise your file would have `Hello world!Hello world!` in it, i.e. without the newlines."
   ]
  },
  {
   "cell_type": "markdown",
   "metadata": {},
   "source": [
    "Besides 'read-mode' and 'write-mode' when dealing with text files, there is also the 'append-mode' in Python. Watch out: in 'write-mode', you will always *overwrite* the existing content of the file. However, if you've open a file in 'append-mode', everything you write to the file will be added at the end of the file, without deleting anything of the existing content in the file. In order to enable the append mode, you need to specify `'at'` as your second parameter when you open files ('a' for append mode; 't' for text mode)."
   ]
  },
  {
   "cell_type": "markdown",
   "metadata": {},
   "source": [
    "#### Exercise"
   ]
  },
  {
   "cell_type": "markdown",
   "metadata": {},
   "source": [
    "Read the file `data/austen-emma-excerpt-tokenised.txt`, and write to a file `words.txt` all words occuring in this text (without duplicates!!), alphabetically ordered, one word per line. That way, you are really creating a lexicon or word list of the text. (Tip: you should use sets in this exercise!)"
   ]
  },
  {
   "cell_type": "code",
   "execution_count": 11,
   "metadata": {
    "collapsed": false
   },
   "outputs": [],
   "source": [
    "# insert your code here\n",
    "import re\n",
    "\n",
    "with open('data/austen-emma-excerpt-tokenised.txt', encoding='utf-8') as infile:\n",
    "    text = infile.read()\n",
    "    \n",
    "text = re.sub(\"[!\\\"#$%&'()*+,-./:;<=>?@[\\]^_`{|}~]\", \"\", text).lower()\n",
    "wordset = set(text.split())\n",
    "\n",
    "wordlist = sorted(set(wordset))\n",
    "\n",
    "with open('data/austen-emma-excerpt-wordlist.txt', 'w') as outfile:\n",
    "    for word in wordlist:\n",
    "        outfile.write(word + '\\n')"
   ]
  },
  {
   "cell_type": "markdown",
   "metadata": {},
   "source": [
    "Check your output by viewing the `words.txt` file in a text editor such as Sublime Text 2. (Windows users: do not use Notepad!)"
   ]
  },
  {
   "cell_type": "markdown",
   "metadata": {},
   "source": [
    "---"
   ]
  },
  {
   "cell_type": "markdown",
   "metadata": {},
   "source": [
    "## Importing external modules"
   ]
  },
  {
   "cell_type": "markdown",
   "metadata": {},
   "source": [
    "Most of the functionality we have used thus far, is simply built into the Python language itself. Often however you need to use external modules in your code. A lot of external modules are already available in the Python Standard Library, for a wide variety of tasks. There are also countless third-party providers of Python modules. \n",
    "\n",
    "To use an external module in your code you need to explicitly 'import' it. Consider for example the module `random` from the standard library, which contains functions for generating random numbers:"
   ]
  },
  {
   "cell_type": "code",
   "execution_count": 29,
   "metadata": {
    "collapsed": false
   },
   "outputs": [
    {
     "name": "stdout",
     "output_type": "stream",
     "text": [
      "0\n"
     ]
    }
   ],
   "source": [
    "import random\n",
    "print(random.randint(0, 10))"
   ]
  },
  {
   "cell_type": "markdown",
   "metadata": {},
   "source": [
    "Note the syntax used: using the dot, we indicate that our machine should look for the `randint()` function inside the `random` module we just imported. You can import an entire module or import only a specific function in the module. We could also have imported the (single) function we needed as follows:"
   ]
  },
  {
   "cell_type": "code",
   "execution_count": 30,
   "metadata": {
    "collapsed": false
   },
   "outputs": [
    {
     "name": "stdout",
     "output_type": "stream",
     "text": [
      "7\n"
     ]
    }
   ],
   "source": [
    "from random import randint\n",
    "print(randint(0, 100))"
   ]
  },
  {
   "cell_type": "markdown",
   "metadata": {},
   "source": [
    "In this case we wouldn't have to specify where or machine should find the `randint()` function. You can also (temporarily) change the names of the functions you import:"
   ]
  },
  {
   "cell_type": "code",
   "execution_count": 31,
   "metadata": {
    "collapsed": false
   },
   "outputs": [
    {
     "name": "stdout",
     "output_type": "stream",
     "text": [
      "2\n"
     ]
    }
   ],
   "source": [
    "from random import randint as random_int\n",
    "print(random_int(0, 100))"
   ]
  },
  {
   "cell_type": "markdown",
   "metadata": {},
   "source": [
    "---"
   ]
  },
  {
   "cell_type": "markdown",
   "metadata": {},
   "source": [
    "## Functions"
   ]
  },
  {
   "cell_type": "markdown",
   "metadata": {},
   "source": [
    "So far, you have already seen lots of functions. In general, a function will do something for you, based on a number of input parameters you pass it, and it will typically return a result. You are not limited to using functions available from in the standard library or the ones provided by external parties. You can also write your own functions!\n",
    "\n",
    "In fact, you *must* write your own functions. Separating your problem into sub-problems and writing a function for each of those is an immensely important part of well-structured programming. In the rest of this chapter we will teach you how to write your own functions and how to import and re-use these functions in other, new scripts you write!\n",
    "\n",
    "Let's start off with a trivial function. Functions are defined using the `def` keyword, followed by the name you want your function to have and (optionally!) the names of the parameters that your function takes. \n",
    "\n",
    "    def some_name(optional_parameters):\n",
    "        # here goes your functionality\n",
    "        return my_result\n",
    "\n",
    "The `return` statement returns a value back to the caller and always ends the execution of the function. Mind the indentation here, which is how we make clear to the Python interpreter which lines belong to our function. "
   ]
  },
  {
   "cell_type": "code",
   "execution_count": 32,
   "metadata": {
    "collapsed": false
   },
   "outputs": [
    {
     "name": "stdout",
     "output_type": "stream",
     "text": [
      "10\n"
     ]
    }
   ],
   "source": [
    "def multiply(x, y):\n",
    "    result = x * y\n",
    "    return result\n",
    "\n",
    "# or in shorthand\n",
    "\n",
    "def multiply(x, y):\n",
    "    return x*y\n",
    "\n",
    "# now that you defined this function, you can use it in the rest of your code:\n",
    "z = multiply(2, 5)\n",
    "print(z)"
   ]
  },
  {
   "cell_type": "markdown",
   "metadata": {},
   "source": [
    "Now, let's define a more advanced function. The following function `count_articles()` counts the number of articles (*the*, *a*, *an*) in a list of words. The words are passed to the function as a list of strings. Note that the function itself lowercases the words, so that you never have to take care of this again in the rest of your code! Can you change `count_articles()` in such a manner that it will now accept the entire string and splits it into tokens internally? That way, the user of a function wouldn't have to care about this!"
   ]
  },
  {
   "cell_type": "code",
   "execution_count": 33,
   "metadata": {
    "collapsed": false
   },
   "outputs": [
    {
     "name": "stdout",
     "output_type": "stream",
     "text": [
      "6\n"
     ]
    }
   ],
   "source": [
    "def count_articles(tokens):\n",
    "    count = 0\n",
    "    for token in tokens:\n",
    "        if token.lower() in ('the', 'a', 'an'):\n",
    "            count += 1\n",
    "    return count\n",
    "   \n",
    "text = \"A bit less trivial , this function counts the number of articles ( the , a , an ) in a list of words\"\n",
    "words = text.split()\n",
    "print(count_articles(words))"
   ]
  },
  {
   "cell_type": "markdown",
   "metadata": {},
   "source": [
    "We can also have a function return multiple values by combining them in a tuple (the type of ordered, immutable list we talked about in the previous chapter!). Python has a nice way of 'unpacking' such a tuple using assignment:"
   ]
  },
  {
   "cell_type": "code",
   "execution_count": 34,
   "metadata": {
    "collapsed": false
   },
   "outputs": [
    {
     "name": "stdout",
     "output_type": "stream",
     "text": [
      "12\n",
      "43\n"
     ]
    }
   ],
   "source": [
    "def count(text):\n",
    "    words = text.split(\" \")\n",
    "    word_count = len(words)\n",
    "    character_count = len(text)\n",
    "    return word_count, character_count\n",
    "\n",
    "word_count, character_count = count(\"To be or not to be , that is the question .\")\n",
    "print(word_count)\n",
    "print(character_count)"
   ]
  },
  {
   "cell_type": "markdown",
   "metadata": {},
   "source": [
    "Note that your functions don't have to return anything explicitly. If you run the example below, you will see that such a 'void' function in reality returns 'None'. "
   ]
  },
  {
   "cell_type": "code",
   "execution_count": 35,
   "metadata": {
    "collapsed": false
   },
   "outputs": [
    {
     "name": "stdout",
     "output_type": "stream",
     "text": [
      "Oh Dr Steamy !\n",
      "None\n"
     ]
    }
   ],
   "source": [
    "def little_grey(doctor):\n",
    "    print(\"Oh Dr\", doctor, \"!\")\n",
    "\n",
    "whatever = little_grey(\"Steamy\")\n",
    "print(whatever)"
   ]
  },
  {
   "cell_type": "markdown",
   "metadata": {},
   "source": [
    "##### Variable scope"
   ]
  },
  {
   "cell_type": "markdown",
   "metadata": {},
   "source": [
    "Any variables you declare in a function, as well as the parameters that are passed to a function will only exist within the 'scope' of that function, i.e. inside the function itself. The following code will produce an error, because the variable `x` does not exist outside the function:"
   ]
  },
  {
   "cell_type": "code",
   "execution_count": 36,
   "metadata": {
    "collapsed": false
   },
   "outputs": [
    {
     "ename": "NameError",
     "evalue": "name 'x' is not defined",
     "output_type": "error",
     "traceback": [
      "\u001b[1;31m---------------------------------------------------------------------------\u001b[0m",
      "\u001b[1;31mNameError\u001b[0m                                 Traceback (most recent call last)",
      "\u001b[1;32m<ipython-input-36-5cf83644804e>\u001b[0m in \u001b[0;36m<module>\u001b[1;34m()\u001b[0m\n\u001b[0;32m      3\u001b[0m \u001b[1;33m\u001b[0m\u001b[0m\n\u001b[0;32m      4\u001b[0m \u001b[0msetx\u001b[0m\u001b[1;33m(\u001b[0m\u001b[1;33m)\u001b[0m\u001b[1;33m\u001b[0m\u001b[0m\n\u001b[1;32m----> 5\u001b[1;33m \u001b[0mprint\u001b[0m\u001b[1;33m(\u001b[0m\u001b[0mx\u001b[0m\u001b[1;33m)\u001b[0m\u001b[1;33m\u001b[0m\u001b[0m\n\u001b[0m",
      "\u001b[1;31mNameError\u001b[0m: name 'x' is not defined"
     ]
    }
   ],
   "source": [
    "def setx():\n",
    "    x = 1\n",
    "\n",
    "setx()\n",
    "print(x)"
   ]
  },
  {
   "cell_type": "markdown",
   "metadata": {},
   "source": [
    "Also consider this:\n",
    "    "
   ]
  },
  {
   "cell_type": "code",
   "execution_count": 37,
   "metadata": {
    "collapsed": false
   },
   "outputs": [
    {
     "name": "stdout",
     "output_type": "stream",
     "text": [
      "0\n"
     ]
    }
   ],
   "source": [
    "x = 0\n",
    "def setx():\n",
    "    x = 1\n",
    "setx()\n",
    "print(x)"
   ]
  },
  {
   "cell_type": "markdown",
   "metadata": {},
   "source": [
    "In fact, this code has produced two completely unrelated `x`'s!"
   ]
  },
  {
   "cell_type": "markdown",
   "metadata": {},
   "source": [
    "Nevertheless, it is possible to read a global variable from within a function, in a strictly read-only fashion. But as soon as you assign something, the variable will be a local copy:"
   ]
  },
  {
   "cell_type": "code",
   "execution_count": 38,
   "metadata": {
    "collapsed": false
   },
   "outputs": [
    {
     "name": "stdout",
     "output_type": "stream",
     "text": [
      "1\n"
     ]
    }
   ],
   "source": [
    "x = 1\n",
    "def getx():\n",
    "    print(x)\n",
    "    \n",
    "getx()"
   ]
  },
  {
   "cell_type": "markdown",
   "metadata": {},
   "source": [
    "#### Exercise"
   ]
  },
  {
   "cell_type": "markdown",
   "metadata": {},
   "source": [
    "Write a function `calculate_average(numbers)`, taking one parameter, a list (or other iterable) containing only numbers (you may assume that), and returning the average/mean:"
   ]
  },
  {
   "cell_type": "code",
   "execution_count": 43,
   "metadata": {
    "collapsed": false
   },
   "outputs": [],
   "source": [
    "# write your function calculate_average here\n",
    "def calculate_average(numbers):\n",
    "    return sum(numbers)/len(numbers)\n",
    "\n",
    "\n",
    "# do not modify the code below, for testing only\n",
    "numbers = [1, 2, 3, 4, 5]\n",
    "av = calculate_average(numbers)\n",
    "assert av == 3 # should be True if you did it correctly"
   ]
  },
  {
   "cell_type": "markdown",
   "metadata": {},
   "source": [
    "#### Bonus Exercise"
   ]
  },
  {
   "cell_type": "markdown",
   "metadata": {},
   "source": [
    "Write a function `textstats(filename)` that, given a filename to load return a three-tuple with the following general statistics on the file: number of lines, number of words/tokens, number of characters. Don't worry about tokenisation: you can just split the words along whitespace.\n"
   ]
  },
  {
   "cell_type": "code",
   "execution_count": 13,
   "metadata": {
    "collapsed": false
   },
   "outputs": [
    {
     "name": "stdout",
     "output_type": "stream",
     "text": [
      "(16824, 158167, 887071)\n"
     ]
    }
   ],
   "source": [
    "# write your function textstats here \n",
    "\n",
    "def textstats(filename):\n",
    "    with open(filename) as infile: \n",
    "        text = infile.read()\n",
    "    \n",
    "    wordlist = text.split()\n",
    "    \n",
    "    number_of_characters = len(text)\n",
    "    number_of_words = len(wordlist)\n",
    "    number_of_lines = text.count('\\n') + 1\n",
    "    \n",
    "    return (number_of_lines, number_of_words, number_of_characters)\n",
    "\n",
    "print(textstats('data/austen-emma.txt'))"
   ]
  },
  {
   "cell_type": "markdown",
   "metadata": {},
   "source": [
    "## Scripts"
   ]
  },
  {
   "cell_type": "markdown",
   "metadata": {},
   "source": [
    "Up until now, we have been using the interactive IPython software to write our Python code. We have only been writing really small bits and pieces of code, however, instead of writing longer scripts that can provide a more significant batch of functionality. Now, let us make our first independent Python script together. (Note that this way of working will also resemble more closely your future day-to-day coding practice.)\n",
    "\n",
    "Open 'Sublime Text 2', a popular text editor which we will use in this course (http://www.sublimetext.com/). Create a new file -- this might have happened automatically when you opened the editor -- and save it as \"script.py\" in a convenient location (here, we will assume that you have saved it in your Desktop folder. Note that files containing Python code typically take the \".py\" extension.\n",
    "\n",
    "If you are working in a UNIX-like environment (Mac or Linux), you should now add the following code on the very first line of your script:  "
   ]
  },
  {
   "cell_type": "code",
   "execution_count": 45,
   "metadata": {
    "collapsed": false
   },
   "outputs": [],
   "source": [
    "#!/usr/bin/env/ python"
   ]
  },
  {
   "cell_type": "markdown",
   "metadata": {},
   "source": [
    "This line will tell your computer which language you want to use to run the script -- in this case, our default installation of Python 3 will be used. In technical terms, the \"#!\" is called a \"shebang\" indication. If you are working in MS Windows, you can add this 'shebang line' as well, but it will have no effect. \n",
    "\n",
    "Now, let's us add a simply Python function to this file. The `fib()` function will the first numbers in the famous Fibonacci series. The function will only print the items in the series that are smaller than `upper`, i.e. the parameter we pass to this function: \n",
    "\n",
    "\n"
   ]
  },
  {
   "cell_type": "code",
   "execution_count": 46,
   "metadata": {
    "collapsed": false
   },
   "outputs": [],
   "source": [
    "def fib(upper):\n",
    "    # write Fibonacci series up to upper\n",
    "    \"Print a Fibonacci series up to upper\"\n",
    "    a, b = 0, 1\n",
    "    while b < upper:\n",
    "        print(b)\n",
    "        a = b\n",
    "        b = a+b\n",
    "    return"
   ]
  },
  {
   "cell_type": "markdown",
   "metadata": {},
   "source": [
    "Next, add a line that actually calls the `fib()` function for `upper=2000`. (Don't forget to take care of the correct indentation!)"
   ]
  },
  {
   "cell_type": "code",
   "execution_count": 47,
   "metadata": {
    "collapsed": false
   },
   "outputs": [
    {
     "name": "stdout",
     "output_type": "stream",
     "text": [
      "1\n",
      "2\n",
      "4\n",
      "8\n",
      "16\n",
      "32\n",
      "64\n",
      "128\n",
      "256\n",
      "512\n",
      "1024\n"
     ]
    }
   ],
   "source": [
    "fib(2000)"
   ]
  },
  {
   "cell_type": "markdown",
   "metadata": {},
   "source": [
    "Instead of executing this code by hitting ctrl+enter as we have done in the IPython notebook so far, we will now learn how to execute our code differently. We have two ways for doing this: an easy one, and a difficult one. When you work with a code editor like Sublime Text, there is often an easy way to execute your code. In Sublime, for instance, you can first save your file with a \".py\" extension, and then 'build' your code by hitting Ctrl+b (Windows, Unix) or Command+b (Mac OS X). You will now see that the output of your script will be written to your screen in Sublime.\n",
    "\n",
    "For the second option, you can use a command line interface or prompt. Watch out: this can be pretty scary at first... In general, you should always watch out when you use a command line interface to your machine: only execute commands that you (more or less) understand! You typically have complete control over your machine via such an interface, so you need to watch out not to remove any important files. (You could e.g. unintentionally delete your entire operating system from your hard drive with a single command...). \n",
    "\n",
    "First we will deal with instructions for doing this in Mac OS X and Linux-distributions such as Ubuntu. Mac OS X and Linux tend to behave similarly because they are both 'Unix-based' operating systems. \n",
    "\n",
    "- On a Mac,  you should open your 'Terminal'-application by clicking the relevant icon in the folder Applications > Utilities. Alternatively, click the magnifying glass in the top-right of your screen (shortcut: Command key+Spacebar). Next, type 'Terminal' in the box that appears and hit enter when your Mac has found the Terminal app.\n",
    "- On a Linux installation, first open a command line window by navigating to the Terminal via Applications Menu > Accesories > Terminal (Gnome) or Dash > More Apps > Accessories > Terminal (Unity). Under both Gnome and Unity, you should also be able to use the keyboard shortcut `Ctrl+Alt+T` to open a console window.\n",
    "\n",
    "Now 'cd' (= Change Directory) into the director that contains your `script.py` file (in our case that would mean: `cd ~/Desktop`). Next, execute our script by typing: `python3 script.py`. With this command, we explicitly tell the machine to execute this script using `python` (at least, the default version of Python3 installed on your machine). Normally, the output of the `print(), should now have been send to your console window. Has it?\n",
    "\n",
    "However, because we added the 'shebang line' at the top of `script.py`, we could have also used the plainer command `./script.py` (which simply means: 'run this program'). To make the program fully executable you might have to \"chmod\" it first (CHange file MODes), using the command `chmod +x script.py`. With this command you tell your machine, that it is safe to execute this script. For additional info on these scripts and the options they take, you can always run the `man` command (e.g. `man chmod`). A good tutorial that covers the basics of the bash command line interface on Unix-like operating systems is: http://praxis.scholarslab.org/tutorials/bash/.\n",
    "\n",
    "Under a Windows operating system, you can simply double-click the script.py function: because of the `.py` extension your OS will automatically run the script via Python interpreter (note that the `shebang line` is in reality ignored in your `script.py`). Alternatively, go to Start > All programs > Accessories and click on Command Prompt. In the Search or Run line, you can also type `cmd` and press enter. This will open a DOS console window.\n",
    "\n",
    "Navigate to the folder that holds you script.py: in our case you could do this via the command: `cd C:\\documents and settings\\your_username\\desktop` or simply `cd desktop`. Next, execute our script by typing: `python3 script.py`. With this command, we explicitly tell the machine to execute this script using `python` (at least it's default version on your machine). Normally, the output of the `print(), should now have been send to your console window. Has it? A good tutorial that covers the basics of the bash command line interface in DOS-based operating systems is: http://www.computerhope.com/issues/chusedos.htm\n",
    "\n",
    "You can now also import the functionality from `script.py` in other scripts! Remove (or comment out via a hashtag) the following line, containing the actual function call from `script.py`\n"
   ]
  },
  {
   "cell_type": "code",
   "execution_count": 48,
   "metadata": {
    "collapsed": false
   },
   "outputs": [
    {
     "name": "stdout",
     "output_type": "stream",
     "text": [
      "1\n",
      "2\n",
      "4\n",
      "8\n",
      "16\n",
      "32\n",
      "64\n",
      "128\n",
      "256\n",
      "512\n",
      "1024\n"
     ]
    }
   ],
   "source": [
    "fib(2000)"
   ]
  },
  {
   "cell_type": "markdown",
   "metadata": {},
   "source": [
    "Create a new file called `main.py` in the same directory, namely your Desktop folder. Add the shebang line on top, as well as the following statement which will import the functionality from the `script.py` module. Note that the syntax is entirely the same as for importing one of the 'official' functions from the Python Standard Library! Instead of running `script.py`, now try to run `main.py` which will import the `script.fib()` function. Does this work out? You don't have to add the '.py' by the way: your computer will figure out this extension itself."
   ]
  },
  {
   "cell_type": "code",
   "execution_count": 49,
   "metadata": {
    "collapsed": false
   },
   "outputs": [
    {
     "ename": "ImportError",
     "evalue": "No module named 'script'",
     "output_type": "error",
     "traceback": [
      "\u001b[1;31m---------------------------------------------------------------------------\u001b[0m",
      "\u001b[1;31mImportError\u001b[0m                               Traceback (most recent call last)",
      "\u001b[1;32m<ipython-input-49-7acc1cc8ebd1>\u001b[0m in \u001b[0;36m<module>\u001b[1;34m()\u001b[0m\n\u001b[0;32m      1\u001b[0m \u001b[1;31m#!/usr/bin/env python\u001b[0m\u001b[1;33m\u001b[0m\u001b[1;33m\u001b[0m\u001b[0m\n\u001b[1;32m----> 2\u001b[1;33m \u001b[1;32mimport\u001b[0m \u001b[0mscript\u001b[0m\u001b[1;33m\u001b[0m\u001b[0m\n\u001b[0m\u001b[0;32m      3\u001b[0m \u001b[0mscript\u001b[0m\u001b[1;33m.\u001b[0m\u001b[0mfib\u001b[0m\u001b[1;33m(\u001b[0m\u001b[0mupper\u001b[0m\u001b[1;33m=\u001b[0m\u001b[1;36m2000\u001b[0m\u001b[1;33m)\u001b[0m\u001b[1;33m\u001b[0m\u001b[0m\n",
      "\u001b[1;31mImportError\u001b[0m: No module named 'script'"
     ]
    }
   ],
   "source": [
    "#!/usr/bin/env python\n",
    "import script\n",
    "script.fib(upper=2000)"
   ]
  },
  {
   "cell_type": "markdown",
   "metadata": {},
   "source": [
    "Note that we have to be explicit about where our Python interpreter should look for the fib() function using the syntax with a dot (`module.function()`). If we want to be able to use the shorter version of the function call, we should have used to following import statement:"
   ]
  },
  {
   "cell_type": "code",
   "execution_count": 50,
   "metadata": {
    "collapsed": false
   },
   "outputs": [
    {
     "ename": "ImportError",
     "evalue": "No module named 'script'",
     "output_type": "error",
     "traceback": [
      "\u001b[1;31m---------------------------------------------------------------------------\u001b[0m",
      "\u001b[1;31mImportError\u001b[0m                               Traceback (most recent call last)",
      "\u001b[1;32m<ipython-input-50-b8de2aa46959>\u001b[0m in \u001b[0;36m<module>\u001b[1;34m()\u001b[0m\n\u001b[1;32m----> 1\u001b[1;33m \u001b[1;32mfrom\u001b[0m \u001b[0mscript\u001b[0m \u001b[1;32mimport\u001b[0m \u001b[1;33m*\u001b[0m\u001b[1;33m\u001b[0m\u001b[0m\n\u001b[0m",
      "\u001b[1;31mImportError\u001b[0m: No module named 'script'"
     ]
    }
   ],
   "source": [
    "from script import *"
   ]
  },
  {
   "cell_type": "markdown",
   "metadata": {},
   "source": [
    "Can you now try try to run `main.py` again, but now with the shorter call `fib(upper=2000)`, witout explicitly mentioning the module from which the function originates? Does that work work out for you?\n",
    "\n",
    "Now check out the files in your Desktop folder: you will notice that an additional file has been created, namely `script.pyc`. (If you can't see file, note that you can explicitly list all files in the current directory using the `ls` command in both Windows and Unix-like operating systems.) The extension of this new file stands for 'Compiled Python File'. Don't worry about this file -- you won't be able to inspect its contents using a text editor anyway. This file contains the numerical 'bytecode' that will be executed by your machine: it is this machine-readable version of your code that has actually been imported into the `main.py` module. You can safely ignore these files, but now you know what they are for. (By the way: note that there is no `main.pyc` file which has been created, because no functionality from this file has been imported into another module.)\n",
    "\n",
    "It's always a good idea to distribute your code over a set of modules. In technical terms, your code should be as 'modular' as possible, meaning that similar functions should be grouped into the same module. This will help you keep your code organized especially when you are working on a larger project. If you have a set of functions that use you for loading and parsing files in Python, why not group under the same module? This way you can organize your own coding more efficiently, as well as share and document your code more easily.  \n",
    "\n",
    "Now you know how how to store and organize your code in separate files and modules. Still, a lot of programmers continue to explore their data using 'interactive Python' via a so-called 'interactive Python interpreter' that more or less resembles the IPython envirionment you have been working in so far. To launch such an interpreter, just type in `python3` in your console and hit enter. This will launch a `live` Python session in your command line console where you can experiment with your data by typing in commands, much like you have done in the IPython environment so far. Try this out! Just type in lines of Python code after the `>>>` prompt and hit enter to execute it immediately."
   ]
  },
  {
   "cell_type": "markdown",
   "metadata": {},
   "source": [
    "---"
   ]
  },
  {
   "cell_type": "markdown",
   "metadata": {},
   "source": [
    "# Exercises"
   ]
  },
  {
   "cell_type": "markdown",
   "metadata": {},
   "source": [
    "```When you make the exercices below, don't write your code in the IPython notebook anymore but write in a separate file and run them from the command line! ```\n",
    "\n",
    "Remark:  I have also put the answers down here, instead of in a seperate .py file. \n",
    "\n",
    "Inspired by *Think Python* by Allen B. Downey (http://thinkpython.com), *Introduction to Programming Using Python* by Y. Liang (Pearson, 2013). Some exercises below have been taken from: http://www.ling.gu.se/~lager/python_exercises.html."
   ]
  },
  {
   "cell_type": "markdown",
   "metadata": {},
   "source": [
    "-  Two words are anagrams if you can rearrange the letters from one to spell the other. Write a function called is_anagram that takes two strings and returns True if they are anagrams."
   ]
  },
  {
   "cell_type": "code",
   "execution_count": 79,
   "metadata": {
    "collapsed": false
   },
   "outputs": [
    {
     "data": {
      "text/plain": [
       "True"
      ]
     },
     "execution_count": 79,
     "metadata": {},
     "output_type": "execute_result"
    }
   ],
   "source": [
    "from collections import Counter\n",
    "\n",
    "def is_anagram(word1, word2):\n",
    "    # correct for spaces and capitalization\n",
    "    word1 = word1.replace(\" \", \"\").lower()\n",
    "    word2 = word2.replace(\" \", \"\").lower()\n",
    "    \n",
    "    # correct for char frequency\n",
    "    w1 = Counter(word1)\n",
    "    w2 = Counter(word2)\n",
    "    \n",
    "    if w1 == w2:\n",
    "        return True\n",
    "    \n",
    "    return False\n",
    "    \n",
    "is_anagram(\"Mark Rutte\",\"kamertrut\")\n"
   ]
  },
  {
   "cell_type": "markdown",
   "metadata": {},
   "source": [
    "-  Go to Project Gutenberg (http://www.gutenberg.org) and download your favorite out- of-copyright book in plain text format. Make a frequency dictionary of the words in the novel. Sort the words in the dictionary by frequency and write it to a text file called `frequencies.txt`. Make sure your program ignores capitalization as well as punctuation (hint: check out `string.punctuation` online!). Search the web in order to find out how you can sort a dictionary -- this is not easy, because you might have to import another module."
   ]
  },
  {
   "cell_type": "code",
   "execution_count": 28,
   "metadata": {
    "collapsed": false
   },
   "outputs": [],
   "source": [
    "from collections import Counter\n",
    "from collections import OrderedDict\n",
    "import re\n",
    "\n",
    "with open('data/het_zwevende_schaakbord.txt', encoding='utf-8') as infile:\n",
    "    text = infile.read()\n",
    "\n",
    "text = re.sub(\"[!\\\"#$%&'()*+,-./:;<=>?@[\\]^_`{|}~]\", \"\", text.lower())    \n",
    "d = Counter(text.split())\n",
    "wordlist = sorted(d.items(), key=lambda x: x[1], reverse=True) \n",
    "\n",
    "with open('data/frequencies.txt', 'w', encoding='utf-8') as outfile:\n",
    "    outfile.write(\"word\" + \"\\t\" + \"frequency\" + \"\\n\")\n",
    "    for k,v in wordlist:\n",
    "        outfile.write(k + \"\\t\" + str(v) + \"\\n\")\n",
    "        \n",
    "\n",
    "\n",
    "\n",
    "    \n",
    "    \n"
   ]
  },
  {
   "cell_type": "markdown",
   "metadata": {},
   "source": [
    "- Rewrite the novel in the previous exercise, by replacing the name of the principal character in the novel by your own name. (Use the `replace()` function for this.) Write the new version of novel to a file called `starring_me.txt`."
   ]
  },
  {
   "cell_type": "code",
   "execution_count": 27,
   "metadata": {
    "collapsed": false
   },
   "outputs": [],
   "source": [
    "with open('data/het_zwevende_schaakbord.txt', encoding='utf-8') as infile:\n",
    "    text = infile.read()\n",
    "    \n",
    "text = text.replace(\"Gawein\", \"Leon\")\n",
    "\n",
    "with open('data/starring_me.txt', 'w', encoding='utf-8') as outfile:\n",
    "    outfile.write(text)"
   ]
  },
  {
   "cell_type": "markdown",
   "metadata": {},
   "source": [
    "-  Define a function sum() and a function multiply() that sums and multiplies (respectively) all the numbers in a list of numbers. For example, sum([1, 2, 3, 4]) should return 10, and multiply([1, 2, 3, 4]) should return 24.\n"
   ]
  },
  {
   "cell_type": "code",
   "execution_count": 14,
   "metadata": {
    "collapsed": false
   },
   "outputs": [
    {
     "name": "stdout",
     "output_type": "stream",
     "text": [
      "10\n",
      "24\n"
     ]
    }
   ],
   "source": [
    "def take_sum(numbers):\n",
    "    count = 0\n",
    "    for number in numbers:\n",
    "        count += number\n",
    "    return count\n",
    "\n",
    "def multiply(numbers):\n",
    "    count = 1\n",
    "    for number in numbers:\n",
    "        count *= number\n",
    "    return count\n",
    "\n",
    "print(take_sum([1,2,3,4]))\n",
    "print(multiply([1,2,3,4]))    "
   ]
  },
  {
   "cell_type": "markdown",
   "metadata": {},
   "source": [
    "-  A *hapax legomenon* (often abbreviated to hapax) is a word which occurs only once in either the written record of a language, the works of an author, or in a single text. Define a function that given the file name of a text will return all its hapaxes. Make sure your program ignores capitalization as well as punctuation (hint: check out `string.punctuation` online!). Try out the function on your Gutenberg book."
   ]
  },
  {
   "cell_type": "code",
   "execution_count": 35,
   "metadata": {
    "collapsed": false
   },
   "outputs": [
    {
     "data": {
      "text/plain": [
       "['gijen',\n",
       " 'winddoorwaaide',\n",
       " 'schimmel',\n",
       " 'altaar',\n",
       " 'vi',\n",
       " 'samenhangende',\n",
       " 'noordsche',\n",
       " 'bedropen',\n",
       " 'patroon',\n",
       " 'verderen',\n",
       " 'directly',\n",
       " 'licensed',\n",
       " 'dullere',\n",
       " 'kustte',\n",
       " 'twaalfom',\n",
       " 'xv',\n",
       " 'omgaanzeide',\n",
       " 'bogepoort',\n",
       " 'riddereeuw',\n",
       " 'vragend',\n",
       " 'gensters',\n",
       " 'goliaths',\n",
       " 'hongerig',\n",
       " 'zelfartur',\n",
       " 'vorm',\n",
       " 'apply',\n",
       " 'gevoelens',\n",
       " 'doorwandelt',\n",
       " 'huw',\n",
       " 'verdrinkende',\n",
       " 'reuzenburcht',\n",
       " 'uitgetogen',\n",
       " 'wadem',\n",
       " 'glooiend',\n",
       " 'gelatenen',\n",
       " 'gecirkeld',\n",
       " 'vluchtten',\n",
       " 'tooverenghiene',\n",
       " 'drilde',\n",
       " 'zeidet',\n",
       " 'hofvanminne',\n",
       " 'uitgeleide',\n",
       " 'gedivertier',\n",
       " 'beroerden',\n",
       " 'oorkussen',\n",
       " 'bezwaard',\n",
       " 'ontkennend',\n",
       " 'donkerbruine',\n",
       " 'ritselingen',\n",
       " 'omgeslagen',\n",
       " 'idealen',\n",
       " 'proofread',\n",
       " 'muile',\n",
       " 'daden',\n",
       " 'helmde',\n",
       " 'moeitevolle',\n",
       " 'gejosteerd',\n",
       " 'gewondene',\n",
       " 'special',\n",
       " 'winterdagen',\n",
       " 'omring',\n",
       " 'bloedige',\n",
       " 'wonderbedin',\n",
       " 'goudendraadblonde',\n",
       " 'glasreine',\n",
       " 'pelegrimage',\n",
       " 'verfijnde',\n",
       " 'apen',\n",
       " 'dikwerf',\n",
       " 'release',\n",
       " 'merkwaardig',\n",
       " 'aandoenlijkheid',\n",
       " 'rafels',\n",
       " 'stevigen',\n",
       " 'geluwenzwart',\n",
       " 'sonoorklinkende',\n",
       " 'ruwe',\n",
       " 'buchtplein',\n",
       " 'juweelachtige',\n",
       " 'noordwest',\n",
       " 'klagen',\n",
       " 'schrijft',\n",
       " 'wankel',\n",
       " 'stortregen',\n",
       " '809',\n",
       " 'wonderberg',\n",
       " 'meie',\n",
       " 'knielenden',\n",
       " 'duisternis',\n",
       " 'verstikkende',\n",
       " 'zèlve',\n",
       " 'vergevet',\n",
       " 'fantastischen',\n",
       " 'nest',\n",
       " 'onvoldaan',\n",
       " 'vrouweno',\n",
       " 'gehoorzaamde',\n",
       " 'verduidelijkt',\n",
       " 'current',\n",
       " 'aanbiddelijke',\n",
       " 'ontmoetende',\n",
       " 'bleekend',\n",
       " 'binnenbogen',\n",
       " 'mot',\n",
       " 'meet',\n",
       " 'scheelt',\n",
       " 'gruwzame',\n",
       " 'spansierde',\n",
       " 'contract',\n",
       " 'ruime',\n",
       " 'paternoster',\n",
       " 'getinkel',\n",
       " 'stichten',\n",
       " 'ontrouwvalleie',\n",
       " 'hahaha',\n",
       " 'rozenstruiken',\n",
       " 'bijstaan',\n",
       " 'staff',\n",
       " 'teleur',\n",
       " 'allergrootste',\n",
       " 'indirect',\n",
       " 'bedierf',\n",
       " 'mannesterk',\n",
       " 'gloeiend',\n",
       " 'glippen',\n",
       " 'exists',\n",
       " 'title',\n",
       " 'ontdedenwees',\n",
       " 'pages',\n",
       " 'herlas',\n",
       " 'onvoldane',\n",
       " 'onbereikbaar',\n",
       " 'testoyierende',\n",
       " 'schuddinge',\n",
       " 'masker',\n",
       " 'trademarkcopyright',\n",
       " 'constant',\n",
       " 'verdeeld',\n",
       " 'goudblonde',\n",
       " 'hoogeren',\n",
       " 'welriekende',\n",
       " 'afdoen',\n",
       " 'roland',\n",
       " 'gelige',\n",
       " 'duurden',\n",
       " 'verborg',\n",
       " 'stralenkrans',\n",
       " 'krijschte',\n",
       " 'tooverconsten',\n",
       " 'heug',\n",
       " 'omhelzing',\n",
       " 'schaterenden',\n",
       " 'lindegwinebant',\n",
       " 'omvat',\n",
       " 'zorgt',\n",
       " 'mengeling',\n",
       " 'schimmen',\n",
       " 'woordenrijke',\n",
       " 'zenuwen',\n",
       " 'mystiek',\n",
       " 'omgekeerde',\n",
       " 'tafelronderidderen',\n",
       " 'years',\n",
       " 'ontfronsende',\n",
       " 'muilen',\n",
       " 'menigertier',\n",
       " 'gesuis',\n",
       " 'tevreden',\n",
       " 'gedanst',\n",
       " 'secure',\n",
       " 'gegeten',\n",
       " 'ernstigste',\n",
       " 'heetten',\n",
       " 'elkanders',\n",
       " 'tooverkonst',\n",
       " 'vlies',\n",
       " 'duwieregewelfgeplant',\n",
       " 'edelheid',\n",
       " 'geopend',\n",
       " 'begeleidt',\n",
       " 'volstrekt',\n",
       " 'bloedig',\n",
       " 'weêrlicht',\n",
       " 'kwestie',\n",
       " 'nude',\n",
       " 'loeren',\n",
       " 'gevleugelde',\n",
       " 'beidende',\n",
       " 'theorieë',\n",
       " 'kelken',\n",
       " 'wakker',\n",
       " 'verhoghet',\n",
       " 'stervenden',\n",
       " 'moedeloos',\n",
       " 'bruiste',\n",
       " 'rondetafelzaal',\n",
       " 'reine',\n",
       " 'éven',\n",
       " 'goom',\n",
       " 'harige',\n",
       " 'waskaarsengloor',\n",
       " 'dringend',\n",
       " 'bete',\n",
       " 'weêrstonden',\n",
       " 'hear',\n",
       " 'aanzagen',\n",
       " 'aangeschoven',\n",
       " 'similaires2',\n",
       " 'gelokene',\n",
       " 'credit',\n",
       " 'heurer',\n",
       " 'drongende',\n",
       " 'angsten',\n",
       " 'aâm',\n",
       " 'serf',\n",
       " 'plaagde',\n",
       " 'overdadigen',\n",
       " 'trillend',\n",
       " 'weêrtrillerde',\n",
       " 'xii',\n",
       " 'louter',\n",
       " 'overvulden',\n",
       " 'rukkende',\n",
       " 'beweren',\n",
       " 'opstijgende',\n",
       " 'aandraven',\n",
       " 'strekt',\n",
       " 'veete',\n",
       " 'omhelzingen',\n",
       " 'wetenschapvanenghiene',\n",
       " 'schampval',\n",
       " 'vloekte',\n",
       " 'malvezij',\n",
       " 'scheppingen',\n",
       " 'scaecspelen',\n",
       " 'gefesteerd',\n",
       " 'kermend',\n",
       " 'zesendertig',\n",
       " 'klinkelden',\n",
       " 'letterkundemochten',\n",
       " 'woeling',\n",
       " 'samengestelde',\n",
       " 'aureolen',\n",
       " 'ommerond',\n",
       " 'groetend',\n",
       " 'doling',\n",
       " 'profits',\n",
       " 'bijgestaan',\n",
       " 'wazige',\n",
       " 'braken',\n",
       " 'drakezwadder',\n",
       " 'daverend',\n",
       " 'subscribe',\n",
       " 'pakken',\n",
       " 'vergierenomdat',\n",
       " 'klaarte',\n",
       " 'slapende',\n",
       " 'glansen',\n",
       " 'bloedend',\n",
       " 'lamp',\n",
       " 'luidt',\n",
       " 'schaakborden',\n",
       " 'believen',\n",
       " 'ingetoomde',\n",
       " 'verwant',\n",
       " 'onterven',\n",
       " 'hersens',\n",
       " 'grootspraak',\n",
       " '4557',\n",
       " 'ongedeerd',\n",
       " 'gestrengeld',\n",
       " 'xxvi',\n",
       " 'lijfsgevaarlijke',\n",
       " 'rein',\n",
       " 'ridderplaats',\n",
       " 'verschil',\n",
       " 'streelde',\n",
       " 'voordat',\n",
       " 'gezegen',\n",
       " 'verzonk',\n",
       " 'vertrouwende',\n",
       " 'arise',\n",
       " 'stribbelde',\n",
       " 'zwaardslag',\n",
       " 'wonderrijks',\n",
       " 'rijdt',\n",
       " 'dwaallichten',\n",
       " 'onvroô',\n",
       " 'hartenheer',\n",
       " 'baadde',\n",
       " 'plooien',\n",
       " 'overhielden',\n",
       " 'hinniken',\n",
       " 'spelevaren',\n",
       " 'getoeterd',\n",
       " 'mizerabel',\n",
       " 'awayyou',\n",
       " 'wippende',\n",
       " 'revenue',\n",
       " 'delging',\n",
       " 'aanstormen',\n",
       " 'beidt',\n",
       " 'wedijverden',\n",
       " 'uitstak',\n",
       " 'zelfder',\n",
       " 'alruime',\n",
       " 'geluidloos',\n",
       " 'innigste',\n",
       " 'montsalvat',\n",
       " 'guenevero',\n",
       " 'assistance',\n",
       " 'twetterde',\n",
       " 'paardjes',\n",
       " 'wreken',\n",
       " 'geschandvlekt',\n",
       " 'machte',\n",
       " 'diadiadiabbblerië',\n",
       " 'gedoken',\n",
       " 'koningde',\n",
       " 'gratefully',\n",
       " 'doorschicht',\n",
       " 'zijdeharige',\n",
       " 'vijandigen',\n",
       " 'dutch',\n",
       " 'addresses',\n",
       " 'gutenbergtms',\n",
       " 'aanbevolen',\n",
       " 'rampzalige',\n",
       " 'beloven',\n",
       " 'verkoort',\n",
       " 'schimmig',\n",
       " 'expense',\n",
       " 'gewonden',\n",
       " 'knechten',\n",
       " 'rhythme',\n",
       " 'volmaakt',\n",
       " 'overgeblevene',\n",
       " 'tegenstanders',\n",
       " 'beduusd',\n",
       " 'gevoel',\n",
       " 'ommetrek',\n",
       " 'schroeit',\n",
       " 'pg',\n",
       " 'finale',\n",
       " 'wimpelende',\n",
       " 'come',\n",
       " 'bitterlijk',\n",
       " 'veldheer',\n",
       " 'kyriëeleyson',\n",
       " 'however',\n",
       " 'ontloken',\n",
       " 'eerewoord',\n",
       " 'zilvergrijzen',\n",
       " 'require',\n",
       " 'gekwinkeleer',\n",
       " 'loste',\n",
       " 'duwde',\n",
       " 'gewei',\n",
       " 'verwelkomden',\n",
       " 'rateling',\n",
       " '31',\n",
       " 'rommel',\n",
       " 'festijn',\n",
       " 'veronveiligde',\n",
       " 'scattered',\n",
       " 'afgedaald',\n",
       " 'wanhoopgil',\n",
       " 'weêrschetterde',\n",
       " 'winden',\n",
       " 'harnas',\n",
       " 'elpenbeenblank',\n",
       " 'schaakbordniet',\n",
       " 'opgestelde',\n",
       " 'brekende',\n",
       " 'spant',\n",
       " 'vespermaal',\n",
       " 'ruiterijen',\n",
       " 'vlinderwieken',\n",
       " 'borduren',\n",
       " 'noodlottig',\n",
       " 'malvezijen',\n",
       " 'verduidelijkte',\n",
       " 'jongleur',\n",
       " 'oprechten',\n",
       " 'kunstig',\n",
       " 'toovertijden',\n",
       " 'gecompliceerde',\n",
       " 'treken',\n",
       " 'dàcht',\n",
       " 'verbroken',\n",
       " 'woonde',\n",
       " 'takes',\n",
       " 'rijdende',\n",
       " 'zonlachende',\n",
       " 'weldade',\n",
       " 'spannen',\n",
       " 'opstaande',\n",
       " 'cither',\n",
       " 'drakenstrijd',\n",
       " 'heldewapenen',\n",
       " 'gebeeldhouwd',\n",
       " 'herfstgeblaârte',\n",
       " 'geheimzinnigs',\n",
       " '20',\n",
       " 'keytief',\n",
       " 'blauwte',\n",
       " 'lotgevallen',\n",
       " 'optijgende',\n",
       " 'onvoleindigde',\n",
       " 'stormen',\n",
       " 'asch',\n",
       " 'brallende',\n",
       " 'merlinewaart',\n",
       " 'noemt',\n",
       " 'èn',\n",
       " 'stalgarsoen',\n",
       " 'behagelijk',\n",
       " 'beschrijvende',\n",
       " 'loopen',\n",
       " 'kritiek',\n",
       " 'straat',\n",
       " 'puilend',\n",
       " 'gehoudene',\n",
       " 'comfort',\n",
       " 'naïeftooverachtige',\n",
       " 'tooveren',\n",
       " 'feestmaal',\n",
       " 'dulle',\n",
       " 'misnoegd',\n",
       " 'gebeurt',\n",
       " 'bezweken',\n",
       " 'aardbeven',\n",
       " 'avonturenroman',\n",
       " 'ommelijn',\n",
       " 'zwartheid',\n",
       " 'blaamweerdige',\n",
       " 'waardigheid',\n",
       " '1f6',\n",
       " 'vergeeft',\n",
       " 'wervelwind',\n",
       " 'geslopen',\n",
       " 'beterschap',\n",
       " 'grillig',\n",
       " 'schedel',\n",
       " 'voordeed',\n",
       " 'onmiddellijk',\n",
       " 'kostelijk',\n",
       " 'voldoen',\n",
       " 'tenorelijk',\n",
       " 'hartelijk',\n",
       " 'hierom',\n",
       " 'vlijmende',\n",
       " 'baar',\n",
       " 'behoeft',\n",
       " 'dagrément',\n",
       " 'torentinnen',\n",
       " 'hinderlage',\n",
       " 'vloeit',\n",
       " 'ontslaakte',\n",
       " 'beenderen',\n",
       " 'vurigen',\n",
       " 'vergoeding',\n",
       " 'geplet',\n",
       " 'verzwegene',\n",
       " 'gebrom',\n",
       " 'wolkstapelingen',\n",
       " 'jammerkreet',\n",
       " 'eikenboomen',\n",
       " 'zwaardgevesten',\n",
       " 'xxii',\n",
       " 'extent',\n",
       " 'know',\n",
       " 'deduut',\n",
       " 'opzuigen',\n",
       " 'grammen',\n",
       " 'goudhel',\n",
       " 'subject',\n",
       " 'boordevol',\n",
       " 'aangezweemde',\n",
       " 'aanzetten',\n",
       " 'bewustzijnhet',\n",
       " 'veilig',\n",
       " 'verloofd',\n",
       " 'onwaardig',\n",
       " 'gesleept',\n",
       " 'ontzetting',\n",
       " 'oprolt',\n",
       " 'dichting',\n",
       " 'onzede',\n",
       " 'doodsomhelzing',\n",
       " 'natuur',\n",
       " 'blikkerden',\n",
       " 'beäamden',\n",
       " 'verrukking',\n",
       " 'zangers',\n",
       " 'gehandschoende',\n",
       " 'juichen',\n",
       " 'bewonderden',\n",
       " 'joghet',\n",
       " 'versperrende',\n",
       " 'zegevierend',\n",
       " 'twaalftalach',\n",
       " 'werve',\n",
       " 'grootvâ',\n",
       " 'samensprake',\n",
       " 'gebootst',\n",
       " 'uitdrukt',\n",
       " 'moèt',\n",
       " 'marteltuig',\n",
       " 'sterretjes',\n",
       " 'verweerd',\n",
       " 'urenen',\n",
       " 'onkruid',\n",
       " 'karbonkelen',\n",
       " 'starredoorlichte',\n",
       " 'vogelvluchtgril',\n",
       " 'joeste',\n",
       " 'robijndoorvlochten',\n",
       " 'hoore',\n",
       " 'stommelde',\n",
       " 'kwaad',\n",
       " 'windesnel',\n",
       " 'grilligweg',\n",
       " 'zettende',\n",
       " 'onbehagelijk',\n",
       " 'geflamboyeer',\n",
       " 'boomenkruinen',\n",
       " 'dragen',\n",
       " 'grootst',\n",
       " 'snoeperij',\n",
       " 'springt',\n",
       " 'engelengeluid',\n",
       " 'jubelende',\n",
       " 'woest',\n",
       " 'appelebloesems',\n",
       " 'stemming',\n",
       " 'occur',\n",
       " 'hymne',\n",
       " 'smette',\n",
       " 'pijpen',\n",
       " 'edelheden',\n",
       " 'rozentuin',\n",
       " 'verjeugdigt',\n",
       " 'walks',\n",
       " 'noordhumbersche',\n",
       " 'uitvaart',\n",
       " 'hoû',\n",
       " 'weêrklinken',\n",
       " 'drukkerij',\n",
       " 'onvergelijklijke',\n",
       " 'vorstelijke',\n",
       " 'tangetjes',\n",
       " 'ongerept',\n",
       " 'blozende',\n",
       " 'discovered',\n",
       " '30',\n",
       " 'riddersvanaventuren',\n",
       " 'zonnen',\n",
       " 'handeling',\n",
       " 'gesticht',\n",
       " 'uitkeken',\n",
       " 'liefdeangst',\n",
       " 'stijging',\n",
       " 'eiland',\n",
       " 'geneest',\n",
       " 'eensgezinde',\n",
       " 'bladerlooze',\n",
       " 'berust',\n",
       " 'raderende',\n",
       " 'gesneden',\n",
       " 'waartoe',\n",
       " 'burchtwaarts',\n",
       " 'baren',\n",
       " 'brokkelende',\n",
       " 'situatie',\n",
       " 'xxxii',\n",
       " 'majesteitelijke',\n",
       " 'weêrtrilde',\n",
       " 'aanbinden',\n",
       " 'schaterlachende',\n",
       " 'bekken',\n",
       " 'imposed',\n",
       " 'tuitinge',\n",
       " 'verbijsterd',\n",
       " 'heldenfeit',\n",
       " 'slappere',\n",
       " 'zwaarmoedigste',\n",
       " 'ontvingt',\n",
       " 'genadigen',\n",
       " 'tochtje',\n",
       " 'zwammen',\n",
       " 'namiddaggeluchte',\n",
       " 'vergezelde',\n",
       " 'haastten',\n",
       " 'binnenhof',\n",
       " 'verkleedden',\n",
       " 'herdruk',\n",
       " 'wastwijfel',\n",
       " 'verlangtmooie',\n",
       " 'dapperste',\n",
       " 'hoopt',\n",
       " 'grottige',\n",
       " 'watere',\n",
       " 'vult',\n",
       " 'tooverschaakbord',\n",
       " 'dampend',\n",
       " 'sla',\n",
       " 'zwierige',\n",
       " 'vuren',\n",
       " 'bemin',\n",
       " 'gerammel',\n",
       " 'hard',\n",
       " 'dden',\n",
       " 'heldhaftige',\n",
       " 'detach',\n",
       " 'feestelijk',\n",
       " 'letterkunde',\n",
       " 'geluisterd',\n",
       " 'loome',\n",
       " 'allervreeslijkste',\n",
       " 'beefden',\n",
       " 'leek',\n",
       " 'lectuur',\n",
       " 'afgeijld',\n",
       " 'slope',\n",
       " 'verdolgen',\n",
       " 'gaffel',\n",
       " 'ongehelmd',\n",
       " 'zinnelooze',\n",
       " 'spelonken',\n",
       " 'anderzins',\n",
       " 'halzen',\n",
       " 'jongens',\n",
       " 'mississippi',\n",
       " 'opgehaald',\n",
       " 'exporting',\n",
       " 'kwinkeleeren',\n",
       " 'gracelijk',\n",
       " 'verbazen',\n",
       " 'questes',\n",
       " 'gelijke',\n",
       " 'while',\n",
       " 'liezen',\n",
       " 'lazuur',\n",
       " 'bastaardieën',\n",
       " 'pluimen',\n",
       " 'kathedraalachtigen',\n",
       " 'vingerwijzing',\n",
       " 'handeke',\n",
       " 'dròomt',\n",
       " 'representations',\n",
       " 'waterstroom',\n",
       " 'especially',\n",
       " 'kòn',\n",
       " 'newby',\n",
       " 'vluchtens',\n",
       " 'tooverdroomen',\n",
       " 'remain',\n",
       " 'denkende',\n",
       " 'schemeren',\n",
       " 'onridderlijke',\n",
       " 'bestoken',\n",
       " 'verscheurenden',\n",
       " 'bescherme',\n",
       " 'proper',\n",
       " 'effectvolle',\n",
       " 'beschaafden',\n",
       " 'doordringende',\n",
       " 'bereden',\n",
       " 'minnekranke',\n",
       " 'drenken',\n",
       " 'droomeweb',\n",
       " 'kliefde',\n",
       " 'koosmet',\n",
       " 'mantelslip',\n",
       " 'wijch',\n",
       " 'beste',\n",
       " 'groeteden',\n",
       " 'geschaduw',\n",
       " 'group',\n",
       " 'overnachten',\n",
       " 'aanvloog',\n",
       " 'naarmate',\n",
       " 'vierentwintig',\n",
       " 'ontmaliën',\n",
       " 'vijandelijken',\n",
       " 'keltisch',\n",
       " 'veropenbaarden',\n",
       " 'schoonvaderlace',\n",
       " 'ingeving',\n",
       " 'ontschaakten',\n",
       " 'behoefdet',\n",
       " 'allerdappersten',\n",
       " 'openbaarde',\n",
       " 'àlle',\n",
       " 'opent',\n",
       " 'jongstige',\n",
       " 'tooverkijkers',\n",
       " 'speelsters',\n",
       " 'pralende',\n",
       " 'list',\n",
       " 'bepeinsden',\n",
       " 'wàs',\n",
       " 'aansluiting',\n",
       " 'overheerscht',\n",
       " 'geschenen',\n",
       " 'meen',\n",
       " 'gekabbeld',\n",
       " 'downloading',\n",
       " 'gejoel',\n",
       " 'jenover',\n",
       " 'jezus',\n",
       " 'gesperd',\n",
       " 'innig',\n",
       " 'dorrende',\n",
       " 'vrouwzij',\n",
       " 'allenzij',\n",
       " 'ruischt',\n",
       " 'afwendde',\n",
       " 'pasteien',\n",
       " 'reppen',\n",
       " 'barrevoets',\n",
       " 'spread',\n",
       " 'verzichtbaarde',\n",
       " 'ierland',\n",
       " 'schertste',\n",
       " 'wapperende',\n",
       " 'wet',\n",
       " 'tinne',\n",
       " 'rechterzijde',\n",
       " 'sterveal',\n",
       " '148508zip',\n",
       " 'straf',\n",
       " 'gruwzaam',\n",
       " 'jagers',\n",
       " 'merlijnwat',\n",
       " 'schoppenheerwij',\n",
       " 'gauvain',\n",
       " 'welstand',\n",
       " 'ieders',\n",
       " 'gewiekten',\n",
       " 'belt',\n",
       " 'avontuur',\n",
       " 'compilation',\n",
       " 'getint',\n",
       " 'verwachting',\n",
       " 'schurk',\n",
       " 'begeerdet',\n",
       " 'nachtelijke',\n",
       " 'sturende',\n",
       " 'vernemen',\n",
       " 'huiveringwekkende',\n",
       " 'vervolg',\n",
       " 'gestraft',\n",
       " 'long',\n",
       " 'doorzweven',\n",
       " 'wereldbibliotheek',\n",
       " 'spellen',\n",
       " 'lieflijker',\n",
       " 'dageraad',\n",
       " 'machtiger',\n",
       " 'gele',\n",
       " 'knapebuis',\n",
       " 'duwden',\n",
       " 'instant',\n",
       " 'faelgieren',\n",
       " 'omvatte',\n",
       " 'naamechos',\n",
       " 'bedachtzaam',\n",
       " 'uitstralenden',\n",
       " 'boogramen',\n",
       " 'ontplofte',\n",
       " 'director',\n",
       " 'schemeravonden',\n",
       " 'afgestormd',\n",
       " 'klétst',\n",
       " 'verdiend',\n",
       " 'synonymous',\n",
       " 'calculate',\n",
       " 'oorkleppen',\n",
       " 'gezichteke',\n",
       " 'chrestiens',\n",
       " 'rezen',\n",
       " 'schonk',\n",
       " 'pretentie',\n",
       " 'dappersten',\n",
       " 'sylfestemmen',\n",
       " 'north',\n",
       " 'kindeke',\n",
       " 'noodiginge',\n",
       " 'verhieven',\n",
       " 'slachterij',\n",
       " 'winter',\n",
       " 'wollige',\n",
       " 'dierbaarste',\n",
       " 'poëzie',\n",
       " 'heksen',\n",
       " 'luidop',\n",
       " 'tref',\n",
       " 'ademende',\n",
       " 'mysterievolle',\n",
       " 'viool',\n",
       " 'sending',\n",
       " 'loyaal',\n",
       " 'elementen',\n",
       " 'verwekken',\n",
       " 'geleefd',\n",
       " 'uitluisterde',\n",
       " 'achterzijde',\n",
       " 'indirectly',\n",
       " 'vreezende',\n",
       " 'broed',\n",
       " 'vrouwehand',\n",
       " 'vermoeienisse',\n",
       " 'fonteinen',\n",
       " 'zoetkens',\n",
       " 'zwemmende',\n",
       " 'noorden',\n",
       " 'puntbaardje',\n",
       " 'blatend',\n",
       " 'bladerenweefsels',\n",
       " 'vlamt',\n",
       " 'payeinsche',\n",
       " 'oorverdoovend',\n",
       " 'indien',\n",
       " 'kortelings',\n",
       " 'kinderespel',\n",
       " 'melk',\n",
       " 'prikke',\n",
       " 'voorspelde',\n",
       " 'beschermden',\n",
       " 'naloopen',\n",
       " 'morgenzon',\n",
       " 'meendenhad',\n",
       " 'murmelt',\n",
       " 'voorzichtigheid',\n",
       " 'genadigzich',\n",
       " 'huns',\n",
       " 'gespreks',\n",
       " 'amijswandelt',\n",
       " 'thirty',\n",
       " 'oprecht',\n",
       " 'vloeien',\n",
       " 'hinde',\n",
       " 'ziedend',\n",
       " 'verrassen',\n",
       " 'verborgen',\n",
       " 'often',\n",
       " 'borstel',\n",
       " 'internal',\n",
       " 'dags',\n",
       " 'deken',\n",
       " 'gemaals',\n",
       " 'geestesoogen',\n",
       " 'vigelië',\n",
       " 'knielende',\n",
       " 'ijzerzuchtig',\n",
       " 'beheerschtenuit',\n",
       " 'opvingt',\n",
       " 'abide',\n",
       " 'beid',\n",
       " 'sagremart',\n",
       " 'types',\n",
       " 'gevoeld',\n",
       " 'onverschilligheid',\n",
       " 'gevlucht',\n",
       " 'klokskens',\n",
       " 'gevang',\n",
       " 'hardop',\n",
       " 'vermoogt',\n",
       " 'zekerder',\n",
       " 'accessed',\n",
       " 'worde',\n",
       " 'beweeg',\n",
       " 'monotone',\n",
       " 'vrouwruggetje',\n",
       " 'afgeraakt',\n",
       " 'inaccurate',\n",
       " 'xxv',\n",
       " 'diepte',\n",
       " 'watergeesten',\n",
       " 'rammelende',\n",
       " 'organized',\n",
       " 'troje',\n",
       " 'brommen',\n",
       " 'aanzienlijke',\n",
       " 'wondermeesters',\n",
       " 'spitsere',\n",
       " 'verlossenuit',\n",
       " 'sluitende',\n",
       " 'gevalt',\n",
       " 'overtuigdzal',\n",
       " 'genadig',\n",
       " 'hoofdpoort',\n",
       " 'strooms',\n",
       " 'aanstaande',\n",
       " 'beemde',\n",
       " 'mid',\n",
       " 'gebeest',\n",
       " 'riemen',\n",
       " 'lectuuramsterdam',\n",
       " 'main',\n",
       " 'opsloten',\n",
       " 'harten',\n",
       " 'opstaan',\n",
       " 'dreigende',\n",
       " 'depends',\n",
       " 'genoegelijken',\n",
       " 'korter',\n",
       " 'dddààr',\n",
       " 'afwachtende',\n",
       " '1e4',\n",
       " 'hoffelijkheid',\n",
       " 'thus',\n",
       " 'onwijze',\n",
       " 'vervolgden',\n",
       " 'afglooide',\n",
       " 'homeros',\n",
       " 'maretwijg',\n",
       " 'jagerhoornen',\n",
       " 'skelet',\n",
       " 'nicht',\n",
       " 'blijkt',\n",
       " 'verscheidde',\n",
       " 'modified',\n",
       " 'sluipen',\n",
       " 'vluggeren',\n",
       " 'herboren',\n",
       " 'veroveren',\n",
       " 'pijlrecht',\n",
       " 'àlles',\n",
       " 'ontzagwekkend',\n",
       " 'gegeven',\n",
       " 'statiekleederen',\n",
       " 'whom',\n",
       " 'opsomming',\n",
       " 'zucht',\n",
       " 'smarten',\n",
       " 'huishoudingfijnere',\n",
       " 'zwakste',\n",
       " 'morgeneenzaamheid',\n",
       " 'noodlottigheid',\n",
       " 'euvels',\n",
       " 'ordineertzij',\n",
       " 'aanbidden',\n",
       " 'pelgrimagië',\n",
       " 'besluiten',\n",
       " 'vertier',\n",
       " 'behaagziekjes',\n",
       " 'edoch',\n",
       " 'bespiedden',\n",
       " 'gepeisd',\n",
       " 'voettrede',\n",
       " 'wapenene',\n",
       " 'marteling',\n",
       " 'lentegepeise',\n",
       " 'beroering',\n",
       " 'vorstelijkheid',\n",
       " 'reuzegesnork',\n",
       " 'tandloozen',\n",
       " 'klaardere',\n",
       " 'juichenden',\n",
       " 'zongouddoorpoeierde',\n",
       " 'vurige',\n",
       " 'onderdrukte',\n",
       " 'granted',\n",
       " 'mallen',\n",
       " 'tièn',\n",
       " 'ondeugd',\n",
       " 'hadin',\n",
       " 'kannen',\n",
       " 'krkk',\n",
       " 'gouddraadblond',\n",
       " 'ritseldeen',\n",
       " 'geknotten',\n",
       " 'spijs',\n",
       " 'val',\n",
       " 'purperen',\n",
       " 'wijzen',\n",
       " 'gepeizen',\n",
       " 'hekken',\n",
       " 'v',\n",
       " 'keffertjes',\n",
       " 'machteloos',\n",
       " 'wonderbedden',\n",
       " 'gekreun',\n",
       " 'vruchten',\n",
       " 'troffen',\n",
       " 'pleegt',\n",
       " 'bonsden',\n",
       " 'geheetenhem',\n",
       " 'eik',\n",
       " 'helena',\n",
       " 'metaalschel',\n",
       " 'algemeene',\n",
       " 'ontstellen',\n",
       " 'edelheeren',\n",
       " 'dichtere',\n",
       " 'bewees',\n",
       " 'confirmation',\n",
       " ...]"
      ]
     },
     "execution_count": 35,
     "metadata": {},
     "output_type": "execute_result"
    }
   ],
   "source": [
    "from collections import Counter\n",
    "import re\n",
    "\n",
    "def hapax(filename, n=1):\n",
    "    \"\"\"Gives a list of hapax legomena in a specified file\"\"\"\n",
    "    with open(filename, encoding='utf-8') as infile:\n",
    "        text = infile.read()\n",
    "        \n",
    "    text = re.sub(\"[!\\\"#$%&'()*+,-./:;<=>?@[\\]^_`{|}~]\", \"\", text.lower())    \n",
    "    d = Counter(text.split())\n",
    "    \n",
    "    hapaxlist = [k for k,v in d.items() if v == n]\n",
    "    return hapaxlist\n",
    "    \n",
    "hapax('data/het_zwevende_schaakbord.txt')"
   ]
  },
  {
   "cell_type": "markdown",
   "metadata": {},
   "source": [
    "- Inside the same module as the previous exercise (i.e. a file that ends in `.py`), create two additional functions: one that spots 'hapaxes dislegomena' (words occuring only twice) and one that spots 'hapaxes trislegomena' (words occuring only three times) in a text file. Now import these functions in another, standalone script and call all three functions from there. Again, try them out on your Gutenberg-file."
   ]
  },
  {
   "cell_type": "code",
   "execution_count": 38,
   "metadata": {
    "collapsed": false
   },
   "outputs": [
    {
     "name": "stdout",
     "output_type": "stream",
     "text": [
      "['gijen', 'winddoorwaaide', 'schimmel', 'altaar', 'vi', 'samenhangende', 'noordsche', 'bedropen', 'patroon', 'verderen', 'directly', 'licensed', 'dullere', 'kustte', 'twaalfom', 'xv', 'omgaanzeide', 'bogepoort', 'riddereeuw', 'vragend', 'gensters', 'goliaths', 'hongerig', 'zelfartur', 'vorm', 'apply', 'gevoelens', 'doorwandelt', 'huw', 'verdrinkende', 'reuzenburcht', 'uitgetogen', 'wadem', 'glooiend', 'gelatenen', 'gecirkeld', 'vluchtten', 'tooverenghiene', 'drilde', 'zeidet', 'hofvanminne', 'uitgeleide', 'gedivertier', 'beroerden', 'oorkussen', 'bezwaard', 'ontkennend', 'donkerbruine', 'ritselingen', 'omgeslagen', 'idealen', 'proofread', 'muile', 'daden', 'helmde', 'moeitevolle', 'gejosteerd', 'gewondene', 'special', 'winterdagen', 'omring', 'bloedige', 'wonderbedin', 'goudendraadblonde', 'glasreine', 'pelegrimage', 'verfijnde', 'apen', 'dikwerf', 'release', 'merkwaardig', 'aandoenlijkheid', 'rafels', 'stevigen', 'geluwenzwart', 'sonoorklinkende', 'ruwe', 'buchtplein', 'juweelachtige', 'noordwest', 'klagen', 'schrijft', 'wankel', 'stortregen', '809', 'wonderberg', 'meie', 'knielenden', 'duisternis', 'verstikkende', 'zèlve', 'vergevet', 'fantastischen', 'nest', 'onvoldaan', 'vrouweno', 'gehoorzaamde', 'verduidelijkt', 'current', 'aanbiddelijke', 'ontmoetende', 'bleekend', 'binnenbogen', 'mot', 'meet', 'scheelt', 'gruwzame', 'spansierde', 'contract', 'ruime', 'paternoster', 'getinkel', 'stichten', 'ontrouwvalleie', 'hahaha', 'rozenstruiken', 'bijstaan', 'staff', 'teleur', 'allergrootste', 'indirect', 'bedierf', 'mannesterk', 'gloeiend', 'glippen', 'exists', 'title', 'ontdedenwees', 'pages', 'herlas', 'onvoldane', 'onbereikbaar', 'testoyierende', 'schuddinge', 'masker', 'trademarkcopyright', 'constant', 'verdeeld', 'goudblonde', 'hoogeren', 'welriekende', 'afdoen', 'roland', 'gelige', 'duurden', 'verborg', 'stralenkrans', 'krijschte', 'tooverconsten', 'heug', 'omhelzing', 'schaterenden', 'lindegwinebant', 'omvat', 'zorgt', 'mengeling', 'schimmen', 'woordenrijke', 'zenuwen', 'mystiek', 'omgekeerde', 'tafelronderidderen', 'years', 'ontfronsende', 'muilen', 'menigertier', 'gesuis', 'tevreden', 'gedanst', 'secure', 'gegeten', 'ernstigste', 'heetten', 'elkanders', 'tooverkonst', 'vlies', 'duwieregewelfgeplant', 'edelheid', 'geopend', 'begeleidt', 'volstrekt', 'bloedig', 'weêrlicht', 'kwestie', 'nude', 'loeren', 'gevleugelde', 'beidende', 'theorieë', 'kelken', 'wakker', 'verhoghet', 'stervenden', 'moedeloos', 'bruiste', 'rondetafelzaal', 'reine', 'éven', 'goom', 'harige', 'waskaarsengloor', 'dringend', 'bete', 'weêrstonden', 'hear', 'aanzagen', 'aangeschoven', 'similaires2', 'gelokene', 'credit', 'heurer', 'drongende', 'angsten', 'aâm', 'serf', 'plaagde', 'overdadigen', 'trillend', 'weêrtrillerde', 'xii', 'louter', 'overvulden', 'rukkende', 'beweren', 'opstijgende', 'aandraven', 'strekt', 'veete', 'omhelzingen', 'wetenschapvanenghiene', 'schampval', 'vloekte', 'malvezij', 'scheppingen', 'scaecspelen', 'gefesteerd', 'kermend', 'zesendertig', 'klinkelden', 'letterkundemochten', 'woeling', 'samengestelde', 'aureolen', 'ommerond', 'groetend', 'doling', 'profits', 'bijgestaan', 'wazige', 'braken', 'drakezwadder', 'daverend', 'subscribe', 'pakken', 'vergierenomdat', 'klaarte', 'slapende', 'glansen', 'bloedend', 'lamp', 'luidt', 'schaakborden', 'believen', 'ingetoomde', 'verwant', 'onterven', 'hersens', 'grootspraak', '4557', 'ongedeerd', 'gestrengeld', 'xxvi', 'lijfsgevaarlijke', 'rein', 'ridderplaats', 'verschil', 'streelde', 'voordat', 'gezegen', 'verzonk', 'vertrouwende', 'arise', 'stribbelde', 'zwaardslag', 'wonderrijks', 'rijdt', 'dwaallichten', 'onvroô', 'hartenheer', 'baadde', 'plooien', 'overhielden', 'hinniken', 'spelevaren', 'getoeterd', 'mizerabel', 'awayyou', 'wippende', 'revenue', 'delging', 'aanstormen', 'beidt', 'wedijverden', 'uitstak', 'zelfder', 'alruime', 'geluidloos', 'innigste', 'montsalvat', 'guenevero', 'assistance', 'twetterde', 'paardjes', 'wreken', 'geschandvlekt', 'machte', 'diadiadiabbblerië', 'gedoken', 'koningde', 'gratefully', 'doorschicht', 'zijdeharige', 'vijandigen', 'dutch', 'addresses', 'gutenbergtms', 'aanbevolen', 'rampzalige', 'beloven', 'verkoort', 'schimmig', 'expense', 'gewonden', 'knechten', 'rhythme', 'volmaakt', 'overgeblevene', 'tegenstanders', 'beduusd', 'gevoel', 'ommetrek', 'schroeit', 'pg', 'finale', 'wimpelende', 'come', 'bitterlijk', 'veldheer', 'kyriëeleyson', 'however', 'ontloken', 'eerewoord', 'zilvergrijzen', 'require', 'gekwinkeleer', 'loste', 'duwde', 'gewei', 'verwelkomden', 'rateling', '31', 'rommel', 'festijn', 'veronveiligde', 'scattered', 'afgedaald', 'wanhoopgil', 'weêrschetterde', 'winden', 'harnas', 'elpenbeenblank', 'schaakbordniet', 'opgestelde', 'brekende', 'spant', 'vespermaal', 'ruiterijen', 'vlinderwieken', 'borduren', 'noodlottig', 'malvezijen', 'verduidelijkte', 'jongleur', 'oprechten', 'kunstig', 'toovertijden', 'gecompliceerde', 'treken', 'dàcht', 'verbroken', 'woonde', 'takes', 'rijdende', 'zonlachende', 'weldade', 'spannen', 'opstaande', 'cither', 'drakenstrijd', 'heldewapenen', 'gebeeldhouwd', 'herfstgeblaârte', 'geheimzinnigs', '20', 'keytief', 'blauwte', 'lotgevallen', 'optijgende', 'onvoleindigde', 'stormen', 'asch', 'brallende', 'merlinewaart', 'noemt', 'èn', 'stalgarsoen', 'behagelijk', 'beschrijvende', 'loopen', 'kritiek', 'straat', 'puilend', 'gehoudene', 'comfort', 'naïeftooverachtige', 'tooveren', 'feestmaal', 'dulle', 'misnoegd', 'gebeurt', 'bezweken', 'aardbeven', 'avonturenroman', 'ommelijn', 'zwartheid', 'blaamweerdige', 'waardigheid', '1f6', 'vergeeft', 'wervelwind', 'geslopen', 'beterschap', 'grillig', 'schedel', 'voordeed', 'onmiddellijk', 'kostelijk', 'voldoen', 'tenorelijk', 'hartelijk', 'hierom', 'vlijmende', 'baar', 'behoeft', 'dagrément', 'torentinnen', 'hinderlage', 'vloeit', 'ontslaakte', 'beenderen', 'vurigen', 'vergoeding', 'geplet', 'verzwegene', 'gebrom', 'wolkstapelingen', 'jammerkreet', 'eikenboomen', 'zwaardgevesten', 'xxii', 'extent', 'know', 'deduut', 'opzuigen', 'grammen', 'goudhel', 'subject', 'boordevol', 'aangezweemde', 'aanzetten', 'bewustzijnhet', 'veilig', 'verloofd', 'onwaardig', 'gesleept', 'ontzetting', 'oprolt', 'dichting', 'onzede', 'doodsomhelzing', 'natuur', 'blikkerden', 'beäamden', 'verrukking', 'zangers', 'gehandschoende', 'juichen', 'bewonderden', 'joghet', 'versperrende', 'zegevierend', 'twaalftalach', 'werve', 'grootvâ', 'samensprake', 'gebootst', 'uitdrukt', 'moèt', 'marteltuig', 'sterretjes', 'verweerd', 'urenen', 'onkruid', 'karbonkelen', 'starredoorlichte', 'vogelvluchtgril', 'joeste', 'robijndoorvlochten', 'hoore', 'stommelde', 'kwaad', 'windesnel', 'grilligweg', 'zettende', 'onbehagelijk', 'geflamboyeer', 'boomenkruinen', 'dragen', 'grootst', 'snoeperij', 'springt', 'engelengeluid', 'jubelende', 'woest', 'appelebloesems', 'stemming', 'occur', 'hymne', 'smette', 'pijpen', 'edelheden', 'rozentuin', 'verjeugdigt', 'walks', 'noordhumbersche', 'uitvaart', 'hoû', 'weêrklinken', 'drukkerij', 'onvergelijklijke', 'vorstelijke', 'tangetjes', 'ongerept', 'blozende', 'discovered', '30', 'riddersvanaventuren', 'zonnen', 'handeling', 'gesticht', 'uitkeken', 'liefdeangst', 'stijging', 'eiland', 'geneest', 'eensgezinde', 'bladerlooze', 'berust', 'raderende', 'gesneden', 'waartoe', 'burchtwaarts', 'baren', 'brokkelende', 'situatie', 'xxxii', 'majesteitelijke', 'weêrtrilde', 'aanbinden', 'schaterlachende', 'bekken', 'imposed', 'tuitinge', 'verbijsterd', 'heldenfeit', 'slappere', 'zwaarmoedigste', 'ontvingt', 'genadigen', 'tochtje', 'zwammen', 'namiddaggeluchte', 'vergezelde', 'haastten', 'binnenhof', 'verkleedden', 'herdruk', 'wastwijfel', 'verlangtmooie', 'dapperste', 'hoopt', 'grottige', 'watere', 'vult', 'tooverschaakbord', 'dampend', 'sla', 'zwierige', 'vuren', 'bemin', 'gerammel', 'hard', 'dden', 'heldhaftige', 'detach', 'feestelijk', 'letterkunde', 'geluisterd', 'loome', 'allervreeslijkste', 'beefden', 'leek', 'lectuur', 'afgeijld', 'slope', 'verdolgen', 'gaffel', 'ongehelmd', 'zinnelooze', 'spelonken', 'anderzins', 'halzen', 'jongens', 'mississippi', 'opgehaald', 'exporting', 'kwinkeleeren', 'gracelijk', 'verbazen', 'questes', 'gelijke', 'while', 'liezen', 'lazuur', 'bastaardieën', 'pluimen', 'kathedraalachtigen', 'vingerwijzing', 'handeke', 'dròomt', 'representations', 'waterstroom', 'especially', 'kòn', 'newby', 'vluchtens', 'tooverdroomen', 'remain', 'denkende', 'schemeren', 'onridderlijke', 'bestoken', 'verscheurenden', 'bescherme', 'proper', 'effectvolle', 'beschaafden', 'doordringende', 'bereden', 'minnekranke', 'drenken', 'droomeweb', 'kliefde', 'koosmet', 'mantelslip', 'wijch', 'beste', 'groeteden', 'geschaduw', 'group', 'overnachten', 'aanvloog', 'naarmate', 'vierentwintig', 'ontmaliën', 'vijandelijken', 'keltisch', 'veropenbaarden', 'schoonvaderlace', 'ingeving', 'ontschaakten', 'behoefdet', 'allerdappersten', 'openbaarde', 'àlle', 'opent', 'jongstige', 'tooverkijkers', 'speelsters', 'pralende', 'list', 'bepeinsden', 'wàs', 'aansluiting', 'overheerscht', 'geschenen', 'meen', 'gekabbeld', 'downloading', 'gejoel', 'jenover', 'jezus', 'gesperd', 'innig', 'dorrende', 'vrouwzij', 'allenzij', 'ruischt', 'afwendde', 'pasteien', 'reppen', 'barrevoets', 'spread', 'verzichtbaarde', 'ierland', 'schertste', 'wapperende', 'wet', 'tinne', 'rechterzijde', 'sterveal', '148508zip', 'straf', 'gruwzaam', 'jagers', 'merlijnwat', 'schoppenheerwij', 'gauvain', 'welstand', 'ieders', 'gewiekten', 'belt', 'avontuur', 'compilation', 'getint', 'verwachting', 'schurk', 'begeerdet', 'nachtelijke', 'sturende', 'vernemen', 'huiveringwekkende', 'vervolg', 'gestraft', 'long', 'doorzweven', 'wereldbibliotheek', 'spellen', 'lieflijker', 'dageraad', 'machtiger', 'gele', 'knapebuis', 'duwden', 'instant', 'faelgieren', 'omvatte', 'naamechos', 'bedachtzaam', 'uitstralenden', 'boogramen', 'ontplofte', 'director', 'schemeravonden', 'afgestormd', 'klétst', 'verdiend', 'synonymous', 'calculate', 'oorkleppen', 'gezichteke', 'chrestiens', 'rezen', 'schonk', 'pretentie', 'dappersten', 'sylfestemmen', 'north', 'kindeke', 'noodiginge', 'verhieven', 'slachterij', 'winter', 'wollige', 'dierbaarste', 'poëzie', 'heksen', 'luidop', 'tref', 'ademende', 'mysterievolle', 'viool', 'sending', 'loyaal', 'elementen', 'verwekken', 'geleefd', 'uitluisterde', 'achterzijde', 'indirectly', 'vreezende', 'broed', 'vrouwehand', 'vermoeienisse', 'fonteinen', 'zoetkens', 'zwemmende', 'noorden', 'puntbaardje', 'blatend', 'bladerenweefsels', 'vlamt', 'payeinsche', 'oorverdoovend', 'indien', 'kortelings', 'kinderespel', 'melk', 'prikke', 'voorspelde', 'beschermden', 'naloopen', 'morgenzon', 'meendenhad', 'murmelt', 'voorzichtigheid', 'genadigzich', 'huns', 'gespreks', 'amijswandelt', 'thirty', 'oprecht', 'vloeien', 'hinde', 'ziedend', 'verrassen', 'verborgen', 'often', 'borstel', 'internal', 'dags', 'deken', 'gemaals', 'geestesoogen', 'vigelië', 'knielende', 'ijzerzuchtig', 'beheerschtenuit', 'opvingt', 'abide', 'beid', 'sagremart', 'types', 'gevoeld', 'onverschilligheid', 'gevlucht', 'klokskens', 'gevang', 'hardop', 'vermoogt', 'zekerder', 'accessed', 'worde', 'beweeg', 'monotone', 'vrouwruggetje', 'afgeraakt', 'inaccurate', 'xxv', 'diepte', 'watergeesten', 'rammelende', 'organized', 'troje', 'brommen', 'aanzienlijke', 'wondermeesters', 'spitsere', 'verlossenuit', 'sluitende', 'gevalt', 'overtuigdzal', 'genadig', 'hoofdpoort', 'strooms', 'aanstaande', 'beemde', 'mid', 'gebeest', 'riemen', 'lectuuramsterdam', 'main', 'opsloten', 'harten', 'opstaan', 'dreigende', 'depends', 'genoegelijken', 'korter', 'dddààr', 'afwachtende', '1e4', 'hoffelijkheid', 'thus', 'onwijze', 'vervolgden', 'afglooide', 'homeros', 'maretwijg', 'jagerhoornen', 'skelet', 'nicht', 'blijkt', 'verscheidde', 'modified', 'sluipen', 'vluggeren', 'herboren', 'veroveren', 'pijlrecht', 'àlles', 'ontzagwekkend', 'gegeven', 'statiekleederen', 'whom', 'opsomming', 'zucht', 'smarten', 'huishoudingfijnere', 'zwakste', 'morgeneenzaamheid', 'noodlottigheid', 'euvels', 'ordineertzij', 'aanbidden', 'pelgrimagië', 'besluiten', 'vertier', 'behaagziekjes', 'edoch', 'bespiedden', 'gepeisd', 'voettrede', 'wapenene', 'marteling', 'lentegepeise', 'beroering', 'vorstelijkheid', 'reuzegesnork', 'tandloozen', 'klaardere', 'juichenden', 'zongouddoorpoeierde', 'vurige', 'onderdrukte', 'granted', 'mallen', 'tièn', 'ondeugd', 'hadin', 'kannen', 'krkk', 'gouddraadblond', 'ritseldeen', 'geknotten', 'spijs', 'val', 'purperen', 'wijzen', 'gepeizen', 'hekken', 'v', 'keffertjes', 'machteloos', 'wonderbedden', 'gekreun', 'vruchten', 'troffen', 'pleegt', 'bonsden', 'geheetenhem', 'eik', 'helena', 'metaalschel', 'algemeene', 'ontstellen', 'edelheeren', 'dichtere', 'bewees', 'confirmation', 'herleven', 'zoldering', 'schildknaapmaar', 'vii', 'wenschtet', '5000', 'contreien', 'faytenvanwapenen', 'gewordene', 'heldinnen', 'ontsprongen', 'magen', 'bekoorlijk', 'kille', 'reuzige', 'leeftijd', 'tikten', 'gram', 'onwetendheid', 'some', 'wijwaterbak', 'aardsche', 'herdersknaap', 'gëijld', 'ceciliën', 'edition', 'verouderd', 'vouwde', 'verguldden', 'dampwolken', 'huls', 'lazen', 'eigenlijke', 'tooverkrachtig', 'spieren', 'koninkrijksen', 'rechterschouder', 'herhaal', 'smartelijker', 'gevoeglijk', 'gnoom', 'january', 'fenixdier', 'bellekijn', 'gespook', 'dergelike', 'groen', 'gewrokenzich', 'figuurken', 'opwendde', 'kenbaar', 'schakeerde', 'weifelen', 'tafelgezellen', 'onstuimig', 'pij', 'druipelend', 'lichtbundel', 'wisselt', 'endizoû', 'eeuwigen', 'woeste', 'heldenzielen', 'paris', 'stelde', 'óp', 'vrijwillig', '1e2', 'wemelen', 'hoope', 'toestaan', 'worm', 'onkerstelijk', 'allerberoemdste', 'oertijden', 'wont', 'could', 'balde', 'zaalrijk', 'omspoelde', 'verwantloos', 'wasmeenden', 'vloekten', 'bbbelaagde', 'goudsindaal', 'aârtjes', 'beeft', 'heuveling', 'zeis', 'veelwetende', 'burchtleven', 'doole', 'scaecniet', 'deductible', 'mirakelekoning', 'levensopvatting', 'beurend', 'verdweenweg', 'ooftboomen', 'koele', 'dompelde', 'wja', 'f3', 'armbeweeg', 'smachtte', 'ouderdom', 'kaatste', 'blikkenderoogen', 'scienscië', 'doend', 'ookik', 'wirrelende', 'avonddisch', 'bain', 'aanzwellende', 'vooralwant', 'aanbod', 'dreigt', 'wegzweven', 'beleg', 'magisters', 'stengelden', 'vermochten', 'wildernissen', 'doorstroomd', 'verwerren', 'grijnsde', 'knaapskens', 'verwringen', 'waarhenen', 'method', 'overblijfselen', 'gelucht', 'manier', 'donkerroode', 'onoverwinlijke', 'roskam', 'klinken', 'droomende', 'peter', 'levende', 'mindere', '1e6', 'onwetend', 'logresland', 'goochelden', 'bedekten', 'spoedigste', 'leunende', '2001', 'edelknaap', 'kruisvuur', 'lauw', 'ànder', 'convert', 'eikenboom', 'vlam', 'zesde', 'gordijn', 'bespeurd', 'kleurloos', 'verstrooiïng', 'wikkelde', 'gevaar', 'ondervinden', 'wachtzale', 'allende', 'remedies', 'kreupelhout', 'bewoneren', 'sa', 'errors', 'benoemd', 'opgeven', 'geëigend', 'helms', 'verzekerd', 'herkent', 'belegerde', 'different', 'bbbevrijden', 'hamerslagen', 'bergspelonken', 'glimlachendesloeg', 'allersmartelijkste', 'tornooie', 'oordeel', 'rang', 'gravers', 'httpwwwgutenbergnet148514850', 'almacht', 'wiekte', 'droppen', 'doellooze', 'forsche', 'edelmoedigheden', 'treurenissen', 'follow', 'rotten', 'zuivere', '2005', 'goudig', 'aventuurloosheid', 'jouvencebad', 'waakt', 'verkozen', 'stuurder', 'bemoediging', 'schandekarwonder', 'linkschen', 'weêrhielden', 'hebbende', 'voelden', 'aanwaarop', 'jongelings', 'wigantenrug', 'baardje', 'west', 'scherp', 'omspant', 'gloorden', 'toegebracht', 'scheelen', 'hoedde', 'duivels', 'bewusteloos', 'kanteel', 'goudenzilver', 'lichtschijn', 'dulddet', 'iv', 'hiér', 'omheen', 'fèl', 'besproeien', '5961887', 'onderhoorigen', 'behoeden', 'woekergewas', 'onverbiddellijk', 'void', 'koniginne', 'processing', 'hoornen', 'bekkeneelen', 'ontijde', 'infringement', 'gemalen', 'spreidt', 'gebrokene', 'wonderveeren', 'much', 'xxix', 'noye', 'rijde', 'loon', 'verslaande', 'opgingen', 'tooverpijn', 'krijgskans', 'eender', 'request', 'wasmeende', 'es', 'onbereikbare', 'breidt', 'rad', 'blooten', 'àf', 'bevestigde', 'hellebaardiers', 'overdenking', 'vergelijking', 'rammelden', 'hijmaar', '\\ufeffthe', 'gevalle', 'deinde', 'knipperde', 'berggang', 'staatzit', 'kleintjes', 'riddereed', 'starreglanzen', 'gehevene', 'gewijd', 'easy', 'aankleedden', 'kraaghals', 'reported', 'avondmale', 'hygiënisch', 'ridderkop', 'ruïne', 'naderkwam', 'kasteels', 'claim', 'ontwelde', 'bulderend', 'wisselende', 'snikt', 'previous', 'knikkebollen', 'provision', 'xxiv', 'schuilen', 'reparatie', 'tooverbord', 'blijden', 'beroeringen', 'veeg', 'uitgang', 'kanten', 'grootsch', 'verbijsteren', 'lokte', 'histoire', 'storenysabele', 'edelman', 'bindt', 'paardmenschen', 'glimmelde', 'vooreerst', 'feloenigen', 'hijblijde', 'fortuin', 'minnesmart', 'kwestiëvanminne', 'oliën', 'vervult', 'slang', 'zuiverlijk', 'naderend', 'bestudeerde', 'zachtkens', 'drààk', 'integendeel', 'need', 'geschitterstarrel', 'verdedigden', 'blakende', 'tegenzin', 'edelste', 'charges', 'schubben', 'gewassen', 'huivering', 'vedelden', 'ongrijpbaar', 'wintermaanden', 'lllllancelot', 'leliën', 'armenhet', 'geblaas', 'kandelaren', 'tienen', 'bewerkstelligen', 'rechten', 'verschijning', 'amys', 'gloeilampen', 'sind', 'beau', 'speersteek', 'lampjeover', 'opstond', 'ontstonden', 'vertwijfelen', 'rijm', 'gezwikt', 'vergilius', 'emailspoedig', 'geelden', 'hygiëne', 'vergeleken', 'naturalist', 'jaspistafel', 'letter', 'verlerlei', 'beklommen', 'gebladerde', 'wonderbare', 'mannestemmen', 'waarschijnlijk', 'wollen', 'hekellach', 'toovergeluid', 'ondeugende', 'daaromme', 'trotsch', 'besproeide', 'gespeend', 'goedman', 'bijstand', 'solicitation', 'hijen', 'breedkruinigen', 'prikken', 'vuurrood', 'haasten', 'vaan', 'ha', 'opschrikkend', 'misplaatst', 'stroomopwaarts', 'learn', 'gezegevierd', 'dreigenden', 'tafelrondewant', 'tweeën', 'ontblies', 'gunde', 'schelleren', 'welbekend', 'zonnerondten', 'watten', 'welkomstgroet', 'hartsverdriet', 'win', 'echtbreukige', 'bedrongene', 'wonderwitte', 'slapens', 'ontbrak', 'bedenkelijk', 'hinnikende', 'missen', 'gevlerkt', 'trillerende', 'juichend', 'beschrijvenden', 'strompelden', 'keuzetoen', 'geraakt', 'prees', 'omringt', 'stekende', 'maisniede', 'vlakke', 'kondschapper', 'doodsbleek', 'belagers', 'reclameplaat', 'geleesten', 'geboorte', 'algemeen', 'dronk', 'ontplooid', 'xxxiii', 'bemerkten', 'confirmed', 'charities', 'scheel', 'bohorts', 'binary', 'huid', 'verdedigd', 'tooverlandouwen', 'vertelt', 'dwarrelden', 'eenzaamheid', 'parelmoer', 'steigerend', 'stiet', 'medewerking', 'pijlers', 'permanent', 'nevelige', 'achtentwintig', 'kwalijke', 'soort', 'performed', 'donderrommelingen', 'kantherkenden', 'gemakkelijk', 'zwaluw', 'betrachtten', 'schor', 'aanstaarde', 'razenden', 'slaagde', 'ontvonkte', 'reuzenvuisten', 'dikken', 'derived', 'toornde', 'gelukkiglijk', 'bloote', 'verliep', 'valt', 'innekomst', 'dwalens', 'uitvloeiden', 'lijde', 'humor', 'zettet', 'tooverleliëeene', 'handbeweging', 'poortewaart', 'talmen', 'onoverwinnelijk', 'kefkefkeften', 'stampeide', 'omzweefde', 'boomschaduwen', 'sluimerende', 'bloedof', 'nadat', 'dieper', 'hallo', 'gelukzaligheid', 'hundreds', 'gordelen', 'merrie', 'telg', 'vogelekop', 'opgewonden', 'daalt', 'ruimer', 'dorperlijken', 'x', 'stellen', 'opgeheven', 'getal', 'ongewone', 'principal', 'muggesteek', 'city', 'besterft', 'schepters', 'figuur', 'aanten', 'spookachtiger', 'geloopen', 'doken', 'beschuldigt', 'either', 'oogenblikzoo', 'slinkeherinner', 'brauwfronsende', 'oogleden', 'artsoentassche', 'opstonden', 'klaren', 'burchtramen', 'bekwame', 'riddermoed', 'eikenstammen', 'mannenmetblaasbalgen', 'bassigt', 'tenorelijke', 'omdampte', 'koninginnewaren', 'valianten', 'service', 'gemartelde', 'koninklijk', 'goude', 'steilte', 'zonderlinge', 'ontbond', 'metaal', '5', 'grauwer', 'mannerug', 'ruil', 'begluurden', 'geblikker', 'demoneoogen', 'maliehandschoenen', 'pijlen', 'drakennestbroeden', 'midzomerzon', 'stapelden', 'verstoken', 'wendden', 'wereldoorlogen', 'loose', 'toelancelot', 'geleken', '1f', 'onverschillige', 'scheurde', 'grenzen', 'pppigmentwijn', 'vroomheid', 'schaakvorstinnetje', 'derive', 'inschrift', 'mantelkraag', 'ontkappen', 'meiemorgende', 'noemeneen', 'betwijfelen', 'kasteele', 'ruischelen', 'tasten', 'rtts', 'gebed', 'nederl', 'kwalijk', 'ontstaat', 'ondenkbaar', 'wiganteziel', 'éénen', 'winters', 'xvii', 'vale', 'ontgespen', 'sidderde', 'fladderden', 'bekoorlijke', 'particularly', 'dddronken', 'containing', 'kruisraams', 'wellust', 'jeugendlijke', 'schitterende', 'schatert', 'zeeë', 'kanteelen', 'bestònd', 'natuurkracht', 'sneden', 'waardelooze', 'sconfilture', 'zichtbaarheid', 'droefheid', 'voltooid', 'toot', 'zomerde', 'verkabbeld', 'misdaad', 'l', 'respijt', 'change', 'ponioensperen', 'liefdeblikken', 'angelsche', 'gunstige', 'disclaim', 'geknipt', 'ingesloten', 'gutenbergs', 'belegering', 'klokke', 'veêlers', 'others', 'doorzien', 'tinteling', 'wildet', 'xxxi', 'alone', 'slags', 'nachtjapon', 'kroost', 'keffen', 'pasten', 'princelijke', 'lateren', 'nuchter', 'hoóg', 'nazomerzonneschijn', 'geboet', 'loomelijk', 'strict', 'keffertje', 'nijdige', 'zoetekens', 'vedelsnaren', 'achterhoede', 'uitroep', 'lijflijk', 'nixen', 'cccclareyt', 'wonderlandsche', 'laafde', 'zilveriger', 'kloppende', 'absolutië', 'harmless', 'verborgene', 'avondvergeet', 'onbekend', 'geheimvollen', 'huiverig', 'prijs', 'bespiedde', 'blâren', 'taine1', 'àl', 'minnezieken', 'volunteer', 'donkerder', 'snuivende', 'omkronkelde', 'sleutelen', 'fijnen', 'waargezweefd', 'gepantserde', 'stuur', 'begaanbaar', 'armzalige', 'hertogen', 'schaterden', 'groengeluwroode', 'waarnaar', 'hert', 'sulferachtig', 'geloover', 'gracieuselijk', 'agent', 'vogelvlerken', 'spels', 'ooftzware', 'vertrappen', 'snorrend', 'liedekens', 'gefnuikt', 'prikkelige', 'doorzweefden', 'arturromans', 'wijsheden', 'betreurd', 'landtong', 'bedolven', 'samenzijn', 'geheimste', 'bevalliger', 'zichtbaarder', 'verstreek', 'zomermorgen', 'versla', 'displayed', 'assentijms', 'oevers', 'alternate', 'teekenden', 'klankvol', 'vlaggen', 'harmonië', 'raadsel', 'simons', 'bewolkten', 'tijdingen', 'eenigszins', 'onmeêdoogend', 'giechelen', 'invalidity', 'prevent', 'lijd', 'veroorzaakten', 'transcription', 'fonteine', 'berijder', 'opvangen', 'hijgeleidde', 'versterkten', 'toeeindigen', 'glorië', 'pilaren', 'oplichtede', 'uitstekende', 'ontweek', 'tegenspoed', 'weemoedstilte', 'blauwig', 'betuigd', 'gluurde', 'originator', 'verlangt', 'onhoorbaar', 'afgestapt', 'avondduister', 'doèt', 'scaecdes', 'tanen', 'zilverblonde', 'woning', 'figuurtjes', 'geschieden', 'neêrdaalde', 'vreemds', 'whenever', 'versta', 'verderven', 'herinnerden', 'tronies', 'hellelarven', 'ruitkens', 'uzelven', 'stemden', 'afgrijselijke', 'bewerking', 'geniepig', 'liefdes', 'romaanschen', 'fronsend', 'onaangename', 'leidende', 'gwalchmai', 'eentonigheid', 'compressed', 'zoogbroeder', 'doorgemaakt', 'beziensweerdigheden', 'rondetafel', 'gauw', 'verlichte', 'voorhoeven', 'schuurden', 'overgroefd', 'pantasilde', 'intoomende', 'juister', 'overvlakt', 'ways', 'ringelend', 'werktuigkundige', 'geluchten', 'godinnen', 'ridderburcht', 'werkelijke', 'tttoovenaar', 'zilten', 'linkerwang', 'bloesem', 'ongelukkige', 'zuilenpoort', 'lezers', 'herkènde', 'verwisselen', 'gestand', 'volvoeren', 'openbaring', 'ernst', 'dravenden', 'zijnent', 'teeder', 'keukens', 'donderkeil', 'lonk', 'lijken', 'koningskind', 'gross', 'bruiselde', 'krakend', 'gefestoeneerd', 'penning', 'perceval', 'razend', 'diepere', 'ontroeringen', 'afbouwende', 'boezem', 'roofridder', 'goeddden', 'opgalmen', 'produce', 'burchtkapel', 'buil', 'wederstreefde', 'roemruchtigheden', 'practically', 'snorren', 'ontsteltenis', 'gebod', 'onbewusten', 'aangetaste', 'herkennende', 'geef', 'ontfermt', 'begeleid', 'toon', 'middenweg', 'ruischloos', 'ridderbelofte', 'vogelstemmen', 'rozenheggen', 'koorknaap', 'spiralende', 'defects', 'aangehoord', 'zwere', 'opgebloeid', 'verontschuldigden', 'zomerlucht', 'bleeken', 'loensch', 'voorsten', 'hut', 'ontsloot', 'klatert', 'meening', 'moeiysabele', 'lucifer', 'wenkbrauwboogjes', 'brandenden', 'slank', 'indicate', 'treffende', 'middag', 'ledigen', 'duren', 'verschaffen', 'gedachtig', 'italiaansch', 'opgoudde', 'snelst', 'fier', 'sneeuwwitte', 'vervolmaken', 'afwachtte', 'verwaaid', 'doorgrond', 'óók', 'clerk', 'tjilpen', 'gloren', 'amoereuzelijke', 'opriepen', 'staartgekronkel', 'zoomde', 'wentelde', 'prohibition', 'tronen', 'aderige', 'vijandschap', 'schitterden', 'torenterrassen', 'goeds', 'gebruneerd', 'fitness', 'belegerd', 'feesten', 'verlichtten', 'uitgemaakt', 'boodschappers', 'grijnsgrinnikte', 'teekenen', 'geveegd', 'vermomde', 'treuriglijk', 'arsoen', 'donkerrood', 'hierop', 'grijs', 'gespreid', 'hèt', 'includes', 'troyes', 'aangeschoten', 'ridderwoord', 'kwaads', 'krankste', 'mariëns', 'heremiet', 'bevat', 'ut', 'herfstzon', 'gastreerden', 'slaperig', 'ensuring', 'welden', 'leider', 'ergens', 'punten', 'gruwbare', 'onzegbaar', 'similaires', 'allerhoofschte', 'glinsterde', 'wonderopname', 'described', 'bestaande', 'profit', 'duisterste', 'gedrukt', 'optrokken', 'gold', 'smoezelden', 'vijgen', 'pauwbraad', 'tooverzalen', 'deelneming', 'benijdde', 'gezochtof', 'makende', 'genezing', 'vlammend', 'epiesch', 'latijnsche', 'oversteken', 'hevigst', 'aandoeningen', 'courtoisie', 'zwellende', 'shared', 'warenwant', 'bimmebamden', 'kruisraam', 'boekenschrijntje', 'ontdoen', 'massa', 'elegante', 'sprakebloem', 'middeneeuwsch', 'zwakke', 'vreten', 'geladen', 'toekomstspiegel', 'lentewolken', 'schepezeilen', 'problem', '646221541', 'bliksemflits', 'geschandvlekte', 'opdoemen', 'hindernissen', 'trouvères', 'httpgutenbergnetlicense', 'allerliefst', 'zijnde', 'rechterknie', 'oogenblikkelijk', 'aarzelden', 'onweêrsbui', 'overblijvende', 'bemeesterend', 'gewillig', 'toegeschoten', 'sabelbont', 'barning', 'afgewisseld', 'choose', 'gevaen', 'blinkende', 'barmhartige', 'tooveresse', 'kersen', 'statements', 'smachten', 'snikken', 'toer', 'notifies', 'xxi', 'edeler', 'slotgracht', 'dedendat', 'lichtede', 'onoverwinbaar', 'spelers', 'hoè', 'gewend', 'geweven', 'rijzen', 'gaten', 'averrecht', 'koperkleurig', 'verliefd', 'passagië', 'horeest', 'uitkomen', 'schilderij', 'tengere', 'parelmoêr', 'lippen', 'maannacht', 'thijmdoorgeurd', 'twijfelend', 'weèt', 'expend', 'gekletter', 'verliest', 'gebouwene', 'knapenhals', 'goudend', 'iii', 'beweerden', 'beschermer', 'bedrukt', 'eenzame', 'curieus', 'breking', 'voerdemaar', 'muziekboom', 'velt', 'gehoorddat', 'donors', 'eerstens', 'gehuldigd', 'raapte', 'aandraafden', 'knopje', 'wemelend', 'degelijkste', 'koorknaapskens', 'zuidwaarts', 'héel', 'oorspronkelijke', 'endis', 'snaarinstrumenten', 'breng', 'acglovaels', 'gekerkerd', 'draait', 'loope', 'vorschen', 'lichtval', 'klêederen', 'dòrperheid', 'wassagremort', 'bied', 'bloedeigene', 'leest', 'schaduwvolle', 'gebruneerde', 'reedszoo', 'zangerig', 'groeide', 'spanning', 'zwijmde', 'berijders', 'machten', 'bbestaan', 'rosbruine', 'oprichtte', 'geschonden', 'schreeuwde', 'facility', 'oosterschen', 'kinderlijk', 'keere', 'merlijnen', 'primitief', 'valleien', 'schole', 'zùlk', 'ouderen', 'wijdt', 'letten', 'feit', 'vleeschlijke', 'verduidelijkend', 'xx', 'bepeizen', 'rekkende', 'vliezen', 'oprijst', 'dompelden', 'scaecdat', 'robijnroode', 'torengeschal', 'minnekijns', 'schermen', 'wonderkoning', 'irs', 'bedauwd', 'verschrompeld', 'rechterhand', 'oplettende', 'lichamen', 'gebrokener', 'hoofdeinde', 'rustigen', 'smoorde', 'toeschouwer', 'tttooverië', 'nergens', 'geschrifts', 'helmkop', 'aanvalleren', 'damosel', 'voorbereidden', 'verhaaltrant', 'allerhoofscht', 'gemiddeld', 'pooten', 'opgewaaide', 'krioelden', 'vroege', 'overeind', 'bidgestoelt', 'silhouet', 'gunden', 'baan', 'herleefd', 'minst', 'brei', 'baldakijn', 'handje', 'bekroond', 'negligence', 'gordel', 'vereenzaming', 'what', 'burchtsilhouet', 'stemmeke', 'achterbaks', 'achtte', 'heupen', 'kudden', 'kerven', 'beweging', 'geflapperd', 'mirakelen', 'schokten', 'wonderlijke', 'karelsage', 'groef', 'wijzing', 'verlatinizeerd', 'kaarsenschijn', 'weêrlichtte', 'omkronkeld', 'damaged', 'gooien', 'periodic', 'hechtede', 'troostenden', 'lioenen', 'dondergerommel', 'glorievolle', 'doorvoer', 'maliënhandschoenen', 'granaatappelboomen', 'misteltak', 'gezorgd', 'fluistering', 'waaienden', 'barst', 'paars', 'spotten', 'everkop', 'veste', 'houd', 'kwijnende', 'weifelden', 'author', 'merkt', 'riddertrouw', 'klagende', 'speerstoot', 'gebeds', 'noordfrankrijk', 'laagt', 'beweeglooze', 'schuldeloos', 'business', 'landbouwgereedschap', 'achteraan', 'verroerloosde', 'vervuld', 'verscheurd', 'starrige', 'aanving', 'bedanken', 'omringen', 'tooverjarenwaren', 'somberste', 'bepeis', 'bewaakten', 'holle', 'tòch', 'werdkoning', 'vergezellende', 'ongeloovige', 'poorte', 'knarste', 'verhoogen', 'fix', 'aangezweefd', 'afstapten', 'vloekend', 'paards', 'vaas', 'koningsharte', 'welwillend', 'materieele', 'ookin', 'doemen', 'koortsachtig', 'voetstoots', 'vindt', 'include', 'hypertext', 'verborgenheden', 'onderdrukt', 'taxes', 'eenvoudiger', 'inzichten', 'geklank', 'keelkleurige', 'koninklijkheid', 'puntdiadeem', 'verklaarden', 'kerk', 'tooverij', 'azende', 'fakkelen', 'geboomt', 'houding', 'afdaalden', 'edel', 'lijkbezaaide', 'violates', 'fijntjes', 'bezet', 'spanden', 'blankere', 'amuzante', 'vreugdestem', 'pauwblauw', 'verminkte', 'ontzonk', 'schaterlachen', 'identification', 'windenden', 'rozengeur', 'koozing', 'christelijk', 'geschetter', 'grashalmen', 'naïef', 'behendelijk', 'togen', 'reports', 'glinstervierkant', 'angstige', 'borgen', 'rende', 'wijsgeerig', 'allienezij', 'brommerig', 'gevoelig', 'vernoie', 'noodden', 'fyzicus', 'spieden', 'spotaard', 'weeken', 'remaining', 'hersteld', 'appear', 'bewondering', 'ridderlijf', 'hoogstemmige', 'waarschuwing', 'kleiner', 'gespten', 'zonnebloemenhaag', 'gevoegelijker', 'verblijf', 'uitspreken', 'aêr', 'vonkten', 'simpeler', 'zonnestralen', 'gezang', 'zwoegen', 'dáar', 'danken', 'tijde', 'duizelingwekkende', 'waaronder', 'kestenhede', 'vormen', 'ruwzedige', 'kooi', 'gekruiste', 'zadele', 'weêrspiegelende', 'weenende', 'reuzekelken', 'omhuifde', 'blèrende', 'gekrijsch', 'zondaresse', 'chansondegeste', 'modification', 'opgij', 'gwinebantreden', 'geruchte', 'dorre', 'schuchter', 'putte', 'dwingt', 'roemen', 'dorpen', 'vergelijkbaar', 'ever', 'aanzie', 'vermake', 'vergramd', 'glanzend', 'wàren', 'familie', 'wetenschap', 'gilden', 'blauwere', 'heldenkrachten', 'mompelende', 'dienaar', 'gindschen', 'unenforceability', 'vertoonde', 'glorieuzigheid', 'versaagt', 'teldet', 'gerepariert', 'penitentië', 'richtingen', 'eerlijke', 'rennende', 'tooverland', 'verbod', 'grijswit', 'waarschuw', 'magische', 'geruild', 'drakeserpent', 'leestmet', 'scheuten', 'bevestigd', 'welfde', 'zwaarmoedigheid', 'nederlaag', 'herzien', 'gleden', 'wee', 'achtervolger', 'geluwe', 'getroffene', 'zeefde', 'wal', 'roerloosheid', 'krachtigste', 'angstkreet', 'rozenkransen', 'vleêrmuis', 'sikkelmes', 'w', 'bestormd', 'toefden', 'heilig', 'vaste', 'xxvii', 'doodden', 'helmkroon', 'xxxiv', 'zijzelven', 'hijscht', 'feller', 'legally', 'verscheidenheden', 'vuuradem', 'varenbladeren', 'romansinverzen', 'wondegenezend', 'plomp', 'carry', 'peerdegespan', 'kastanjelaar', 'volgend', 'trillerde', 'vespertijd', 'knoppen', 'twaalven', 'zweep', 'bergbeeld', 'dergelijke', 'gebluscht', 'doofden', 'heél', 'creation', 'maanopgelichte', 'voldaan', 'sta', 'voltooiïng', 'jongelingvorm', 'ketens', 'koningsgraf', 'ingewikkeld', 'legers', 'blikkerende', 'zwakheid', 'haddden', 'voorste', 'top', 'vèrre', 'juicht', 'dankbetuiging', 'gepeis', 'godheid', 'bedekt', 'gracielijke', 'schateraar', 'winterlandouw', 'gelijkenis', 'geschiedt', 'afdaalde', 'jenever', 'tooverstaf', 'horenen', 'ruimen', 'opblikkeren', 'beslissen', 'onweêrstaanbaar', 'arsoentasch', 'belanglooze', 'deemster', 'opgelichte', 'ster', 'onnoozelen', 'rijmklank', 'tikte', 'onbestemde', 'ruitachtigen', 'weêrschijnen', 'bromde', 'satijnigen', 'zalenen', 'jeugdiger', 'koesterde', 'trouwaanliefde', 'veil', 'schemerduister', 'venijnigen', 'hém', 'veinsde', 'gebogen', 'omspande', 'klakte', 'blééf', 'noenkracht', 'getoeter', 'nemende', 'wenkt', 'liefdehoven', 'palmen', 'kerstenheid', 'opgetrokkene', 'roereloos', 'bijziende', 'library', 'opsteeg', 'verhoogt', 'incomplete', 'gewreven', 'zilververguld', 'spelende', 'treatment', 'gesmede', 'course', 'geurde', 'troye', 'zwemmend', 'ridderswist', 'zaak', 'avonturen', 'verwijderen', 'dienaressen', 'indemnity', 'hold', 'bonzende', 'orgel', 'vlakken', 'gewenteld', 'raadselachtige', 'betuigden', 'overgelijklijke', 'schouwde', 'roemrijk', 'consoneerende', 'bedankt', 'voorarsoen', 'verdwaasd', 'rossigden', 'verging', 'gebarsten', '1922', 'omarmd', 'festoyierden', 'spelleconstjes', 'kluchtig', 'gedaanwel', 'dwarrelende', 'verstond', 'koningsburchten', 'overeen', 'onderscheidde', 'zwaaiend', 'schouderkraag', 'plofte', 'very', 'bewonderdet', 'banden', 'wreef', 'bemerkte', 'aesthetisch', 'minneeeden', 'kinde', 'omrondeene', 'geslapen', 'transcribe', 'demand', 'plòts', 'allienezich', 'steun', 'doorbrak', 'broederen', 'muiltjes', 'droombeeld', 'stapelwolken', 'doodstille', 'schemeravond', 'geluks', 'vergeleek', 'bladerenzee', 'vingerkens', 'begrijp', 'possibility', 'beleedigde', 'instrumenten', 'fiere', 'wies', 'krimpt', 'opgenomen', 'statigen', 'spoed', 'staaf', 'vluchten', 'ringsomrond', 'httpwwwpglaforg', 'afgeschaft', 'gevoeg', 'tokte', 'gedoofde', 'slopen', 'blauwwitten', 'lionelen', 'verheerlijkt', 'droeg', 'kreegt', 'aarzelen', 'notarissen', 'aanstormden', 'wondereen', 'hetdoor', 'werkzaamheid', 'weldadige', 'menden', 'snikte', 'gekampt', 'monsterlijkheid', 'vriendinne', 'sopraanden', 'gevleugelden', 'throughout', 'staakt', 'onmetelijk', 'smallere', 'toejagen', 'veropenbaarde', 'vliedende', 'more', 'lichtstralen', 'geheimenismeer', 'passeerden', 'rosen', 'those', 'kasteelvië', 'important', '1a', 'afgeschoten', 'zangmeester', 'overladen', 'zenuwigen', 'slepende', 'wekken', 'beurende', 'gratië', 'eentoniglijk', 'verijlende', 'glinstering', 'arabesken', 'betuigen', 'toortsevlammen', 'fortuinelijk', 'nevelenden', 'vertelden', 'commercial', 'snaren', 'platen', 'zwaardzwaai', 'sent', 'jegens', 'handekijn', 'wemelde', 'drakemoeder', 'dobbelden', '14850', 'uitroepen', 'nagedachtenisse', 'zwijgenden', 'verduisterden', 'wonderoliëndan', 'waagde', 'paper', 'bewakinge', 'bedochten', 'waaddet', 'amoureuselijk', '1500', 'verwulfde', 'wage', 'gaweinop', 'brenge', 'vermaken', 'bloemen', 'bewoekerden', 'verdrietelijkheden', 'alteration', 'loom', 'miste', 'gebergte', 'klokken', 'schaakte', 'ontvlamd', 'proprietary', 'eind', 'bedevaart', 'increasing', 'doorlichte', 'calculated', 'gezworenen', 'vingeren', 'ysabeleverlost', 'nietgij', 'volg', 'wevende', 'blauwige', 'mei', 'schermevlerken', 'naijverig', 'kreeg', 'oogend', 'ontvaren', 'dddage', 'ontgleed', 'eigennamen', 'vlamende', 'overwaasd', 'sprakeblom', 'enthoeziasme', 'drupt', 'torenwachter', 'paardehoes', 'talrijke', 'express', 'naleven', 'wenden', 'lezerde', 'inniglijk', 'wrang', 'ommezien', 'begeleiden', 'heviglijk', 'duld', 'geboeide', 'understand', 'eede', 'zwaarder', 'sonoor', 'doorruischte', 'beêvaaart', 'beschermen', 'pad', 'vertrokken', 'viewed', 'stom', 'achterhand', 'tristan', 'gesprek', 'waarheid', '1f5', 'gevest', 'betwijfelden', 'weer', 'specific', 'grot', 'feloenig', 'vogelijn', 'bewoonden', 'ginevra', 'weegeklaag', 'interpreted', 'historische', 'kendet', 'verwellekomen', 'geäppelde', 'zoetste', 'noordewind', 'bedrongen', 'snellen', 'oermannelijke', 'tooverpoort', 'banneling', 'verlangend', 'when', 'tuin', 'methods', 'vrouweschimmen', 'terugweg', 'vredestijden', 'morgenuren', 'fairbanks', 'melodievol', 'rosside', 'flank', 'isgwinebant', 'eenig', 'nachtegaalklaar', 'sharing', 'search', 'genevel', 'onveilige', 'aangevangen', 'galvanus', 'losse', 'gevallende', 'menschenhart', 'fantazijë', 'bliksemende', 'ontmaelgieren', 'schadelijk', 'karelroman', 'noordhumberlandermaak', 'vertaling', 'achtergedochten', 'creatie', 'hopeloos', 'knarsten', 'windeveêren', 'evenwijdig', 'sobere', 'daarvan', 'puilende', 'brauweboogjes', 'gegoten', 'dralende', 'bizonderen', 'jonkvers', 'harpe', 'waait', 'aâr', 'ivoren', 'xxxv', 'instelling', 'ix', 'vergeving', 'gepleegd', 'verledens', 'bestondmisschieneven', 'spruit', 'dido', 'valbrug', 'gingebareboomen', 'ruigen', 'gaapt', 'kraakten', 'beschenen', 'burchtraam', 'heesch', 'duizelig', 'tafeleronde', 'meesteresse', 'voetekens', 'wollene', 'bruischelen', 'wentelden', 'voetje', 'fonteintjes', 'rozenstruik', 'triomf', 'twijg', 'lokkenhoofd', 'bleekte', 'reusachtig', 'wastoortsen', 'pijlsnel', 'toezingt', 'afstralend', 'employee', 'vertrouwde', 'ether', 'bijval', 'monsters', 'zwijmelgeur', 'beschermt', 'actual', 'frankischgermaansch', 'wazende', 'elect', 'kromp', 'begroeting', 'wenk', 'afwezigheid', 'vogelkop', 'sidderende', 'beklemming', 'onderweg', 'naderende', 'uitdrukking', 'zondiger', 'betrof', 'jont', 'snakte', 'rustbank', 'approach', 'tooverkunst', 'ein', 'aanvuurt', 'krijgenzich', 'lancelotook', 'spoedden', 'wippenden', 'geknielden', 'kluwen', 'glinsteren', 'blijvenden', 'steunden', 'broeien', 'toebereid', 'roeping', 'verdelgd', 'send', 'stoofden', 'beginning', 'wapenenfayten', 'jeugdbad', 'periode', 'network', 'beschuldigden', 'gif', 'verfijndere', 'non', 'hondekopjes', 'zooals', 'oorlogszuchtige', 'flikkerden', 'herhaaldelijk', 'sterrebleeke', 'tentepunten', 'betwijfeld', 'feestgewaad', 'zoomden', 'xi', 'verheffend', 'orse', 'onderwerp', 'koningszetel', 'wankelden', 'bevenden', 'same', 'kondigden', 'transen', 'weemoedigen', 'schaakgenialiteit', 'ridderromansen', 'zijgend', 'zwermden', 'kleedden', 'gebaand', 'blanker', 'stal', 'rivieren', 'grootsche', 'boodschapper', 'houwende', 'schijning', 'sneeuwblank', 'beven', 'lichtzinnige', 'vergaven', 'stengelen', 'vespermale', 'verbeelding', 'bundels', 'toovermachten', 'meere', 'gehart', 'bestaat', 'zwemmens', 'dof', 'daag', 'fanfaregeschetter', 'herderen', 'ddddat', 'dichtte', 'wachtens', 'bedreven', 'verstande', 'regulating', 'verwoeien', 'pluimebloeiende', 'puntjes', 'afwezig', 'droomeinder', 'mage', 'geste', '50', 'schatmeesterswilde', 'gedwaald', 'huiveren', 'terp', 'speeldet', 'slipten', 'zend', 'nachtelijk', 'aanneembare', 'tooneelbaard', 'direct', 'verschiet', 'allergruwbaarste', 'gewulfde', 'ontsluiten', 'anderensinds', 'c', 'kweekt', 'kraakte', 'dwingen', 'omwikkeld', '1f1', 'droog', 'gedrevene', 'vrouwkens', 'afbeelding', 'verwijde', 'trouwemaar', 'numerous', 'geroerd', 'manieren', 'gerichte', 'verstikken', 'amandelstruiken', 'vlot', 'dommelden', 'geeuwende', 'opstekende', 'wandeling', 'dwalende', 'begeerten', 'liable', 'schuimblank', 'gegundnooit', 'logieren', 'ontlokenen', 'talisman', 'perkamenten', 'erfgenamen', 'geruischloos', 'arenden', 'ontvangst', 'humoristisch', 'international', 'knikkende', 'overkomen', 'bandekens', 'nappen', 'editie', 'ontzaglijke', 'pietate', 'stillen', 'stadig', 'verschrompelden', 'verzen', 'hinkend', 'mopperend', 'wolkenloos', 'goals', 'mishandelt', 'doodsangst', 'pay', 'print', 'cecilië', 'verheugt', 'outdated', 'heerschappij', 'rozenslingers', 'schichtingen', 'tredende', 'begravene', 'daverden', 'dieren', 'indicating', 'melodie', 'beveelt', 'brieschte', 'uitglanzende', 'gespoorde', 'baroenennaderde', 'kraste', 'countries', 'verstorvene', 'verrassing', 'war', 'questezoekingstochtgaan', 'additions', 'boeten', 'uitpeizinge', 'onderricht', 'scheller', 'blauwende', 'meldet', 'uitslaanik', 'obsolete', 'kim', 'ontvankelijk', 'koninginnekroon', 'addition', 'aanzweven', 'edelvrouwenmaar', 'glinsterding', 'snellere', 'kabbelend', 'vuurroode', 'haarzat', 'ommewendt', 'verlijningen', 'verkoren', 'klaarden', 'bekeek', 'penitencië', 'pauwen', 'ongedacht', 'mossigen', 'begroette', 'determine', 'drieën', 'volzomer', 'beducht', 'weerd', 'discontinue', 'bezwaarlijk', 'slechten', 'omkwam', 'checks', 'roken', 'wordtwant', 'tenzij', 'zenuwige', 'opstralend', 'gringolei', 'geëerediend', 'gunste', 'naïeve', 'norsch', 'erg', 'drommelde', 'bind', 'gijzelve', 'onbegrijpelijk', 'luiken', 'amadijsmaar', 'laatst', 'goediger', 'ribaud', 'gevraagd', 'rade', 'hangt', 'bediedden', 'omgoten', 'klokkespelen', 'slaapt', 'repte', 'ontdeed', 'gevochten', 'reclameplaatlucht', 'heldenfiguren', 'gecombineerd', 'strijdbare', 'willengelukkiglijk', 'kruize', 'rotsblok', 'schalken', 'weest', 'verschijnselen', 'codes', 'kruiden', 'reasonable', 'eereplaats', 'kamerkijn', 'wijsheid', 'morgret', 'beschikking', 'opgesprongen', 'beminnelijke', '1b', 'afleidde', 'jongsten', 'heidenen', 'verhitten', 'einddoel', 'ongemeen', 'moordenaar', 'verwilderd', 'distributor', 'slechtaarden', 'address', 'bezwaren', 'riddergemoed', 'zweren', 'tooverzetel', 'rustingstukken', 'kefte', 'modeste', 'wiek', 'geligen', 'aap', 'versleten', 'bestrijdt', 'aangebracht', 'vlijde', 'wrokte', 'alleenlijke', 'wasvinger', 'schaakbordlet', 'tooverboomemuziek', 'mirakeleland', 'zomernacht', 'iablerië', 'moordenaren', 'honger', 'kortste', 'endien', 'afwacht', 'pauwachtig', 'gewoonlijk', 'schendt', 'provisions', 'huiveringwekkendheid', 'middennederlandschen', 'schallen', 'doorschijnende', 'corporation', 'weêrdaverden', 'bloei', 'woedenden', 'fosfor', 'tooverschok', 'place', 'riddderplicht', 'wolkgevaarten', 'verderf', 'vergrijpt', 'kwijt', 'broods', 'voetstukken', 'eénmaal', 'zaalpoort', 'geheimzinner', 'mannejong', 'overmoed', 'stervelingen', 'landouwen', 'daâr', 'inkomst', 'basstem', 'strijdrossen', 'machine', 'aanstonds', '1f2', 'háre', 'roepende', 'schuchtere', 'kale', 'overrompeling', 'vòl', 'rotsigen', 'vochtigen', 'weduwe', 'adelsnamen', 'durft', 'gezeefden', 'aantref', 'mos', 'beheerschen', 'bedroefd', 'vroegmis', 'bedekken', 'bloemenweide', 'lièt', 'dageschijn', 'koord', 'scheidt', 'bezwij', 'spookten', 'ontwelden', 'knikt', 'bewonderen', 'tusschenpoozen', 'bekruisde', 'begeleidde', 'strijde', 'duivelsche', 'droomzaligheden', 'hagedochten', 'aankeffende', 'gouddraadgelijke', 'gehelmde', 'opgehevene', 'sleepende', 'ijzerschimmel', 'vorens', 'avondschemering', 'verzoend', 'vlieger', 'beleedigd', 'korten', 'vreesloos', 'ènkele', 'ontmoetingen', 'toeschouwende', 'dobbelsteenspel', 'rivierboord', 'gaweinmaar', 'princessen', 'voorts', 'verrassend', 'gastvrijen', 'bloesemkeersen', 'juweelene', 'reading', 'feilen', 'ledekant', 'wervelgeledingen', 'cierlijke', 'dwarrelde', 'origineele', 'vraagster', 'naïeven', 'owed', 'sidderend', 'drieste', 'bestegen', 'gekronkeld', 'fanfaren', 'bloeds', 'manwaarhede', 'onzichtbaars', 'gloeienden', 'achterlaten', 'vereenigde', 'onttooverd', 'vierden', 'appels', 'executive', 'leidt', 'voegen', 'verzekering', 'moeilijkheid', 'diende', 'beschikt', 'ordineeren', 'geschreven3of', 'smeekende', 'afgronddiepen', 'consequential', 'aardigheidjes', 'updated', 'daarin', 'verpoozing', 'onheil', 'vroolijk', 'uitschichtende', 'slotte', 'stelle', 'spiezen', 'koorzin', 'melan', 'vervoerd', 'geïnspireerd', 'uniform', 'illumineering', 'openlijk', 'warendeze', 'achterarsoen', 'schalks', 'knellend', 'pleine', 'hoogelijk', 'ontkleed', 'bovenaardsche', 'dichten', 'wondertrompetten', 'gejouw', 'onnoodig', 'sluierde', 'wiesen', 'etterenbloed', 'signaal', 'hevigheid', 'disk', 'betrok', 'doorhouwen', 'allow', 'silhouetten', 'zicher', 'basgeluid', 'dwaallichtjes', 'omheind', 'afdwaalde', 'ontwapend', 'tooverlelië', 'heldhaftiglijk', 'opstralen', 'geeste', 'geluidje', 'hiervan', 'verlokken', 'unlink', 'uitbloedende', 'echtelijke', 'gewapende', 'eenigen', 'middele', 'listen', 'hoes', 'strijdgewoel', 'maagdjonge', 'afsloot', 'wurgde', 'negenvan', 'propre', 'horens', 'schorpioentjes', 'pràchtiger', 'baloorig', 'avondmalen', 'eerder', 'anglaise', 'vingen', 'life', 'beschreef', 'rècht', 'gedenk', 'menegertiere', 'gekleurde', 'rouwbedrijvinge', 'xxx', 'waleweinen', 'doorvloot', 'insloegen', 'palm', 'doemsdag', 'schokjes', 'naïefweg', 'louteren', 'verschrikkelijke', 'schrikt', 'dweepte', 'schuifelde', 'koesteren', 'ontgorden', 'afsluitende', 'eertijds', 'floersen', 'sneef', 'verontschuldigend', 'klaterden', 'stoutere', 'hoofds', 'so', 'tegenspelers', 'ontgespten', 'slip', 'spansiert', 'geweigerd', 'spreidde', 'incidental', 'given', 'kostelijke', 'promotion', 'verklaar', '1e3', 'speurde', 'liefdedroom', 'strompelend', 'twijfelachtige', 'lenig', 'verschrikkelijker', 'salamanders', 'possession', 'bloeme', 'schale', 'beestjes', 'peinzen', 'share', 'wentelende', 'she', 'bereiken', 'lichter', 'sammeten', 'malkanders', 'gekomene', 'artsenijmeesterenin', 'schouwden', 'geesteskrankte', 'bedoelde', 'namiddagen', 'vertrouw', 'nachtwind', 'uitklagende', 'bootsen', 'accessible', 'moederdrake', 'wide', 'jezelf', 'kloofde', 'wands', 'scholier', 'kondendat', 'discover', 'sluiers', 'ontgloeiden', 'verliefde', 'vrijheden', 'zusters', 'overwinning', 'kamp', 'kluwentje', 'wonderen', 'borstekens', 'hiermede', 'gapen', 'omwrongen', 'endische', 'kinderspel', 'verdroogd', 'doodde', 'weigeren', 'belager', 'omher', 'vrouwekreet', 'paperwork', 'diepsten', 'wolkstapels', 'zonnestraal', 'duiwere', 'erbarmen', 'geaderde', 'committed', 'helmlooze', '60', 'opportunity', 'bezwijme', 'tortijtsen', 'sciencië', 'geweldiger', 'breedtakkige', 'wonderstroom', 'lengte', 'remove', 'erlangde', 'xviii', 'vogelengekwinkeleer', 'afgëijld', 'eerwaardige', 'optrillende', 'roept', 'omwoeld', 'luidende', 'doorzoek', 'ontstoken', 'bevroedden', 'aanschijn', 'fluks', 'versche', 'fixeeren', 'schittert', 'geleverdals', '148508txt', 'rondetafelridderseven', 'geharceerde', 'bereidt', 'nijdig', 'geleerd', 'leeuwrik', 'doorboord', 'schaakspels', 'zwoel', 'angstigen', 'wellen', 'raasde', 'haver', 'schildwachten', 'schijnbaar', 'gelijst', 'warreling', 'gnomebaardkop', 'idioot', 'uitgewerkt', 'verraden', 'jubelen', 'slothof', 'alwetend', 'jeruzalem', 'ontrollen', 'aangenomen', 'onmisbare', 'middleaged', 'immmers', 'bezagen', 'schuinoogen', 'zilverschemer', 'vermoord', 'stoerder', 'plagen', 'identify', 'schoener', 'staâgen', 'verteer', 'lichtje', 'vierkantend', 'krans', 'asselgieren', 'vuisteken', 'vagelijk', 'courtoise', 'lezerom', 'handige', 'overbeschaving', 'indemnify', 'pays', 'verkleineerde', 'oeroude', 'one', 'zijzelve', 'vergroeide', 'zadelt', 'la', 'sacrament', 'verflakkerende', 'streedt', 'schoppen', 'lokkige', '1f4', 'onpas', 'twijfeling', 'gehoorzaamheid', 'scheef', 'tuurde', 'troont', 'loofde', 'unsolicited', 'vroomste', 'begroetten', 'bereikten', 'ijzer', 'walmende', 'beraadslaging', 'sprakede', 'denkens', 'sprakebloemen', 'aanbiddende', 'overheerschen', 'rekken', 'rammelen', 'klapaaien', 'locale', 'dampte', 'speerpunt', 'perform', 'doodmoede', 'leeds', 'zorgelooze', 'vòòr', 'coninck', 'weende', 'geluidlooze', 'vlamme', 'alre', 'kikvorschen', 'gringoletmeerdere', 'ysaude', 'wake', 'heldere', 'stoomdenuit', 'opgemerkt', 'paradise', 'lancelotder', 'bewaken', 'ophief', 'noô', 'dolle', 'weifel', 'tijg', 'koninghij', 'volmaakteren', 'rondetafelridder', 'welluidende', 'frissche', 'lanzamerhand', 'stoel', 'heuvelen', 'toovervogel', 'overmoedigheid', 'starrenschijn', '84116', 'dienstknape', 'incrusteerde', 'furieus', 'stemmekens', 'toedoen', 'renamed', 'duisteren', 'necessarily', 'xix', 'woords', 'hoorngeschal', 'azurigen', 'suizende', 'geharnaste', 'kaarsengloor', 'christenen', 'rechtuit', 'liste', 'genietende', 'zusteren', 'beminnelijk', 'zuil', 'replace', 'bloesemend', 'vermoeienis', 'verleenen', 'lachje', 'daarentegen', 'elders', 'buigen', 'npoden', 'geroskamd', 'noemden', 'several', 'glijden', 'werf', 'opzag', 'heidensch', 'verstandig', 'raadsheeren', 'klinkelt', 'gewezen', 'lievende', 'zoeter', 'accept', 'duizend', 'uzelve', 'wetten', 'kuras', 'coupletvan', 'verwekte', 'omvleiïngen', 'wiegende', 'gehaald', 'wemeling', 'bas', 'appeleboomen', 'geraken', 'betrad', 'zoó', 'stokken', 'koosden', 'kwastjes', 'vijftig', 'triltafereel', 'ruischelde', 'engeland', 'begeleidden', 'tempeesten', 'wijdde', 'welde', 'misericorde', 'vieren', 'production', 'romantische', 'warmen', 'pauwevervig', 'drukt', 'voedsel', 'minnestreelen', 'verdrijvende', 'liefs', 'fayten', 'erbarmdegod', 'begin', 'vergelijk', 'toeschietelijken', 'aanwezigheid', 'geschiedenis', 'huwt', 'fraaiïgheid', 'gescheurde', 'slierden', 'ketenen', 'zichzelf', 'ruischte', 'tooverschoonheden', 'danke', 'ammelakens', 'vereenigd', 'armzalig', 'overwulfde', 'maliëncotten', 'salt', 'vrouwenhaar', 'rondetafelridderkoppen', 'achterwaartschen', 'gevoelen', 'voltooide', 'gemis', 'josteerden', 'schuimde', 'bulderde', 'samaar', 'agreed', 'each', 'kele', 'steigerden', 'daartusschen', 'beäntwoord', 'doorzweeft', 'stormgeweld', 'wimpels', 'uitriepen', 'gratie', 'zaâm', 'middeneeuwen', 'tweemalen', 'jaloersch', 'jongstiglijk', 'horde', 'duwende', 'malsch', 'getrouwd', 'cultuur', 'wipt', 'scaecken', 'aannaderende', 'doende', 'hout', 'gbnewbypglaforg', 'swamp', 'samenzwering', 'aardegeuren', 'nonproprietary', 'knars', 'bongerds', 'beleefdelijkhij', 'luisterend', 'meenen', 'ongeloovig', 'rampspoed', 'opsta', 'uitslag', 'droefenis', 'tassche', 'opstaken', 'druïdenmysteriën', 'bulderden', 'ijl', 'welwillende', 'hippocras', 'bekruisten', 'verwulfsels', 'gereidde', 'dwalingen', 'sneeuwige', 'geboekt', 'troostende', 'accepting', 'minste', 'struikelde', 'dweep', 'gerechter', 'arg', 'cirkelde', 'bladertempels', 'getwijfeld', 'doorkloofd', 'latijnsch', 'dispuut', 'dol', 'trotseeren', 'neyede', 'zomerbries', 'omlijstingstijl', 'helsche', 'vriendelijke', 'torste', 'breidel', 'glooroverspeelde', 'allergrootst', 'strijdengel', 'doorpriemende', 'geplukt', 'verstandhouding', 'gespalkte', 'klem', 'gekef', 'vertrekking', 'schuddende', 'koninginnetje', 'liefdegeluk', 'goudblond', 'zwaluwen', 'aanschouwen', 'plat', 'oordeelen', 'verslinden', 'bevond', 'beurtelings', 'cirkelen', 'alreede', 'eilace', 'brons', 'stijf', 'verzelt', 'knipte', 'schalck', 'vreedzaam', 'burchtpoort', 'businesspglaforg', 'behooren', 'loven', 'original', 'wespen', 'vrouweoogen', 'card', 'geeuw', 'hartje', 'verdediging', 'bijwas', 'httppglaforgdonate', 'language', 'logen', 'i', 'wrongen', 'éenoogig', 'zanger', 'possessed', 'blaften', 'ketelen', 'geverfd', 'verwarrende', 'verzekeren', 'lila', 'vertrekkenden', 'hoeven', 'opschrikte', 'schram', 'stapt', 'wringen', 'daags', 'ysabeleo', 'onkunde', 'verkronkeld', 'weemoedigheden', 'geschaduwde', 'knikkerende', 'allereerstevan', 'gaapten', 'keeltjes', 'klaterend', 'verzwegen', 'ridderlijkste', 'schemeringendat', 'doortrilde', 'vileinig', 'massas', 'droppel', 'vernietiging', 'wish', 'nachtegaalstem', 'liefdet', 'beemden', 'makes', 'luchtiger', 'bezetten', 'haantje', 'wintersprak', 'doorschokt', 'kwinkeleert', 'verdeelden', 'zweetten', 'ziedt', 'verwart', 'geboektdat', 'maaltijd', 'stijgende', 'zwaardinscheede', 'zaâlde', 'been', 'wonderde', 'frotsierend', 'angelsaksische', 'sproeieren', 'uitgebroed', 'viewing', 'krisp', 'heiligheid', 'paardesprong', 'geschikt', 'appears', 'gloriënde', 'vervloeiden', 'geheimzinnig', 'kenden', 'interessante', 'lentezon', 'kletterend', 'virus', 'bitter', 'vertrouwd', 'ontstemd', 'gedragengingen', 'charlemagnes', 'duldde', 'stroo', 'dansende', 'drakeserpenten', 'drijfvlucht', 'puin', 'vijand', 'kolossigen', 'àller', 'leidden', 'skeletten', 'kalmer', 'eindigde', 'array', 'ratelend', 'wijdte', 'weigert', 'spande', 'sections', 'ondieren', 'already', 'hiërarchieën', 'bewaaien', 'kerkerhof', 'despite', 'magiërsamaar', 'bezetting', 'blatende', 'verrassingen', 'afwachting', 'onmiskenbare', 'mmmmmmmet', 'welzoo', 'out', 'beweegloos', 'gegraven', 'doffer', 'zicht', 'verontwaardigde', 'galante', 'joyeuselijke', 'alleronverwachtste', 'druïden', 'tikjes', '1e5', 'ongelukkiglijk', 'vreêzaam', 'kraaien', 'kringen', 'werpspies', 'tooverfonteinen', 'feestkleederen', 'atmosfeerwij', 'omgekomen', 'weifeldet', 'kameren', 'wiesch', 'beelden', 'doolde', 'ofschoon', 'weleer', 'doelloos', 'schedels', 'oosten', 'doodsgevaar', 'ridderromans', 'rietstengelen', 'dresseren', 'ongeveer', 'lampje', 'bereik', 'blankende', 'moeilijken', 'magiër', 'xiv', 'waterval', 'data', 'staven', 'wenschte', 'durf', 'forsch', 'stappen', 'arbeidde', 'edelsteenen', 'geholpen', 'aanzwellend', 'welgevallen', 'genaken', 'altemaal', 'drinkende', 'alidrisonders', 'telt', 'lieft', 'aventureen', 'ontgordden', 'named', 'graasden', 'stappende', 'noodende', 'hanteeren', 'gedronken', 'teederlijk', 'dom', 'telden', 'recept', 'dddraken', 'bezoeksters', 'noordoost', 'windbewogene', 'duidelijke', 'ontga', 'weifelt', 'bekoort', 'gaaft', 'gespoeld', 'onherkenbaar', 'danst', 'klapperende', 'bidt', 'verschieten', 'verdwaalde', 'bevalligen', 'critical', 'gelachen', 'gegund', 'ergerlijk', 'middaglucht', 'geel', 'woonden', 'grijpt', 'sepulker', 'knoestig', 'boek', 'vliegenden', 'dunne', 'speelinstrument', 'teerderlijk', 'bronzen', 'toeval', 'few', 'karbonkels', 'ademt', 'midzomer', 'xiii', 'educational', 'ontstelde', 'xxviii', 'plotse', 'mazen', 'opgestraald', 'horizontaal', 'stervens', 'bewaking', 'mottige', 'jesu', 'viersprong', 'najaarsnevel', 'heerscht', 'geluidvol', 'attached', 'rusteloos', 'gevoegelijk', 'strijdbaar', 'beuketakken', 'ooggelokene', 'chemicus', 'hedendaagsche', 'oogjes', 'hadzochten', 'opportunities', 'inrichten', 'ontvoeren', 'pikduisterte', 'zwoer', 'ruffiaen', 'wiekengewapper', 'fanfare', 'paardgetrap', 'aangrenzend', 'assonantie', 'achtende', 'zoogen', 'krijt', 'gewasschen', 'brommelde', 'bbbbij', 'tweegevecht', 'regionen', 'onbewegelijk', 'teedere', 'wonderwet', 'kwadertiere', 'geheimzinnigheid', 'gothiesch', 'verbeten', 'ontvoerd', 'zwierende', 'schaak', 'sulfer', 'druipende', 'appearing', 'schilknaap', 'laast', 'verjeugdigd', 'bruineerde', 'liefdegetrouwe', 'gedweept', 'onszelven', 'tooverban', 'vrouwendrom', 'donkergrauwe', 'smartvol', 'opgestokene', 'ridderheld', 'verstoren', 'groefde', 'reikten', 'dons', 'houw', 'bespied', 'opheesch', 'overgeven', 'wraak', 'misse', 'ruitjes', 'zieken', 'verscheuren', 'hechttedet', 'wassen', 'optrekken', 'pglaf', 'toornig', 'geboodt', 'ondier', 'kaatsen', 'dolens', 'gestoofd', 'further', 'troostelooze', 'version', 'ysabelezij', 'grachteen', 'ak', 'veldende', 'behandelen', 'bemeesteren', 'zaalgedeemster', 'spansieren', 'luchte', 'vóórgarsoenen', 'vervierkantte', 'veelvuldig', 'receiving', 'maisniedehof', 'bizonderste', 'rhythmisch', 'doopte', 'opgeloopener', 'hevigen', 'glorie', 'achtergrond', 'ontfronsen', 'indrong', 'geborgen', 'opera', 'gehelmd', 'weren', 'tachtig', 'vrouwestem', 'versterkende', 'geroofd', 'waakvol', 'schare', 'omhelzen', 'clareyt', 'gehuldigde', 'nieuwsgierigheid', 'onthaald', 'httppglaforgfundraising', 'survive', 'dooraderde', 'wrok', 'schalen', 'overleefde', 'omzet', 'plantte', 'duisterde', 'paardloos', 'lllàng', 'tuimelde', 'rint', 'klaarde', 'spotlach', 'ysabeleal', 'e', 'gilde', 'vaalwitte', 'afzouden', 'kwijnt', 'sierlijkheid', 'sermoenen', 'groeiden', 'gebreekt', 'voorgenomen', 'oprichtende', 'tientalzoo', 'geketend', 'verbleekte', 'zilverden', 'begroeten', 'betreuren', 'display', 'edelvrouwenwijven', 'loover', 'frotsieren', 'kaken', 'dochterenzag', 'dichterlijk', 'golvend', 'corrupt', 'vliegt', 'verradend', 'gekapt', 'clearly', 'roestige', 'puurste', 'hoofddeur', 'goedmoedig', 'gewelf', 'zéér', 'bemost', 'walganus', 'verstomde', 'because', 'bekwaam', 'aeneas', 'disclaimers', 'neveligen', 'genadiglijk', 'vergezelden', 'treedt', 'haas', 'broederlijke', 'tweeër', 'fluistergesprek', 'omviel', 'heil', 'klokje', 'zwakken', 'perspectief', 'geöpend', 'wisselde', 'dreunde', 'returns', 'front', 'omplakte', 'verleidelijk', 'dioneel', 'onafzienbaar', 'verzwijmd', 'beeldjewas', 'knielen', 'vluchtige', 'vergrauwenden', 'bbbevrijd', 'onethe', 'voorstellende', 'woelde', 'weêrgevend', 'ontsnapt', 'pautenieren', 'wáár', 'ontsloten', 'stukkenden', 'bepeinst', 'groenen', 'tweedenmale', 'variety', 'vaze', 'gemakkelijke', 'broos', 'leenheers', 'gingebare', 'ongerust', 'wonderlanden', 'afgeteekend', 'vrucht', 'breedschouderige', 'verhinderd', 'appelbloesems', 'fosforglans', 'bijkans', 'verdere', '801', 'bespiedcamelot', 'quiten', 'vrijelijk', 'mannemoed', 'smartevol', 'prouaeste', 'twijfelachtig', 'glorifieerde', 'uitgeteekend', 'heirmachten', 'ontsteken', 'gezelleno', 'allerverschrikkelijkste', 'dagelichts', 'verwont', 'kuisch', 'performances', 'bedenkingen', 'peinzende', 'erlangd', 'wapenbroeder', 'lachebek', 'viii', 'gekerm', 'here', 'omhelsd', 'charitable', 'donkerblauw', 'oostersch', 'lichtelijk', 'rossiger', 'bi', 'meineedig', 'alhier', 'damast', 'natte', 'aanstaand', 'wereldfantazie', 'bewoner', 'bestijg', 'gloeihaard', 'behendiglijk', 'vertoornd', 'kartelende', 'verkleeden', 'kerkhove', 'zilvergrijze', 'degelijken', 'leliëzoete', 'gescandeerd', 'zoom', 'tooverbed', 'nietomdat', 'uitschoot', 'godinne', 'leefden', 'pionnen', 'gewelfde', 'dampselen', 'oorden', 'gedaante', 'rotsen', 'omzwierden', 'strijkstaaf', 'gegrijsd', 'energisch', 'treurige', '1d', 'ideeën', 'nabij', 'sneeuwwit', 'rompen', 'sindale', 'bezag', 'stroomende', 'schandelijke', 'required', 'snelste', 'zetteden', 'bijgenaamd', 'gezondene', 'westen', 'huilde', 'gedrang', 'beloofdet', 'bereed', 'wolkbergen', 'urendat', 'begeerde', 'gesleurd', 'doorrild', 'word', 'ontbrand', 'jaagde', 'easily', 'verwoei', 'ontvlieden', 'ii', 'exclusion', 'murmureeren', 'ritselend', 'mank', 'draakjes', 'bewering', 'spichtige', 'golven', 'dènkt', 'loof', 'schimmehand', 'oneere', 'verdelgen', 'luchterring', 'zwartbruine', 'haken', 'tooverviere', 'archaïsch', 'bevestigenden', 'reaching', 'gesmeed', 'beker', 'maatvol', 'kanteelenzoo', 'doorstoken', 'scepticisme', 'brengenhet', 'vizioenen', 'binnenborst', 'onderdrukken', 'zwaardloos', 'afgelegen', 'gewild', 'gestraald', 'ongenaakbaar', 'gewesden', 'rhythmiesch', 'belegerden', 'schilders', 'mechanicus', 'waarneembaar', 'lake', 'leeuwenkop', 'aangegrepen', 'opvolgden', 'détails', 'verspreid', 'serpentenjongen', 'gothiek', 'minuten', 'klaarblijkelijk', 'gediend', 'trekkendicht', 'onverschillig', 'schakeling', 'bescheidenheid', 'uitspraak', 'traan', 'benam', 'spotterspotte', 'voeden', 'aanzag', 'trippelende', 'volgeerne', 'luiden', 'pand', 'verdwaald', 'xvi', 'dikwijl', 'aarzelend', 'bedankte', 'eerlijk', 'geweldig', 'klom', 'gebiecht', 'schitterenden', 'dwaalt', 'geschakeld', 'negenen', 'heilzame', 'drakeei', '99712', 'fazant', 'genomene', 'lendenen', 'bedreigden', 'jonnen', 'govern', 'natuurkrachten', 'wapent', 'meerdere', 'verleidelijken', 'zilverde', 'waarmeê', 'bovenkant', 'hoef', 'mediaevale', 'gepinghierd', 'schaal', 'werktuigkundigen', 'gewagen', 'camelotburchtjes', 'minderen', 'geniï', 'schouder', 'grensde', 'meesmuilen', 'versregels', 'roodblauw', 'vilein', 'monster', 'appelbloesemend', 'sluipende', 'xxiii', 'overtreft', 'asis', 'gregory', 'geschotene', 'magister', 'glinstere', 'schaakten', 'onstelde', 'geddduld', 'afgegaan', 'verpleegd', 'rechtervuist', 'keytievige', 'lezerdraafde', 'luisteren', 'ontroerden', 'koningburcht', 'geëerbiedigd', 'newsletter', 'peinzend', 'geloop', 'gastheer', 'goudgele', 'gekleed', 'veiligheid', 'rommelen', 'fransch', 'pelline', 'bekender', 'bitteren', 'knarsend', 'droomendeez', 'stoute', 'lelievinger', 'geboomte', 'teederlijkmeende', 'verbranddet', 'radeloosheid', 'kermt', 'tronken', 'verlangde', 'tafeltje', 'httpwwwgutenbergnet', 'jonkvrouwevingers', 'dichtbij', 'zachtom', 'halsbergdikwijls', 'stuivelden', 'deletions', 'wapperde', 'radelooze', 'verraadt', 'onwillekeurig', 'wandschildering', 'ontvang', 'zegerijk', 'ontrouwen', 'trouwal', 'getrouwe', 'heftige', 'verstaanbaar', 'getemd', 'hoorenhoefgetrappel', 'lediglijk', 'elftal', 'geleverd', 'turende', 'luchtige', 'diensten', 'valen', 'onthelmde', 'bliksem', 'bezwijken', 'vergaderden', 'appelschimmel', 'gesleten', 'laàt', 'tjilpten', 'wortelen', 'eeuwoude', 'bijzijn', 'spijt', 'zuiverder', 'lentes', 'paardevlieg', 'schaakspelen', 'doorzoeken', 'weêrechoot', 'vreemden', 'ontgaan', 'merk', 'medesmart', 'bizondere', 'zalige', 'boomzware', 'stormende', 'belageren', 'linkerschouder', 'echt', 'opening', 'plein', 'spooksel', 'regenden', 'zang', 'bedraagt', 'gedrochtelijk', 'cour', 'zochttoen', 'verglinsterde', 'verweet', 'gringoletteriep', 'bries', 'doorvaren', 'misdaan', 'zwoele', 'evolutië', 'schater', 'party', 'loerden', 'labyrinthachtige', 'vliedt', 'streep', 'spitste', 'waande', 'schaakspel', 'bedaarde', 'krijgen', 'tooverdraden', 'ontgespt', 'waakhonden', 'bladekijn', 'verlangtdat', 'sluier', 'kàn', 'kelke', 'kruipende', 'ruif', 'bloedroode', 'dochterzóó', 'voornaamste', 'plechtig', 'regels', 'assch', 'wrochte', 'looveren', 'ruggelings', 'keytieve', 'belust', 'bevrijddet', 'waarna', 'waartusschen', 'fluweelmottig', 'andereof', 'godin', 'tooverdier', 'sneeuwende', 'morgenmist', 'stinkt', 'toovergepeize', 'uitkronkelde', 'repten', 'alexander', 'vergeefsche', 'didoneeldie', 'ddan', 'stappenden', 'vermoordden', 'tooverschaakspel', 'financial', 'natten', 'spoedde', 'muursteilen', 'drakinen', 'zonsopgang', 'bevestigend', 'spiraal', 'twaalfde', 'stuwde', 'romewaarts', 'jonste', 'polsen', 'menschelijke', 'voortaan', 'botsten', 'onwillekeurigen', 'bevriend', 'onversaagde', 'feloen', 'vertraagde', 'kondschap', 'latere', 'against', 'wellieven', 'burchtbewoners', 'weeklaagde', 'redistribute', 'verdwaalden', 'spiedende', 'maintaining', 'zadels', 'gedroomd', 'verfrissching', 'emailleerde', 'verwijderde', 'minstreel', 'cier', 'mesdade', 'vroegzomer', 'stored', 'gevondende', 'dapperder', 'blànk', 'kraaiende', 'kronijken', 'doodt', 'nieuwgierig', 'dommeling', 'vromen', 'cease', 'bevallig', 'nietteweten', 'hijgenden', 'linked', 'rugge', 'brittanië', 'nederlandschen', 'berouwen', 'rooder', 'donation', 'deugde', 'teekenend', 'schakers', 'rechter', 'ieder', 'morgenlandsche', 'zwaaide', 'verwijdert', 'klinkelen', 'dronkt', 'trek', 'verdronkene', 'gekruide', 'opving', 'onzachte', 'galehotanders', 'groenblauw', 'pleizier', 'haardsteden', 'doe', 'heugen', 'hemzelven', 'credo', 'verslonden', 'leviathan', 'omhelzende', 'voltrokken', 'gerieve', 'hebbennaar', 'zittend', 'merchantibility', 'various', 'placht', 'punitive', 'ontmalied', 'raken', 'achten', 'vergund', 'beweerde', 'riddertaak', 'ontvangt', 'vereischte', 'opstijgen', 'keizers', 'vaal', 'kapellegawein', 'hechten', 'geboortig', 'blauwzwarte', 'aangetikte', 'opgeklaard', 'ontweken', 'bezong', 'sparta', 'joviaal', 'aangeslopen', 'heschen', 'wijl', 'preserve', 'chief', 'dià', 'slingerde', 'zing', 'maximum', 'levend', 'opgetogen', 'weegt', 'jeestendie', 'verdwijnt', 'spiedt', 'lonkten', 'moerassig', 'voerder', 'aandeed', 'binnensmonds']\n",
      "\n",
      "['notemuscaten', 'genazen', 'registered', 'zwieren', 'voorspraak', 'maag', 'duiven', 'genoot', 'research', 'redistributing', 'daat', 'spelonk', 'stappans', 'mouwen', 'drongt', 'jare', 'whatsoever', 'zadelen', 'spinnerag', 'tooverslaap', 'loenschte', 'eed', 'gedood', 'psalterion', 'vertrekken', 'dubbele', 'zande', 'zijdelings', 'eureka', 'aangenaam', 'vreeselijke', 'gloorde', 'snik', 'caveerne', 'goedertieren', 'richt', 'glanzen', 'dauwe', 'dochtere', 'vermag', 'steigeren', 'bonden', 'bewaakte', 'jonstig', 'waas', 'vingerkijn', 'gemoede', 'ontvaen', 'gedoofd', 'ijlende', 'peis', 'ondoenlijk', 'geheim', 'wachters', 'oudste', 'bewaren', 'heeten', 'bewonder', 'wasem', 'waken', 'protect', 'gedaanten', 'ridderroman', 'hei', 'dul', 'oudheid', 'hemelen', 'méér', 'zetelt', 'prik', 'jaspisblad', 'verrees', 'bleeft', 'ontwaakt', 'wenschen', 'onderling', 'toom', 'verried', 'thans', 'latende', 'levensgevaar', 'maliënhand', 'scherpe', 'versaagd', 'snorrende', '90', 'weelde', 'herfstlucht', 'droop', 'doch', 'verholen', 'blinde', 'kleineerde', 'hoffelijk', 'gezadeld', 'kerst', 'pinksteren', 'widest', 'reep', 'afmattend', 'purper', 'krijg', 'weêrszijden', 'hertogin', 'voelen', 'way', 'schrikten', 'blootshoofds', 'inkt', 'houdende', 'kimmen', 'dierbare', 'weêrom', 'menige', 'strekten', 'offers', 'geesels', 'spottend', 'team', 'ontlijven', 'blijvende', 'vermoeden', 'donkerde', 'avonden', 'omwegen', 'gezond', 'page', 'ongewapende', 'gapende', 'bizonder', 'halve', 'pigmentwijn', 'lente', 'ophaalbruggen', 'allerlei', 'schok', 'murmelen', 'rilde', 'vraagde', 'uitgespreid', 'rules', 'medelijden', 'office', 'enkel', 'breach', 'second', 'immediate', 'verblind', 'getroost', 'kunst', 'gordijnen', 'zalen', 'explanation', 'volbrachte', 'hoogst', 'bel', 'handschoen', 'termen', 'brandende', 'steile', 'through', 'ghewes', 'gaven', 'openbaren', 'battalgiën', 'duizelde', 'kleinere', 'magie', 'restrictions', 'honderdvijftigste', 'oneigenlijke', 'zilverige', 'doorzichtige', 'vedelen', 'pinksterendage', 'bevelend', 'gaande', 'beginnen', 'wasschen', 'nederlandsch', 'artsoen', 'gevecht', 'trawanten', 'toezag', 'hevigste', 'tooverrivier', 'rustingen', 'effort', 'before', 'behoefde', 'vergiffenis', 'gelooft', 'porprijs', 'verlucht', 'mindet', 'vleugelen', 'geesten', 'toovervallei', 'kerker', 'avondmaal', 'hinnikten', 'modestelijk', 'boomkruinen', 'royalties', 'bezongen', 'berouw', 'draaide', 'weken', 'redistribution', 'tooverboom', 'fluisterend', 'wierd', 'schoonheid', 'radertjes', '501c3', 'voegden', 'hellewaart', 'uitweg', 'eenderlijk', 'beschaamd', 'spaden', 'onttooveren', 'bloemkens', 'eeden', 'only', 'leenheer', 'toeven', 'printed', 'considerable', 'trensoen', 'halmen', 'dankte', 'verheffen', 'telde', 'expenses', 'onteeren', 'vergulde', 'geheime', 'verlies', 'waarlijk', 'wegs', 'hijgde', 'krijgsknechten', 'springen', 'steigerende', 'gescheurd', 'muggen', 'berijmde', 'geraden', 'wandelden', 'knappe', 'schoof', 'glanzende', 'aartsengel', 'eerbiedige', 'kruinen', 'occulte', 'bezitten', 'schemer', 'net', 'zaken', 'schel', 'hunnen', 'geschakeerde', 'proofreading', 'slagen', 'schade', 'geurige', 'bezieling', 'geveêrte', 'draaien', 'wachtten', 'aas', 'legal', 'bezit', 'aard', 'aankwam', 'bestond', 'gezocht', 'toeverlaat', 'dwaas', 'old', 'begeleiding', 'flamboyant', 'vorstinne', 'wàt', 'vanilla', 'michael', 'joye', 'azuren', 'rimpels', 'belachen', 'fulpen', 'vernooye', 'twijgkens', 'kleêren', 'afstand', 'omsingelen', 'vervaard', 'aten', 'ranke', 'vedelaren', 'staal', 'karreridder', 'geschaakt', 'heviger', 'promoting', 'gelegerd', 'speler', 'schouw', 'omme', 'vogelkijns', 'litteratuur', 'morgens', 'josteeren', 'vostaert', 'koor', 'bediedde', 'beugel', 'marked', 'laagste', 'salomo', 'verstand', 'geheimenis', 'computers', 'schootplooien', 'visit', 'droef', 'plegen', 'keltischen', 'hondjes', 'waagden', 'wapen', 'anything', 'kindsheid', 'ademde', '2', 'menigerwerve', 'opsloeg', 'lieu', 'specified', 'halen', 'neus', 'precieselijk', 'uitgekeken', 'wonderboomen', 'law', 'misten', 'verzocht', 'tweestrijd', 'geschiedde', 'waarbij', 'gevierd', 'torentrans', 'verschrikt', 'hangen', 'opgeslagen', 'minstens', 'vatten', 'rusten', 'lioen', 'bescheidenlijk', 'active', 'dwongen', 'doel', 'bladerkens', 'gang', 'honddderdvijftig', 'stuivende', 'naakt', 'scholen', 'deele', 'eenzaam', 'voorgrond', 'wèg', 'weeze', 'gedoold', 'gothische', 'zegen', 'bemint', 'menschelijk', 'herhaalt', 'ken', 'afgesprongen', 'tooveriën', 'wonderolie', 'bestrijden', 'gezondheid', 'kinderbedde', 'verstoord', 'kuiltje', 'oorlof', 'certain', 'anywhere', 'omgeven', 'reuzinnen', 'eensklaps', 'ledig', 'schuld', 'voorplein', 'beminden', 'elfde', 'huisman', 'kleedde', 'onvervaard', 'purpose', 'geraamte', 'fijne', 'miranda', 'verheugd', 'should', 'kier', 'littérature', 'begeleidende', 'has', 'fayt', 'stijg', 'beweegt', 'krullen', 'bibliotheek', 'wijdener', 'internatielijke', 'dertig', 'intellectual', 'loopende', 'binden', 'welzoete', 'pieter', 'kwartieren', 'wijzende', 'amoreuselijk', 'conste', 'vierkant', 'koene', 'professor', 'passen', 'kennen', 'chanson', 'verzameld', 'schandekarren', 'plakkende', 'kloppen', 'middernacht', 'geheimenissen', 'bron', 'vraag', 'berijden', 'verdwalen', 'meesten', 'tartende', 'scheede', 'schoonzone', 'wijken', 'ontsnappen', 'hulp', 'contributions', 'stad', 'begaven', 'kam', 'veege', 'kyrië', 'gelegen', 'aantal', 'venijnig', 'twijfelaar', 'violette', 'kleur', 'bronnen', 'noodlottigheden', 'tooverzwaard', 'jochant', 'keffende', 'lezarden', 'both', 'meldden', 'gebeeste', 'woont', 'kleindochterlijn', 'cierlijk', 'grauwen', 'verzoek', 'hemelrijke', 'things', 'verstaat', 'gelogen', 'verzwijmde', 'hollandsche', 'inruilen', 'kruizen', 'goedkoope', 'ongelukkig', 'trilleren', 'gepinghierde', 'delven', 'cause', 'verwonderd', 'gekondigd', 'luisterden', 'hielpen', 'lettergrepen', 'victorië', 'brommende', 'alomme', 'gedurende', 'veronzichtbaarde', 'vlogelen', 'references', 'moorden', 'verontwaardiging', 'welks', 'verren', 'stoet', 'bevreesd', 'jachte', 'also', 'kranken', 'gevolg', 'zweefvlucht', 'geschuinoog', 'lijve', 'heerlijke', 'zand', 'employees', 'brauw', 'glavië', 'besteld', 'vuurvliegjes', 'geplaatst', 'vredestijd', 'tweegesprek', 'lijven', 'vuistslag', 'beek', 'verdronk', 'hàd', 'toèn', 'bloesems', 'vrij', 'wrene', 'jouvence', 'vroegzomeren', 'druk', 'verrukt', 'drogen', 'overpeinzingen', 'vage', 'kapelaan', 'waarde', 'antwoorden', 'omhoesde', 'hypocras', 'vergeve', 'makkeren', 'dwaalde', 'eéne', 'he', 'leunde', 'degelijk', 'dolk', 'removed', 'diepst', 'priemtijd', 'rosse', 'based', 'kring', 'bewaakt', 'lichte', 'stralenden', 'beschermd', 'bekende', 'beuren', 'jaspis', 'kleederen', 'bezingt', 'wensch', 'verdriet', 'snelle', 'ziek', 'doodelijk', 'mordrets', 'gehouden', 'schaarden', 'waaierstralen', 'verbrandde', 'vagevuursche', 'kreunende', 'maak', 'kerkertraliën', 'forschen', 'manenacht', 'leiding', 'zwaaien', 'keytivige', 'dialoog', 'ontevreden', 'ontsteld', 'tooverbedden', 'kabbelingen', 'jegen', 'sentence', 'steil', 'prooi', 'tartte', 'tooverbedde', 'verwinnen', 'hol', 'ontschaken', 'noodt', 'awi', 'westwaarts', 'beurte', 'kroop', 'boezems', 'lindeboom', 'keeping', 'openmonds', 'stralender', 'welschoonen', 'rijtje', 'ongeduldig', 'robijnen', 'koorden', 'onaantastbaar', 'wieschen', 'wuiven', 'spookte', 'roerloos', 'sleutelbos', 'landstreek', 'borg', 'denke', 'omneder', 'sleepten', 'artsenijmeesteren', 'wesp', 'wandelingen', 'keersen', 'wanneer', 'versagen', 'rooderozenstruiken', 'warranty', 'ontzettend', 'glimlachend', 'gevloekt', 'electronically', 'misbaar', 'files', 'twaalftal', 'grafgewelf', 'schalker', 'heijning', 'twijfelden', 'eindelooze', 'voorzichtig', 'nachtwake', 'omgewend', 'raamke', 'stemde', 'keep', 'vernomen', 'bruidvaart', 'gestalte', 'kabbeling', 'divertiert', 'dichters', 'geslingerd', 'vrouwelijkheid', 'victorie', 'eten', 'geleerden', 'wenkte', 'donderde', 'geheimvol', 'vizioen', 'monden', 'vloekende', 'kamer', 'vazen', 'does', 'glimlachende', 'dreigend', 'nederlandsche', 'boomstam', 'zwier', 'glans', 'destroy', 'longinus', 'concerning', 'vocht', 'couverture', 'gebenedijd', 'daarheen', 'alzoo', 'iedereen', 'stallen', 'leggen', 'lijfwacht', 'allicht', 'oversproeierd', '1350', 'schoothondje', 'ademen', 'nù', 'clerkekonste', 'vertrapt', 'stroomenden', 'snort', 'ivoor', 'drong', 'vreest', 'drakebloed', 'gestreken', 'klinkende', 'last', 'stralend', 'bekruiste', 'kin', 'scaeken', 'verwarde', 'geraamten', 'rommelde', 'boeksken', 'ontwaakte', 'zonken', 'wijduit', 'lichaam', 'geloovig', 'solicit', 'waard', 'jaloerschelijk', 'komende', 'betoovering', 'weven', 'ontsnapten', 'onvindbaar', 'camelots', 'geluw', 'vergaan', 'created', 'gevolgd', 'sturen', 'stottert', 'middel', 'rammelend', 'vind', 'bijten', 'eleïson', 'tasch', 'bemoedigend', 'omzag', 'keert', 'mottigen', 'gebloemt', 'beving', 'away', 'ascii', 'costs', 'vondt', 'alléén', 'boord', 'concept', 'wandtapijten', 'dierbaar', 'versmeulde', 'prouaetse', 'pelegrijnen', 'scheiden', 'elleboog', 'lelië', 'gesteente', 'draagt', 'pairs', 'houweelen', 'dringende', 'amelaken', 'vermoeienden', 'gonder', 'dansen', 'vazal', 'krachtige', 'schaker', 'blaasbalgen', 'gestaan', 'geloken', 'nachten', 'computer', 'blazende', 'gestapeld', 'belaagden', 'burchtzaal', 'verschrikten', 'glas', 'trouvère', 'gespeeld', 'verzonken', 'zadelboogtasch', '1e', 'steden', 'kiest', 'bedwongen', 'maait', 'leliewitte', 'heldenfayten', 'vernam', 'overwonnen', 'gebaard', 'glorieuze', 'slangen', 'divertieren', 'snorkt', 'eenzamen', 'reuse', 'ijlen', 'vervulde', 'stormden', 'omrond', 'property', 'zomerluchten', 'paying', 'teffens', 'geziene', 'file', 'gemalieden', 'check', 'varen', 'waan', 'ontroeren', 'gebaarde', 'mate', 'ddddaar', 'gescholden', 'diengeesten', 'element', 'berouwe', 'mummelt', 'vernietigen', 'anijs', 'ridderlijken', 'koper', 'rolden', 'brokkelde', 'ontzaglijk', 'gemaliede', 'nearly', 'werken', 'vervelen', 'schaterlach', 'ouder', 'knapestemmen', 'ontwapende', 'welnu', 'gestegen', 'volk', 'ziekbed', 'vervoering', 'koos', 'bloeiden', 'alom', 'amijsen', 'vulden', 'verklaarde', 'garsoen', 'mantelrug', 'zeebreede', 'many', 'amandelen', 'lieden', 'antieke', 'voltooien', 'ophaalbrug', 'dwaalden', 'small', 'verdrongen', 'kussens', 'linkerarm', 'manelicht', 'plotsen', 'onzinnige', 'physical', 'tred', 'httppglaforg', 'ontgespte', 'galmde', 'praten', 'rustiglijk', 'shall', 'schemeringen', 'ervan', 'fantazie', 'uitgeroepen', 'vangt', 'omver', 'prepare', 'welwetend', 'eventjes', 'prince', 'oomlief', 'gekust', 'milde', 'damage', 'waak', 'vriendschap', 'lijkteeken', 'wankelde', 'pijne', 'gestorvene', 'elfen', 'mengen', 'mompelen', 'snelden', 'weduwnaar', 'federal', 'zadelboog', 'lijn', 'aanstaanden', 'verdreef', 'schoenen', 'straalden', 'stuurde', 'oir', 'kaerelen', 'verstrooien', 'vlammenden', 'wandelen', 'heldendaad', 'bewegen', 'vie', 'donderend', 'desniettemin', 'bliaut', 'gepinghiert', 'gescheiden', 'moeras', 'begeert', 'ontwakende', 'werktuigkunde', 'onderwijl', 'vijanden', 'praktijk', 'schoffieren', 'sinopel', 'stalen', 'tijds', 'tempeest', 'kuische', 'astrale', 'wolkmassas', 'beeltenis', 'vragende', 'geheimzinnige', 'permitted', 'ijlings', 'starende', 'spoediglijk', 'tilde', 'zuilen', 'bezwijmd', 'mild', 'handschoenen', 'accordance', 'onzalig', 'hevige', 'kristal', 'menigen', 'ridderburchten', 'verslagenen', 'gewapenden', 'meerder', 'nazarene', 'slecht', 'blanken', 'naakte', 'beweegkracht', 'vensterbank', 'schepping', 'blies', 'streed', 'bevrijdde', 'peper', 'zoetjes', 'psaltherion', 'beidens', 'kregen', 'dwale', 'obtaining', 'scheppen', 'zegende', 'zuchtende', 'zaligen', 'name', 'rustte', 'prof', 'hinnikend', 'couplets', 'weeft', 'gracielijk', 'versmolten', 'geschaakte', 'klinkt', 'politiek', 'bodem', 'klaver', 'available', 'sleepte', 'razende', 'fluweelen', 'verledenheid', 'wolven', 'snellenden', 'mirakels', 'vervolgde', 'loor', 'koningskrone', 'geliefde', 'schere', 'generations', 'dorsten', 'hope', 'getuigd', 'belagen', 'deugd', 'almost', 'nachts', 'konst', 'duurde', 'onzes', 'zevenen', 'verzellen', 'genoegen', 'edelmoedigheid', 'bedenk', 'bewaarengelen', 'woelende', 'gebruis', 'beschuldigde', 'gevouwen', 'ruk', 'huwelijk', 'pavement', 'lieren', 'peinsde', 'stout', 'wuifden', 'vergezelt', 'rotsblokken', 'onschuld', 'stijl', 'straten', 'bezwijmende', 'ontmoeting', 'wemelden', 'serven', 'vloeiende', 'weinige', 'angst', 'gesuizel', 'kostbaar', 'redenen', 'faytvanwapenen', 'moogt', 'tarten', 'klomp', 'gouddraadblonde', 'huiver', 'huwe', 'aanzicht', 'veler', 'blaffende', 'grinnikend', 'zaligheden', 'zorgelijk', 'wònder', 'dorper', 'rijke', 'waarvoor', 'geheimvolle', 'locations', 'herdacht', 'owns', 'dikke', 'plechtige', 'honderdvijftig', 'daverde', 'zachtekens', 'rossige', 'noodig', 'demonen', 'end', 'glimlachen', 'rolkussen', 'riffen', 'verkleumde', 'dunkt', 'ànders', 'gevaarlijk', 'beschutten', 'overzijde', 'verheugde', 'grazige', 'vorstinnen', 'epische', 'glansden', 'wits', 'lokten', 'krispe', 'twi', 'achttien', 'toover', 'verdrijven', 'sterken', 'onbewust', 'upon', 'sagen', 'trotsche', 'eentonig', '1c', 'redde', 'overwinnen', 'weidde', 'lachen', 'receipt', 'kelen', 'kaars', 'raven', 'kijken', 'bedenken', 'slingerden', 'zijweg', 'derde', 'begeerig', 'marias', 'spottende', 'dr', 'dorperlijk', 'there', 'ongeluk', 'lijnen', 'minziek', 'mart', 'damp', 'bescherming', 'amoers', 'gestapelde', 'jolijselijk', 'vliegende', 'gehuwd', 'lagere', 'schateren', 'aanloopende', 'tegenstander', 'snorkte', 'geknipte', 'biechtte', 'modernen', 'rolde', 'penninc', 'symbool', 'koninkje', 'wetende', 'rijen', 'verscheidene', 'bond', 'daalden', 'makker', 'readable', 'geknield', 'perkament', 'pumegernaten', 'ruim', 'hoeden', 'ribauden', 'kunnende', 'kruisvaarders', 'formats', 'welbekende', 'veld', 'plek', 'mèt', 'staffieren', 'particular', 'gerimpeld', 'studiën', 'scheerden', 'daarmede', 'nagepeize', 'blijdschap', 'koningarturromans', 'zorgvuldig', 'ruiter', 'wakende', 'seinden', 'verzorgd', 'regen', 'slaakten', 'dapperen', 'bedden', 'steigerde', 'spiedden', 'jonckbloet', 'bruin', 'gloeien', 'prayeelen', 'hoofschheden', 'ratelde', 'wuifde', 'gevaarvolle', 'tegenover', 'schonken', 'knapevanwapenen', 'grammatikaal', 'bound', 'moederdraak', 'levenloos', 'echte', 'schrik', 'bleken', 'spiegelde', 'stukkende', 'copied', 'leeuw', 'walm', 'plain', 'traliën', 'onthouden', 'aanschouwd', 'weefden', 'schoentip', 'schildknecht', 'bare', 'rondetafelridders', 'gesprekken', 'gereikt', 'waadde', 'vreugdekreet', 'wonders', 'stopen', 'knalde', 'onmacht', 'exempt', 'than', 'vertel', 'waterjofferen', 'wankelend', 'rimpelgelaat', 'verdacht', 'siglatoene', 'b', 'tafelronderidder', 'bachten', 'gloeiden', 'bloede', 'contain', 'implied', 'straalt', 'country', 'brachten', 'werpt', 'versperde', 'beeld', 'bekampt', 'riem', 'libellen', 'romans', 'noenmaal', 'mordet', 'priesters', 'wenkbrauwen', 'duwieren', 'legertros', 'eeuwige', 'trans', 'kronkelende', 'zekeren', 'vloden', 'parelmoêren', 'vrome', 'durende', 'prezen', 'tilden', 'schat', 'versperden', 'accepted', 'prominently', 'ponioenen', 'herkennen', 'priesteressen', 'waartegen', 'bekoord', 'ramen']\n",
      "\n",
      "['marde', 'betreurde', 'verslaat', 'meldt', 'schrikken', 'sneven', 'verplicht', 'vreeze', 'punt', 'ruiten', 'see', 'scherts', 'indruk', 'kunt', 'blankte', 'liggende', 'performing', 'most', 'g', 'koninkrijk', 'nevels', 'gestreden', 'veranderd', 'weemoedig', 'brant', 'omarmde', 'grazen', 'schitteren', 'stroomde', 'ditmaal', 'voorschijn', 'klaagt', 'tooveraar', 'voorbeeld', 'pijl', 'dddamoselen', 'schouwspel', 'duidelijker', 'verhinderen', 'steê', 'zinkende', 'duister', 'return', 'ziende', '1', 'ju', 'glansde', 'huwde', 'spreekt', 'streng', 'evenmin', 'herinnert', 'sloten', 'merkte', 'opgestaan', 'lied', 'ontmoet', 'hoogere', 'menschen', 'gewaad', 'blijf', 'heller', 'besteeg', 'money', 'strak', 'herhaald', 'toonde', 'gelen', 'krimpen', 'vedelde', 'below', 'keuze', 'vergeet', 'angstiglijk', 'schildpad', 'ure', 'fluisterden', 'vraagt', 'halsbergen', 'werpen', '4', 'bittere', 'pooze', 'atmosfeer', 'sliepen', 'obtain', 'gaanderijen', 'broeder', 'kwaden', 'partië', 'gespannen', 'vermeiden', 'toorn', 'ijlere', 'toonen', 'bos', 'lamoen', 'hieuw', 'sneeuw', 'zingt', 'menigte', 'gemake', 'bekkens', 'wending', 'neer', 'receive', 'kreunen', 'date', 'royalty', 'hernam', 'voel', 'geval', 'zijden', 'ontfronste', 'toovermacht', 'hierheen', 'official', 'wijze', 'sollen', 'heugt', 'start', 'diamanten', 'hieuwen', 'véél', 'sprake', 'gereide', 'vijandelijke', 'bekampen', 'dochterlijn', 'dààr', 'ontdekt', 'heffende', 'verklaren', 'draven', 'velde', 'they', 'moeizaam', 'morgueines', 'entity', 'uitriep', 'bedekte', 'vrede', 'geworpen', 'goden', 'prachtig', 'opener', 'bescheiden', 'zake', 'kamenieren', 'verdwijnen', 'bereikt', 'moerassen', 'beproefd', 'zoek', 'new', 'werk', 'written', 'bliksemsnel', 'waaraan', 'verwondering', 'ontzette', 'woei', 'kraag', 'toegang', 'lichtte', 'payments', 'omgaf', 'omziende', 'hangende', 'voerden', 'vertellen', 'weenen', 'vlammende', 'make', 'paar', 'enkelen', 'zestien', 'koningsburcht', 'moeilijke', 'except', 'schuin', 'chalcedoon', 'schijn', 'sporen', 'honderden', 'schelle', 'herten', 'leger', 'zwoeren', 'begeven', 'donate', 'eenvoudig', 'moederserpent', 'schreden', 'éen', 'yvoren', 'schouwt', 'gramschap', 'streek', 'jullie', 'kermende', 'smallen', 'fronste', 'zekere', 'cirkelend', 'ééne', 'groene', 'kondde', 'zelf', 'liefst', 'handschrift', 'weerde', 'joegen', 'doemde', 'strijdros', 'beschreven', 'vlakten', 'heimelijk', 'verveling', 'moeite', 'lieflijk', 'teugel', 'doolden', 'zwom', 'plukken', 'gladden', 'complying', 'wachtende', 'leeuwerik', 'vazallen', 'produced', 'diamant', 'holte', 'wandelde', 'gevuld', 'school', 'zone', 'stapvoets', 'dubbelen', 'bloeiende', 'keken', 'zalig', 'verheven', 'biedt', 'tooverwand', 'gereed', 'stortten', 'ving', 'steen', 'disclaimer', 'included', 'speeltuigen', 'notice', 'stammen', 'keel', 'onnoozel', 'veldslag', 'dochteren', 'achterhaalt', 'genegen', 'foundations', 'spuwende', 'krakende', 'fijn', 'gedicht', 'user', 'plicht', 'meest', 'mochten', 'drinken', 'dapper', 'vroô', 'zondige', 'eeuw', 'tanden', 'drang', 'verwarring', 'deuren', 'spreek', 'kerstenhede', 'voorwaar', 'allienes', 'gloeide', 'dulden', 'geschonken', 'stapten', 'equipment', 'vagevure', 'storen', 'zessen', 'verschrikte', 'ontberen', 'beroemde', 'loutere', 'geleerde', 'ballen', 'ruw', 'verwonderden', 'gemoet', 'muur', 'general', 'stand', 'glaviën', 'sluiks', 'verbonden', 'gladde', 'geschaard', 'ijverzuchtig', 'herberg', 'kleine', 'gebeden', 'ai', 'zwevend', 'orsen', 'bank', 'dàt', 'lichtende', 'kruizes', 'vigeliën', 'verbazing', 'middennederlandsche', 'klopte', 'ritselende', 'raden', 'gesneld', 'ofte', 'keerde', 'palafroeten', 'gloeiende', 'herinnering', 'love', 'zittende', 'zinken', 'grootvaders', 'kleurige', 'leoparden', 'applicable', 'outside', 'bezield', 'heerschten', 'gevlogen', 'spiegel', 'schamel', 'éene', 'dienstwijf', 'plassen', 'trompetten', 'battalgië', 'please', 'hoogte', 'stralende', 'euvele', 'leêg', 'geheeten', 'manestraal', 'afgrond', 'weifelde', 'burchtzalen', 'found', 'vervaarlijk', 'broeders', 'drijvende', 'bereiden', 'fellen', 'twaalver', 'gaarne', 'limitation', 'lachter', 'zaligheid', 'dapperlijk', 'where', 'lays', 'burchtmuren', 'hommel', 'maagdelijn', 'waag', 'gekloofd', 'ramp', 'staarten', 'verschijnt', 'karelromans', 'dringt', 'herkend', 'zinnen', 'schaken', 'stapelde', 'zàg', 'aangericht', 'wisselden', 'deur', 'jagen', 'staarden', 'wijlen', 'gespaard', 'kostbare', 'cirkel', 'efforts', 'armoede', 'grasplein', 'riddervanaventure', 'wederomme', 'wanhopig', 'galmden', 'draafden', 'achterover', 'zieke', 'bloeide', 'vloek', 'grooter', 'wieken', 'kuil', 'achteren', 'troonzetel', 'writing', 'vijfduizend', 'boodschap', 'treffen', 'strekken', 'azuur', 'up', 'read', 'steke', 'gesprongen', 'fladderde', 'macht', 'welkom', 'buik', 'ontdekte', 'loonen', 'trouwste', 'motputterig', 'bellen', 'luchters', 'stede', 'biechten', 'cost', 'vaar', 'defective', 'kloppend', 'geroepen', 'barstte', 'klauwen', 'flanken', 'verduidelijkten', 'smaragd', 'ventaliën', 'nevelen', 'juweel', 'week', 'lijfstaffieren', 'jeugdig', 'middennederlandsch', 'omhelsden', 'geledene', 'vertoonden', 'bellekens', 'mensch', 'vlammen', 'modest', 'rijmen', 'vergeven', 'sylfewieken', 'ijlden', 'scheidden', 'gezeef', 'beveel', '1e9', 'sprakebloeme', 'breidde', 'gericht', 'gedachten', 'beêvaart', 'eeren', 'gewroken', 'zond', 'opgestegen', 'geheelen', 'kerkhof', 'boozen', 'ongeloof', 'huldigden', 'scaecspel', 'grauw', 'number', 'sprenkelden', 'spanseeren', 'fout', 'smal', 'reciet', 'struweel', 'used', 'ordineerde', 'oûvadertje', 'serpenten', 'following', 'agaath', 'beschermde', 'drank', 'gedaald', 'mengden', 'jochanten', 'gerust', 'keytieven', 'slinke', 'dichtten', 'liebaertkop', 'roos', 'zweeg', 'curliaen', 'warranties', 'zegevierende', 'gonen', 'geklonken', 'verlicht', 'orisone', 'wendingen', 'ronden', 'glinsterende', 'tooverconste', 'geruisch', 'dal', 'vierde', 'schijnen', 'maatschappij', 'alleene', 'kemenaden', 'zwijgende', 'who', 'sprongen', 'omzoomd', 'donkeren', 'rondomme', 'nederig', 'ondertoon', 'wijs', 'gemeend', 'wenteltrap', 'liability', 'luidde', 'vertoond', 'sponde', 'paragraphs', 'helft', 'fronsende', 'blauwen', 'vlakkige', 'nauwer', 'stadigen', 'machtig', 'neef', 'spleten', 'zoekt', 'figuren', 'vesper', 'bezwijmde', 'treê', 'somwijlen', 'ongeval', 'aangezicht', 'zelden', 'people', 'mortorië', 'duvelsche', 'zendt', 'ravijn', 'defect', 'daarop', 'wwwgutenbergnet', 'ademloos', 'tranen', 'verloopen', 'twijfelt', 'doorzichtig', 'verleidde', 'aanval', 'bloedbad', '1e7', 'herinneren', 'jubelde', 'verdedigde', 'belang', 'blauwde', 'gegleden', 'onzalige', 'intusschen', 'dale', 'hoofdje', 'ijlde', 'verweerde', 'disch', 'scherne', 'tegenspeler', 'ooren', 'galehots', 'luit', 'geloofd', 'weêrklonken', 'beraden', 'bed', 'geschreven', 'derivative', 'kort', 'rand', 'gesteund', 'future', 'venster', 'keulen', 'geleiden', 'vluchtende', 'ontmoetten', 'wouden', 'ding', 'dra', 'droomden', 'tooverwagens', 'getroffen', 'smartelijke', 'onderscheiden', 'reuzig', 'these', 'vogelkijn', 'means', 'valiant', 'zweer']\n"
     ]
    }
   ],
   "source": [
    "# made it into one function (see above)\n",
    "\n",
    "# words occuring once\n",
    "print(hapax('data/het_zwevende_schaakbord.txt'))\n",
    "\n",
    "print()\n",
    "\n",
    "# words occuring twice\n",
    "print(hapax('data/het_zwevende_schaakbord.txt', 2))\n",
    "\n",
    "print()\n",
    "\n",
    "# words occuring three times\n",
    "print(hapax('data/het_zwevende_schaakbord.txt', 3))"
   ]
  },
  {
   "cell_type": "markdown",
   "metadata": {},
   "source": [
    "- Write a program that given a text file will create a new text file in which all the lines from the original file are numbered from 1 to n (where n is the number of lines in the file)."
   ]
  },
  {
   "cell_type": "code",
   "execution_count": 63,
   "metadata": {
    "collapsed": false
   },
   "outputs": [],
   "source": [
    "def numbering(filename):\n",
    "    with open(filename, encoding='utf-8') as infile:\n",
    "        with open(filename[:-4] + \"_numbered.txt\", 'w', encoding='utf-8') as outfile:\n",
    "            for n, line in enumerate(infile):\n",
    "                outfile.write(str(n+1) + \"\\t\")\n",
    "                outfile.write(line)\n",
    "                \n",
    "numbering('data/het_zwevende_schaakbord.txt')"
   ]
  },
  {
   "cell_type": "markdown",
   "metadata": {},
   "source": [
    "- Write a script that rolls a dice everytime you run it by generating a random integer between 1 and 6! You can import functionality for doing this via `random.randint()`."
   ]
  },
  {
   "cell_type": "code",
   "execution_count": 67,
   "metadata": {
    "collapsed": false
   },
   "outputs": [
    {
     "data": {
      "text/plain": [
       "4"
      ]
     },
     "execution_count": 67,
     "metadata": {},
     "output_type": "execute_result"
    }
   ],
   "source": [
    "import random\n",
    "\n",
    "def roll(low,high):\n",
    "    return random.randint(low,high)\n",
    "\n",
    "roll(1,6)"
   ]
  },
  {
   "cell_type": "markdown",
   "metadata": {},
   "source": [
    "- [Advanced exercise, possibly involving regular expressions: optional] A *sentence splitter* is a program capable of splitting a text into sentences. The standard set of heuristics for sentence splitting includes (but isn't limited to) the following rules: Sentence boundaries occur at one of \".\" (periods), \"?\" or \"!\", except that:\n",
    "\n",
    "> - Periods followed by whitespace followed by a lowercase letter are not sentence boundaries.\n",
    "> - Periods followed by a digit with no intervening whitespace are not sentence boundaries.\n",
    "> - Periods followed by whitespace and then an uppercase letter, but preceded by any of a short list of titles are not sentence boundaries. Sample titles include Mr., Mrs., Dr., and so on.\n",
    "> - Periods internal to a sequence of letters with no adjacent whitespace are not sentence boundaries, such as in www.aptex.com or e.g.\n",
    "> - Periods followed by certain kinds of punctuation (notably comma and more periods) are probably not sentence boundaries.\n",
    "\n",
    "You might want to check out string functions, like `.islower()` and `.isalpha()` in the official Python documentation online. Your task here is to write a function that given the name of a text file is able to write its content with each sentence on a separate line to a new file whose name is also passed as an argument to the function. The function itself should return a list of sentences. Test your program with the following short text: \"Mr. Smith bought cheapsite.com for 1.5 million dollars, i.e. he paid a lot for it. Did he mind? Adam Jones Jr. thinks he didn't. In any case, this isn't true... Well, with a probability of .9 it isn't. The result written to the new file should be:\n",
    "\n",
    "Mr. Smith bought cheapsite.com for 1.5 million dollars, i.e. he paid a lot for it.\n",
    "\n",
    "Did he mind?\n",
    "\n",
    "Adam Jones Jr. thinks he didn't.\n",
    "\n",
    "In any case, this isn't true...\n",
    "\n",
    "Well, with a probability of .9 it isn't.\n"
   ]
  },
  {
   "cell_type": "code",
   "execution_count": 73,
   "metadata": {
    "collapsed": false
   },
   "outputs": [
    {
     "name": "stdout",
     "output_type": "stream",
     "text": [
      "Mr. Smith bought cheapsite.com for 1.5 million dollars, i.e.\n",
      "\n",
      "\n",
      "he paid a lot for it.\n",
      "\n",
      "\n",
      "Did he mind?\n",
      "\n",
      "\n",
      "Adam Jones Jr. thinks he didn't.\n",
      "\n",
      "\n",
      "In any case, this isn't true... Well, with a probability of .9 it isn't.\n",
      "\n",
      "\n"
     ]
    }
   ],
   "source": [
    "# alternative aproach:\n",
    "\n",
    "from nltk.tokenize import sent_tokenize\n",
    "\n",
    "string = \"Mr. Smith bought cheapsite.com for 1.5 million dollars, i.e. he paid a lot for it. Did he mind? Adam Jones Jr. thinks he didn't. In any case, this isn't true... Well, with a probability of .9 it isn't.\"\n",
    "\n",
    "sentencelist = sent_tokenize(string, language='english')\n",
    "\n",
    "for sentence in sentencelist:\n",
    "    print(sentence + '\\n\\n')"
   ]
  },
  {
   "cell_type": "markdown",
   "metadata": {},
   "source": [
    "------------------------------\n",
    "\n",
    "You've reached the end of Chapter 5! You can safely ignore the code below, it's only there to make the page pretty:"
   ]
  },
  {
   "cell_type": "code",
   "execution_count": 1,
   "metadata": {
    "collapsed": false
   },
   "outputs": [
    {
     "data": {
      "text/html": [
       "<style>\n",
       "    @font-face {\n",
       "        font-family: \"Computer Modern\";\n",
       "        src: url('http://mirrors.ctan.org/fonts/cm-unicode/fonts/otf/cmunss.otf');\n",
       "    }\n",
       "    div.cell {\n",
       "        width:800px;\n",
       "        margin-left:auto;\n",
       "        margin-right:auto;\n",
       "    }\n",
       "    div.cell, .input.hbox {\n",
       "    display:block;\n",
       "}\n",
       "    h1 {\n",
       "        font-family: \"Charis SIL\", Palatino, serif;\n",
       "    }\n",
       "    h4{\n",
       "        margin-top:12px;\n",
       "        margin-bottom: 3px;\n",
       "       }\n",
       "    div.text_cell_render{\n",
       "        font-family: Computer Modern, \"Helvetica Neue\", Arial, Helvetica, Geneva, sans-serif;\n",
       "        line-height: 145%;\n",
       "        font-size: 120%;\n",
       "        width:800px;\n",
       "        margin-left:auto;\n",
       "        margin-right:auto;\n",
       "    }\n",
       "    .CodeMirror{\n",
       "            font-family: \"Source Code Pro\", source-code-pro,Consolas, monospace;\n",
       "    }\n",
       "    .prompt{\n",
       "        display: None;\n",
       "    }\n",
       "    .text_cell_render h5 {\n",
       "        font-weight: 300;\n",
       "        font-size: 16pt;\n",
       "        color: #4057A1;\n",
       "        font-style: italic;\n",
       "        margin-bottom: .5em;\n",
       "        margin-top: 0.5em;\n",
       "        display: block;\n",
       "    }\n",
       "    \n",
       "    .warning{\n",
       "        color: rgb( 240, 20, 20 )\n",
       "        }\n",
       "\n",
       "    blockquote {\n",
       "    border-left: 4px solid #DDDDDD;\n",
       "    color: #777777;\n",
       "        padding: 0 15px;\n",
       "        }\n",
       "\n",
       "</style>\n",
       "<script>\n",
       "    MathJax.Hub.Config({\n",
       "                        TeX: {\n",
       "                           extensions: [\"AMSmath.js\"]\n",
       "                           },\n",
       "                tex2jax: {\n",
       "                    inlineMath: [ ['$','$'], [\"\\\\(\",\"\\\\)\"] ],\n",
       "                    displayMath: [ ['$$','$$'], [\"\\\\[\",\"\\\\]\"] ]\n",
       "                },\n",
       "                displayAlign: 'center', // Change this to 'center' to center equations.\n",
       "                \"HTML-CSS\": {\n",
       "                    styles: {'.MathJax_Display': {\"margin\": 4}}\n",
       "                }\n",
       "        });\n",
       "</script>"
      ],
      "text/plain": [
       "<IPython.core.display.HTML object>"
      ]
     },
     "execution_count": 1,
     "metadata": {},
     "output_type": "execute_result"
    }
   ],
   "source": [
    "from IPython.core.display import HTML\n",
    "def css_styling():\n",
    "    styles = open(\"styles/custom.css\", \"r\").read()\n",
    "    return HTML(styles)\n",
    "css_styling()"
   ]
  }
 ],
 "metadata": {
  "kernelspec": {
   "display_name": "Python 3",
   "language": "python",
   "name": "python3"
  },
  "language_info": {
   "codemirror_mode": {
    "name": "ipython",
    "version": 3
   },
   "file_extension": ".py",
   "mimetype": "text/x-python",
   "name": "python",
   "nbconvert_exporter": "python",
   "pygments_lexer": "ipython3",
   "version": "3.4.3"
  }
 },
 "nbformat": 4,
 "nbformat_minor": 0
}
