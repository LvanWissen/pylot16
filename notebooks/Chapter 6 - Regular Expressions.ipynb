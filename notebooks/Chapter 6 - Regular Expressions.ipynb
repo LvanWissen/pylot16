{
 "cells": [
  {
   "cell_type": "markdown",
   "metadata": {},
   "source": [
    "# Chapter 6 - Regular Expressions"
   ]
  },
  {
   "cell_type": "markdown",
   "metadata": {},
   "source": [
    "Regular expressions are another, powerful way of handling strings in Python. You can use them for all sorts of very common string operations, like searching words and replacing them in texts. In fact, regular expressions are often used across many programming languages and text editors. Because of that, you will often be able to reuse many of the things that you will learn about below. The functionality for using regular expressions in Python is included in the 're' package, which you should be able to import as usual: "
   ]
  },
  {
   "cell_type": "code",
   "execution_count": 1,
   "metadata": {
    "collapsed": false
   },
   "outputs": [],
   "source": [
    "import re"
   ]
  },
  {
   "cell_type": "markdown",
   "metadata": {},
   "source": [
    "On many occasions, you will want to search a string in your scripts: e.g. does the following word appear in a text? Is the format of the following email address valid and does it contain an @-symbol and a least one dot? To carry out such operations, the first thing you need is a string to search:  "
   ]
  },
  {
   "cell_type": "code",
   "execution_count": 2,
   "metadata": {
    "collapsed": false
   },
   "outputs": [],
   "source": [
    "s = \"In principio erat verbum, et verbum erat apud Deum.\""
   ]
  },
  {
   "cell_type": "markdown",
   "metadata": {},
   "source": [
    "The next thing we define is the actual regular expression which we will use, or the string that we will use to search the sentence we defined above. We pass this string to the `compile()` function in the `re` package, which will allow fast searching later on. Note that we put an `r` in front of this string when we initialize it, which turns our string into a so-called 'raw string'. While this is not always necessary, it is a good idea to do this consistently when dealing with regular expressions."
   ]
  },
  {
   "cell_type": "code",
   "execution_count": 3,
   "metadata": {
    "collapsed": false
   },
   "outputs": [],
   "source": [
    "pattern = re.compile(r\"verbum\")"
   ]
  },
  {
   "cell_type": "markdown",
   "metadata": {},
   "source": [
    "Next, we can call the `sub()` function from the `re` package on this pattern, in order to replace (or 'substitute') our pattern with another word, like this:"
   ]
  },
  {
   "cell_type": "code",
   "execution_count": 4,
   "metadata": {
    "collapsed": false
   },
   "outputs": [
    {
     "name": "stdout",
     "output_type": "stream",
     "text": [
      "In principio erat XXX, et XXX erat apud Deum.\n"
     ]
    }
   ],
   "source": [
    "text = pattern.sub(\"XXX\", s)\n",
    "print(text)"
   ]
  },
  {
   "cell_type": "markdown",
   "metadata": {},
   "source": [
    "Note the order of the arguments passed to `sub()`: first, the word we would like to replace our pattern with, and secondly our original string. We can just as easily get back our original string:"
   ]
  },
  {
   "cell_type": "code",
   "execution_count": 5,
   "metadata": {
    "collapsed": false
   },
   "outputs": [
    {
     "name": "stdout",
     "output_type": "stream",
     "text": [
      "In principio erat verbum, et verbum erat apud Deum.\n"
     ]
    }
   ],
   "source": [
    "pattern2 = re.compile(r\"XXX\")\n",
    "text = pattern2.sub(\"verbum\", s)\n",
    "print(text)"
   ]
  },
  {
   "cell_type": "markdown",
   "metadata": {},
   "source": [
    "So far nothing special: we are simply replacing one word for another word. The smart ones among you will have noticed that we could have achieved the exact same result using the `replace()` function, which we came across in an earlier chapter. But now: say you would like to replace all vowels in a string. With regular expressions, this is a piece of cake:"
   ]
  },
  {
   "cell_type": "code",
   "execution_count": 6,
   "metadata": {
    "collapsed": false
   },
   "outputs": [
    {
     "name": "stdout",
     "output_type": "stream",
     "text": [
      "In prXncXpXX XrXt vXrbXm, Xt vXrbXm XrXt XpXd DXXm.\n"
     ]
    }
   ],
   "source": [
    "vowel_pattern = re.compile(r\"a|e|o|u|i\")\n",
    "without_vowels = vowel_pattern.sub(\"X\", s)\n",
    "print(without_vowels)"
   ]
  },
  {
   "cell_type": "markdown",
   "metadata": {},
   "source": [
    "Note how our pattern allows for a special syntax: the pipe symbol which we used allows to express that one character OR another one is fine for the regular expression to match. Oops: the capital letter at the beginning of the sentence hasn't been replaced because we only included lowercase vowels in our pattern definition. Let's add the uppercase vowels to the regex:   "
   ]
  },
  {
   "cell_type": "code",
   "execution_count": 7,
   "metadata": {
    "collapsed": false
   },
   "outputs": [
    {
     "name": "stdout",
     "output_type": "stream",
     "text": [
      "Xn prXncXpXX XrXt vXrbXm, Xt vXrbXm XrXt XpXd DXXm.\n"
     ]
    }
   ],
   "source": [
    "vowel_pattern = re.compile(r\"a|A|e|E|o|O|u|U|i|I\")\n",
    "without_vowels = vowel_pattern.sub(\"X\", s)\n",
    "print(without_vowels)"
   ]
  },
  {
   "cell_type": "markdown",
   "metadata": {},
   "source": [
    "There is in fact an easy way to match all lowercase and uppercase characters in a string, like this:"
   ]
  },
  {
   "cell_type": "code",
   "execution_count": 8,
   "metadata": {
    "collapsed": false
   },
   "outputs": [
    {
     "name": "stdout",
     "output_type": "stream",
     "text": [
      "Xn principio erat verbum, et verbum erat apud Xeum.\n",
      "IX XXXXXXXXX XXXX XXXXXX, XX XXXXXX XXXX XXXX DXXX.\n"
     ]
    }
   ],
   "source": [
    "ups = re.compile(r\"[A-Z]\")\n",
    "lows = re.compile(r\"[a-z]\")\n",
    "without_ups = ups.sub(\"X\", s)\n",
    "print(without_ups)\n",
    "without_ups = lows.sub(\"X\", s)\n",
    "print(without_ups)"
   ]
  },
  {
   "cell_type": "markdown",
   "metadata": {},
   "source": [
    "These specific patterns are called 'ranges': they will match any lowercase or uppercase letter. In fact, you can use such a range syntax using squared brackets, to replace the pipe syntax we used earlier. "
   ]
  },
  {
   "cell_type": "code",
   "execution_count": 9,
   "metadata": {
    "collapsed": false
   },
   "outputs": [
    {
     "name": "stdout",
     "output_type": "stream",
     "text": [
      "In prXncXpXX XrXt vXrbXm, Xt vXrbXm XrXt XpXd DXXm.\n"
     ]
    }
   ],
   "source": [
    "vowel_pattern = re.compile(r\"[aeoui]\")\n",
    "without_vowels = vowel_pattern.sub(\"X\", s)\n",
    "print(without_vowels)"
   ]
  },
  {
   "cell_type": "markdown",
   "metadata": {},
   "source": [
    "You can also look for more specific, as well as longer letter groups by arranging them with round brackets:"
   ]
  },
  {
   "cell_type": "code",
   "execution_count": 11,
   "metadata": {
    "collapsed": false
   },
   "outputs": [
    {
     "name": "stdout",
     "output_type": "stream",
     "text": [
      "In pXncipio erat verbX, et verbX erat apud DeX.\n"
     ]
    }
   ],
   "source": [
    "p = re.compile(r\"(ri)|(um)|(Th)\")\n",
    "print(p.sub(\"X\", s))"
   ]
  },
  {
   "cell_type": "markdown",
   "metadata": {},
   "source": [
    "There is also a syntax to match any character (except the newline):"
   ]
  },
  {
   "cell_type": "code",
   "execution_count": 12,
   "metadata": {
    "collapsed": false
   },
   "outputs": [
    {
     "name": "stdout",
     "output_type": "stream",
     "text": [
      "XXXXXXXXXXXXXXXXXXXXXXXXXXXXXXXXXXXXXXXXXXXXXXXXXXX\n"
     ]
    }
   ],
   "source": [
    "any_char = re.compile(r\".\")\n",
    "print(any_char.sub(\"X\", s))"
   ]
  },
  {
   "cell_type": "markdown",
   "metadata": {},
   "source": [
    "If you would like your expression to match an actual dot, you have to escape it using a backslash:"
   ]
  },
  {
   "cell_type": "code",
   "execution_count": 13,
   "metadata": {
    "collapsed": false
   },
   "outputs": [
    {
     "name": "stdout",
     "output_type": "stream",
     "text": [
      "In principio erat verbum, et verbum erat apud DeumX\n"
     ]
    }
   ],
   "source": [
    "dot = re.compile(r\"\\.\")\n",
    "print(dot.sub(\"X\", s))"
   ]
  },
  {
   "cell_type": "markdown",
   "metadata": {},
   "source": [
    "By the way, there exist more characters that you might have to escape using a backslash. This is because they are part of the syntax that use to define regular expressions: if you don't escape them, Python will not know that you are looking for an literal match. Characters that you typically might want to escape include: ( + ? . * ^ $ ( ) [ ] { } | \\ ) ,. For example:"
   ]
  },
  {
   "cell_type": "code",
   "execution_count": 14,
   "metadata": {
    "collapsed": false
   },
   "outputs": [
    {
     "name": "stdout",
     "output_type": "stream",
     "text": [
      "In principio [erat] verbum, et verbum erat apud Deum.\n",
      "In principio XeratX verbum, et verbum erat apud Deum.\n"
     ]
    }
   ],
   "source": [
    "s = \"In principio [erat] verbum, et verbum erat apud Deum.\"\n",
    "brackets_wrong = re.compile(r\"[|]\")\n",
    "print(brackets_wrong.sub(\"X\", s))\n",
    "brackets_right = re.compile(r\"(\\[)|(\\])\")\n",
    "print(brackets_right.sub(\"X\", s))"
   ]
  },
  {
   "cell_type": "markdown",
   "metadata": {},
   "source": [
    "The syntax for regular expression includes a whole range of possibilities which we simply cannot all deal with it here. Because of that we will stick to a number of helpful examples. An interesting feature is that you can specify whether or not a character really has to occur. You can check whether the pattern occurs in a string using the `match()` function which will return `None` if it doesn't find the pattern in the string searched:"
   ]
  },
  {
   "cell_type": "code",
   "execution_count": 16,
   "metadata": {
    "collapsed": false
   },
   "outputs": [
    {
     "name": "stdout",
     "output_type": "stream",
     "text": [
      "re.compile('m{2,4}')\n",
      "None\n",
      "None\n",
      "<_sre.SRE_Match object; span=(0, 2), match='mm'>\n",
      "<_sre.SRE_Match object; span=(0, 3), match='mmm'>\n",
      "<_sre.SRE_Match object; span=(0, 4), match='mmmm'>\n",
      "<_sre.SRE_Match object; span=(0, 4), match='mmmm'>\n",
      "<_sre.SRE_Match object; span=(0, 4), match='mmmm'>\n",
      "<_sre.SRE_Match object; span=(0, 4), match='mmmm'>\n"
     ]
    }
   ],
   "source": [
    "pattern = re.compile(r\"m{2,4}\")\n",
    "\n",
    "print(pattern)\n",
    "\n",
    "print(pattern.match(\"\"))\n",
    "print(pattern.match(\"m\"))\n",
    "print(pattern.match(\"mm\"))\n",
    "print(pattern.match(\"mmm\"))\n",
    "print(pattern.match(\"mmmm\"))\n",
    "print(pattern.match(\"mmmmm\"))\n",
    "print(pattern.match(\"mmmmmm\"))\n",
    "print(pattern.match(\"mmmmammm\"))"
   ]
  },
  {
   "cell_type": "markdown",
   "metadata": {},
   "source": [
    "With the curly brackets, you indicate that you are only interested in the letter 'm' if it occurs 2,3 or 4 times in a row in the string you search. Because `None` is returned if not a single match was found, you can use the outcome of `match()`in an if-statement. The following example shows how you can also use the curly brackets to match an exact number of occurences (in this case three a's)."
   ]
  },
  {
   "cell_type": "code",
   "execution_count": 17,
   "metadata": {
    "collapsed": false
   },
   "outputs": [
    {
     "name": "stdout",
     "output_type": "stream",
     "text": [
      "Found it!\n",
      "Nope...\n"
     ]
    }
   ],
   "source": [
    "pattern = re.compile(r\"a{5}\")\n",
    "if pattern.match(\"aaaaa\"):\n",
    "    print(\"Found it!\")\n",
    "else:\n",
    "    print(\"Nope...\")\n",
    "# or:\n",
    "if pattern.match(\"aa\"):\n",
    "    print(\"Found it!\")\n",
    "else:\n",
    "    print(\"Nope...\")"
   ]
  },
  {
   "cell_type": "markdown",
   "metadata": {},
   "source": [
    "Using a plus sign you can indicate whether you want to match multiple occurrences of a character. A good example from the world of paper writing are double spaces, which can be hard to spot. In the code block below, we replace all multiple occurences of a whitespace character by a single whitespace character. Note that you can use the whitespace character just like any other character (you don't have to escape it). Multiple occurences of the whitespace character will be matched: it doesn't matter how many, as long as there is at least one:"
   ]
  },
  {
   "cell_type": "code",
   "execution_count": 18,
   "metadata": {
    "collapsed": false
   },
   "outputs": [
    {
     "name": "stdout",
     "output_type": "stream",
     "text": [
      "My thesis on biology contains a lot of double spaces. I will remove them.\n"
     ]
    }
   ],
   "source": [
    "paper = \"My thesis on  biology     contains a lot of  double spaces.   I will remove  them.\"\n",
    "mult = re.compile(r\" +\")\n",
    "print(mult.sub(\" \", paper))"
   ]
  },
  {
   "cell_type": "markdown",
   "metadata": {},
   "source": [
    "A similar piece of functionality is offered by the asterisk operator: here you can match multiple occurences of the same character in a row OR not a single one. Note the subtle difference with respect to the plus operator, which needs at least a single occurence of the character to match. Here we use the `search()` function which will search the entire string: the `match()` function which we used earlier will only look for matches at the very beginning of a string. Keep this in mind! The final pattern below yields a match, although there is not a single 'x' in the sentence. That is because the pattern with the asterisk says: \"a single x, or no x at all\". "
   ]
  },
  {
   "cell_type": "code",
   "execution_count": 19,
   "metadata": {
    "collapsed": false
   },
   "outputs": [
    {
     "name": "stdout",
     "output_type": "stream",
     "text": [
      "<_sre.SRE_Match object; span=(18, 19), match='t'>\n",
      "<_sre.SRE_Match object; span=(0, 0), match=''>\n",
      "None\n",
      "<_sre.SRE_Match object; span=(0, 0), match=''>\n"
     ]
    }
   ],
   "source": [
    "s = \"In English some letters occur multiple times in a row.\"\n",
    "p1 = re.compile(r\"t\")\n",
    "p2 = re.compile(r\"t*\")\n",
    "p3 = re.compile(r\"x\")\n",
    "p4 = re.compile(r\"x*\")\n",
    "print(p1.search(s))\n",
    "print(p2.search(s))\n",
    "print(p3.search(s))\n",
    "print(p4.search(s))"
   ]
  },
  {
   "cell_type": "markdown",
   "metadata": {},
   "source": [
    "Interestingly, you also use regular expression to search inside words. Can you explain why the following patterns (don't) match? "
   ]
  },
  {
   "cell_type": "code",
   "execution_count": 20,
   "metadata": {
    "collapsed": false
   },
   "outputs": [
    {
     "name": "stdout",
     "output_type": "stream",
     "text": [
      "<_sre.SRE_Match object; span=(0, 4), match='good'>\n",
      "<_sre.SRE_Match object; span=(0, 3), match='god'>\n",
      "None\n",
      "None\n"
     ]
    }
   ],
   "source": [
    "candidates = [\"good\", \"god\", \"gud\", \"gd\"]\n",
    "p = re.compile(r\"go+d\")\n",
    "for c in candidates:\n",
    "    print(p.match(c))"
   ]
  },
  {
   "cell_type": "markdown",
   "metadata": {},
   "source": [
    "Speaking of words: it might be interesting to know that you can use regular expressions for advanced string splitting. If you want to split a sentence across all whitespace characters for instance, you can use an espaced `\\s`. This operator will match all whitespace characters, such as tabs, linebreaks, normal spaces etc. If you add a `+` sign, your pattern will match series of whitespace characters: "
   ]
  },
  {
   "cell_type": "code",
   "execution_count": 21,
   "metadata": {
    "collapsed": false
   },
   "outputs": [
    {
     "name": "stdout",
     "output_type": "stream",
     "text": [
      "['This', 'is', 'a', 'text', 'on', 'three', 'lines', 'with', 'multiple', 'instances', 'of', 'double', 'spaces.']\n"
     ]
    }
   ],
   "source": [
    "s = \"\"\"This is a text  on three   lines\n",
    "with  multiple instances of  \n",
    "double spaces.\"\"\"\n",
    "whitespace = re.compile(r\"\\s+\")\n",
    "print(whitespace.split(s))"
   ]
  },
  {
   "cell_type": "markdown",
   "metadata": {},
   "source": [
    "If you would have wanted to split on the linebreaks only (possible followed by e.g. spaces), you could have used the following pattern:"
   ]
  },
  {
   "cell_type": "code",
   "execution_count": 22,
   "metadata": {
    "collapsed": false
   },
   "outputs": [
    {
     "name": "stdout",
     "output_type": "stream",
     "text": [
      "['This is a text  on three   lines', 'with  multiple instances of', 'double spaces.']\n"
     ]
    }
   ],
   "source": [
    "s = \"\"\"This is a text  on three   lines\n",
    "with  multiple instances of  \n",
    "double spaces.\"\"\"\n",
    "whitespace = re.compile(r\"\\s*\\n\\s*\")\n",
    "print(whitespace.split(s))"
   ]
  },
  {
   "cell_type": "markdown",
   "metadata": {},
   "source": [
    "If we want to correct the double spaces, we could now do:    "
   ]
  },
  {
   "cell_type": "code",
   "execution_count": 24,
   "metadata": {
    "collapsed": false
   },
   "outputs": [
    {
     "name": "stdout",
     "output_type": "stream",
     "text": [
      "This is a text on three lines\n",
      "with multiple instances of\n",
      "double spaces.\n"
     ]
    }
   ],
   "source": [
    "ds = re.compile(r\" +\")\n",
    "for line in whitespace.split(s):\n",
    "    print (ds.sub(\" \", line))"
   ]
  },
  {
   "cell_type": "markdown",
   "metadata": {},
   "source": [
    "One final feature we should mention is the `[^...]` syntax: this will match any character that is NOT between the brackets. Remember the vowel_pattern above? Using the caret symbol we can quickly 'invert' this pattern, so that it will match all consonants:"
   ]
  },
  {
   "cell_type": "code",
   "execution_count": 25,
   "metadata": {
    "collapsed": false
   },
   "outputs": [
    {
     "name": "stdout",
     "output_type": "stream",
     "text": [
      "XXeXeXaXeXXoXeXXXaXXXXoXXoXaXXX\n"
     ]
    }
   ],
   "source": [
    "s = \"these are vowels and consonants\"\n",
    "consonants = re.compile(r\"[^aeuoi]\")\n",
    "print(consonants.sub(\"X\", s))"
   ]
  },
  {
   "cell_type": "markdown",
   "metadata": {},
   "source": [
    "Regular expressions are really useful, but they can get tricky as well as difficult to read, because of the many different options that exist. There is a whole range of special symbols which you can use to match nearly everything in a text, from word boundaries (\\b) to digits (\\d) etc. Don't learn these by heart but look up a good reference list online (like http://www.tutorialspoint.com/python/python_reg_expressions.htm). As usual Stackoverflow will prove really useful when you search for information online."
   ]
  },
  {
   "cell_type": "markdown",
   "metadata": {},
   "source": [
    "# Final Exercises Chapter 6"
   ]
  },
  {
   "cell_type": "markdown",
   "metadata": {},
   "source": [
    "- Ex. 1 - Write Python code that loads data items from a file that has the format below. Use regular expresions to parse the lines and the data fields: take care of the multiple whitespace characters that might occur. Fill a dictionary using the two data fields. Use regular expressions as much as possible!\n",
    "\n",
    "Example data:\n",
    "\n",
    "color = red\n",
    "\n",
    "number =7\n",
    "\n",
    "name= joe\n",
    "\n",
    "age =   9\n",
    "...\n"
   ]
  },
  {
   "cell_type": "code",
   "execution_count": 3,
   "metadata": {
    "collapsed": false
   },
   "outputs": [
    {
     "data": {
      "text/plain": [
       "{'age': '9', 'color': 'red', 'name': 'joe', 'number': '7'}"
      ]
     },
     "execution_count": 3,
     "metadata": {},
     "output_type": "execute_result"
    }
   ],
   "source": [
    "import re\n",
    "\n",
    "data = \"\"\"color = red\n",
    "number =7\n",
    "name= joe\n",
    "age = 9\"\"\"\n",
    "\n",
    "d = dict(re.findall(\"(\\w*) *= *(\\w*)\", data))\n",
    "\n",
    "d"
   ]
  },
  {
   "cell_type": "markdown",
   "metadata": {},
   "source": [
    "- Ex. 2 - In the scientific community you will often find data online that has been stored in '.csv' format. Each data item in these files is represented on separate line. Write a function that takes a csv-filename as only input parameter and return a lists of lists, containing the data fields for each item.\n",
    "\n",
    "Example data:\n",
    "\n",
    "Mike, 28, scientist, Belgium\n",
    "\n",
    "Lars, 49, research director, Luxemburg\n",
    "\n",
    "Matt, 52, rockstar, US\n",
    "\n",
    "Example output:\n",
    "[[\"Mike\",\"28\",\"scientist\",\"Belgium\"],[\"Lars\",\"49\",\"research director\",\"Luxemburg\"], ...]"
   ]
  },
  {
   "cell_type": "code",
   "execution_count": 57,
   "metadata": {
    "collapsed": false
   },
   "outputs": [
    {
     "data": {
      "text/plain": [
       "[['Mike', '28', 'scientist', 'Belgium'],\n",
       " ['Lars', '49', 'research director', 'Luxemburg'],\n",
       " ['Matt', '52', 'rockstar', 'US']]"
      ]
     },
     "execution_count": 57,
     "metadata": {},
     "output_type": "execute_result"
    }
   ],
   "source": [
    "data = \"\"\"Mike, 28, scientist, Belgium\n",
    "Lars, 49, research director, Luxemburg\n",
    "Matt, 52, rockstar, US\"\"\"\n",
    "\n",
    "text = data.split('\\n')\n",
    "newlist = []\n",
    "\n",
    "for line in text:\n",
    "    newlist.append(re.findall(\"((?:\\w| )+)(?:, )*\", line))\n",
    "    \n",
    "newlist"
   ]
  },
  {
   "cell_type": "markdown",
   "metadata": {},
   "source": [
    "- Ex. 3 - Expand the previous excercise (don't throw away the original version!). Assume that the first line of your csv-file is not a real data-entry, but a so-called header-line that contains the names of the data fields stored in your csv-file. Now, have your function return a list of dictionaries: one for data item, containing for each item the value for each data field which you find.\n",
    "\n",
    "Example data:\n",
    "name, age, profession, country\n",
    "\n",
    "Mike, 28, scientist, Belgium\n",
    "\n",
    "Lars, 49, research director, Luxemburg\n",
    "\n",
    "Matt, 52, rockstar, US\n",
    "...\n",
    "\n",
    "\n",
    "Example output:\n",
    "[{\"name\": \"Mike\", \"age\": \"28\", \"profession\":\"scientist\", \"country\":\"Belgium\"}, {\"name\": \"Lars\", \"age\": \"49\", \"profession\":\"research director\", \"country\":\"Luxemburg\"]}, ...]"
   ]
  },
  {
   "cell_type": "code",
   "execution_count": 18,
   "metadata": {
    "collapsed": false
   },
   "outputs": [
    {
     "name": "stdout",
     "output_type": "stream",
     "text": [
      "[{'country': 'Belgium', 'profession': 'scientist', 'name': 'Mike', 'age': '28'}, {'country': 'Luxemburg', 'profession': 'research director', 'name': 'Lars', 'age': '49'}, {'country': 'US', 'profession': 'rockstar', 'name': 'Matt', 'age': '52'}]\n"
     ]
    }
   ],
   "source": [
    "data = \"\"\"name, age, profession, country\n",
    "Mike, 28, scientist, Belgium\n",
    "Lars, 49, research director, Luxemburg\n",
    "Matt, 52, rockstar, US\"\"\"\n",
    "\n",
    "text = data.split('\\n')\n",
    "newlist = []\n",
    "list_of_dicts = []\n",
    "\n",
    "for line in text:\n",
    "    newlist.append(re.findall(\"((?:\\w| )+)(?:, )*\", line))\n",
    "    \n",
    "for wordlist in newlist[1:]:\n",
    "    combined_list = list(zip(newlist[0],wordlist))\n",
    "    list_of_dicts.append(dict(combined_list))\n",
    "        \n",
    "        \n",
    "print(list_of_dicts)\n",
    "    "
   ]
  },
  {
   "cell_type": "markdown",
   "metadata": {},
   "source": [
    "- Ex. 4 - Write a function that reads a random text file, splits the words across whitespace instances and returns a set containing all words that contain at least two characters. Use regular expressions where possible!"
   ]
  },
  {
   "cell_type": "code",
   "execution_count": 22,
   "metadata": {
    "collapsed": false
   },
   "outputs": [
    {
     "data": {
      "text/plain": [
       "{'bevrijd',\n",
       " 'vespermale',\n",
       " 'lelië',\n",
       " 'draafde',\n",
       " 'zij',\n",
       " 'begraven',\n",
       " 'halen',\n",
       " 'draf',\n",
       " 'opstond',\n",
       " 'deemster',\n",
       " 'stem',\n",
       " 'edoch',\n",
       " 'opwendde',\n",
       " 'prikken',\n",
       " 'trokken',\n",
       " 'vormen',\n",
       " 'aten',\n",
       " 'westen',\n",
       " 'rossige',\n",
       " 'opsloeg',\n",
       " 'aartsengel',\n",
       " 'zilveren',\n",
       " 'zendt',\n",
       " 'àller',\n",
       " 'cultuur',\n",
       " 'gij',\n",
       " 'kudde',\n",
       " 'dochteren',\n",
       " 'zwijgen',\n",
       " 'ondeugende',\n",
       " 'waaierstralen',\n",
       " 'heldenkrachten',\n",
       " 'verlaten',\n",
       " 'langs',\n",
       " 'beloofde',\n",
       " 'stellen',\n",
       " 'fronsend',\n",
       " 'voor',\n",
       " 'verzameld',\n",
       " 'meie',\n",
       " 'wolkjes',\n",
       " 'geschrifts',\n",
       " 'werken',\n",
       " 'verklaarde',\n",
       " 'mijn',\n",
       " 'tooverscaec',\n",
       " 'konst',\n",
       " 'af',\n",
       " 'bediedde',\n",
       " 'tastte',\n",
       " 'bleekend',\n",
       " 'vloek',\n",
       " 'misten',\n",
       " 'eenvoudige',\n",
       " 'bemint',\n",
       " 'koninklijken',\n",
       " 'uitgespreid',\n",
       " 'wijden',\n",
       " 'richt',\n",
       " 'tenten',\n",
       " 'drink',\n",
       " 'naïef',\n",
       " 'dage',\n",
       " 'pasten',\n",
       " 'denkende',\n",
       " 'ebooks',\n",
       " 'viool',\n",
       " 'staarde',\n",
       " 'copies',\n",
       " 'caritate',\n",
       " 'bemoedigend',\n",
       " 'lezer',\n",
       " 'maliën',\n",
       " 'gracht',\n",
       " 'aventuren',\n",
       " 'begaven',\n",
       " 'druipende',\n",
       " 'ontroerden',\n",
       " 'gloorden',\n",
       " 'vergaan',\n",
       " 'kleine',\n",
       " 'clarioens',\n",
       " 'burcht',\n",
       " 'geleidde',\n",
       " 'gemaliede',\n",
       " 'regionen',\n",
       " 'verborg',\n",
       " 'kraste',\n",
       " 'geven',\n",
       " 'donkerde',\n",
       " 'kyrië',\n",
       " 'ademde',\n",
       " 'performances',\n",
       " 'vage',\n",
       " 'geboekt',\n",
       " 'juichte',\n",
       " 'weêrklonk',\n",
       " 'gewelfde',\n",
       " 'drijfvlucht',\n",
       " 'paard',\n",
       " 'strekken',\n",
       " 'voorhoofd',\n",
       " 'trappen',\n",
       " 'zaligheid',\n",
       " 'vogelkijn',\n",
       " 'bestonden',\n",
       " 'they',\n",
       " 'ze',\n",
       " 'you',\n",
       " 'rolden',\n",
       " 'verschenen',\n",
       " 'onstuimig',\n",
       " 'raadselachtige',\n",
       " 'draad',\n",
       " 'omgekomen',\n",
       " 'edele',\n",
       " 'luisteren',\n",
       " 'korter',\n",
       " 'united',\n",
       " 'goeden',\n",
       " 'deductible',\n",
       " 'aeneas',\n",
       " 'gebeden',\n",
       " 'stamelde',\n",
       " 'lonkten',\n",
       " 'sobere',\n",
       " 'rammelden',\n",
       " 'lichtende',\n",
       " 'westwaarts',\n",
       " 'bogepoort',\n",
       " 'gelen',\n",
       " 'aanbinden',\n",
       " 'gedicht',\n",
       " 'vermoeienis',\n",
       " 'blâren',\n",
       " 'mordret',\n",
       " 'bewogen',\n",
       " 'krakende',\n",
       " 'sparta',\n",
       " 'alleen',\n",
       " 'waar',\n",
       " 'yvoren',\n",
       " 'slags',\n",
       " 'marde',\n",
       " 'gezelle',\n",
       " 'aanloopende',\n",
       " 'geëigend',\n",
       " 'schildknape',\n",
       " 'omzoomd',\n",
       " 'trekken',\n",
       " 'toe',\n",
       " 'verrassend',\n",
       " 'benam',\n",
       " 'kond',\n",
       " 'ander',\n",
       " 'bloem',\n",
       " 'geeft',\n",
       " 'geheime',\n",
       " 'trouwe',\n",
       " 'wonden',\n",
       " 'magister',\n",
       " 'serpent',\n",
       " 'mishandelt',\n",
       " 'ongelukkig',\n",
       " 'dooden',\n",
       " 'punt',\n",
       " 'koppen',\n",
       " 'kaarsen',\n",
       " 'widest',\n",
       " 'dalende',\n",
       " 'schalen',\n",
       " 'klaarden',\n",
       " 'slaat',\n",
       " 'tornooi',\n",
       " 'hozen',\n",
       " 'removed',\n",
       " '_g_',\n",
       " 'rouwe',\n",
       " 'drijft',\n",
       " 'zacht',\n",
       " 'gemaakt',\n",
       " 'voltooide',\n",
       " 'joegen',\n",
       " 'god',\n",
       " 'nemende',\n",
       " 'staf',\n",
       " 'laast',\n",
       " 'half',\n",
       " 'bewaking',\n",
       " 'dienaren',\n",
       " 'blijf',\n",
       " 'brengen',\n",
       " 'eenmaal',\n",
       " 'vriend',\n",
       " 'verloren',\n",
       " 'include',\n",
       " 'beleedigd',\n",
       " 'gevochten',\n",
       " 'copyright',\n",
       " 'means',\n",
       " 'accepted',\n",
       " 'lichtval',\n",
       " 'versaagde',\n",
       " 'slopen',\n",
       " 'geluchten',\n",
       " 'gijzelve',\n",
       " 'leiden',\n",
       " 'venizoen',\n",
       " 'kwamen',\n",
       " 'ridderschap',\n",
       " 'eenig',\n",
       " 'geklank',\n",
       " 'manestraal',\n",
       " 'stotteraar',\n",
       " 'heél',\n",
       " 'do',\n",
       " 'grooter',\n",
       " 'ontzettend',\n",
       " 'vermoeienden',\n",
       " 'staart',\n",
       " 'toortsen',\n",
       " 'goochelden',\n",
       " 'onaantastbaar',\n",
       " 'vreezende',\n",
       " 'houweelen',\n",
       " 'beidende',\n",
       " 'keeren',\n",
       " 'toovervallei',\n",
       " 'heffen',\n",
       " 'baden',\n",
       " 'gezond',\n",
       " 'negen',\n",
       " 'dwarrelde',\n",
       " 'rome',\n",
       " 'kinde',\n",
       " 'owed',\n",
       " 'confirmed',\n",
       " 'anders',\n",
       " 'oever',\n",
       " 'bediedden',\n",
       " 'herberg',\n",
       " 'la',\n",
       " 'acht',\n",
       " 'allow',\n",
       " 'wemeling',\n",
       " 'bleeken',\n",
       " 'appelebloesems',\n",
       " 'gleden',\n",
       " 'rondom',\n",
       " 'koord',\n",
       " 'ter',\n",
       " 'oog',\n",
       " 'gereden',\n",
       " 'tafereelen',\n",
       " 'heupen',\n",
       " 'spuwt',\n",
       " 'verlangt',\n",
       " 'goud',\n",
       " 'makkers',\n",
       " 'ydeleine',\n",
       " 'gelaat',\n",
       " 'geschieden',\n",
       " 'toovermachten',\n",
       " 'sprake',\n",
       " 'opgestegen',\n",
       " 'ongeluk',\n",
       " 'hief',\n",
       " 'voortaan',\n",
       " 'willen',\n",
       " 'vertwijfelen',\n",
       " 'eerlijke',\n",
       " 'indemnity',\n",
       " 'vinger',\n",
       " 'vizioen',\n",
       " 'ach',\n",
       " 'zoetjes',\n",
       " 'afgegaan',\n",
       " 'geschetter',\n",
       " 'vijftig',\n",
       " 'getinkel',\n",
       " 'slierden',\n",
       " 'eén',\n",
       " 'blij',\n",
       " 'samengestelde',\n",
       " 'krone',\n",
       " 'vraag',\n",
       " 'pralende',\n",
       " 'gekondigd',\n",
       " 'drong',\n",
       " 'varen',\n",
       " 'vinders',\n",
       " 'doofde',\n",
       " 'herhaal',\n",
       " 'ziet',\n",
       " 'verscheen',\n",
       " 'versloegt',\n",
       " 'ziel',\n",
       " 'stuwde',\n",
       " 'jonste',\n",
       " 'jonnen',\n",
       " 'bruiste',\n",
       " 'minder',\n",
       " 'vermake',\n",
       " 'wet',\n",
       " 'walm',\n",
       " 'gevuld',\n",
       " 'vigeliën',\n",
       " 'toren',\n",
       " 'eveneens',\n",
       " 'zachtekens',\n",
       " 'verdacht',\n",
       " 'voorzichtig',\n",
       " 'mouwen',\n",
       " 'gelegen',\n",
       " 'lichten',\n",
       " 'geeuwende',\n",
       " 'langen',\n",
       " 'tranen',\n",
       " 'obtaining',\n",
       " 'ongemeen',\n",
       " 'geëerbiedigd',\n",
       " 'smarten',\n",
       " 'bloeiende',\n",
       " 'mèt',\n",
       " 'barstte',\n",
       " 'opgerezen',\n",
       " 'samenhangende',\n",
       " 'twaalver',\n",
       " 'lachte',\n",
       " 'wàt',\n",
       " 'thans',\n",
       " 'displayed',\n",
       " 'ut',\n",
       " 'vuren',\n",
       " 'eten',\n",
       " 'bedrongene',\n",
       " 'eeren',\n",
       " 'zóó',\n",
       " 'zonnerondten',\n",
       " 'sindaal',\n",
       " 'zonder',\n",
       " 'dichten',\n",
       " 'logen',\n",
       " 'stapvoets',\n",
       " 'vogel',\n",
       " 'plantte',\n",
       " 'jolijselijk',\n",
       " 'gras',\n",
       " 'ontrouwe',\n",
       " 'stapte',\n",
       " 'leliëzoete',\n",
       " 'lokkenhoofd',\n",
       " 'grenzen',\n",
       " 'welzoete',\n",
       " 'vertellen',\n",
       " 'deur',\n",
       " 'ontwakende',\n",
       " 'trok',\n",
       " 'queste',\n",
       " 'lijden',\n",
       " 'gesproken',\n",
       " 'prevent',\n",
       " 'vorschen',\n",
       " 'date',\n",
       " 'adelsnamen',\n",
       " 'mart',\n",
       " 'zwoel',\n",
       " 'nachtegaal',\n",
       " 'twijfelden',\n",
       " 'rennende',\n",
       " 'kwinkeleert',\n",
       " 'wanhoop',\n",
       " 'salt',\n",
       " 'schalker',\n",
       " 'vierden',\n",
       " 'winden',\n",
       " 'verlegen',\n",
       " 'vesper',\n",
       " 'penninc',\n",
       " 'klinkende',\n",
       " 'geboeid',\n",
       " 'voelen',\n",
       " 'gespeend',\n",
       " 'onderwerp',\n",
       " 'droegen',\n",
       " 'verzekeren',\n",
       " 'aard',\n",
       " 'right',\n",
       " 'bespeurd',\n",
       " 'geweest',\n",
       " 'ijlende',\n",
       " 'ghewes',\n",
       " 'harer',\n",
       " 'onbehagelijk',\n",
       " 'kuste',\n",
       " 'aangrenzend',\n",
       " 'donkerroode',\n",
       " 'ijverzucht',\n",
       " 'enthoeziasme',\n",
       " 'bekoort',\n",
       " 'over',\n",
       " 'verzekering',\n",
       " 'our',\n",
       " 'feloenen',\n",
       " 'ziende',\n",
       " 'glansden',\n",
       " 'boden',\n",
       " 'dorpers',\n",
       " 'heviglijk',\n",
       " 'tasch',\n",
       " 'stappende',\n",
       " 'serven',\n",
       " 'lieten',\n",
       " 'vervoering',\n",
       " 'trof',\n",
       " 'belegeren',\n",
       " 'bescheidenlijk',\n",
       " 'groet',\n",
       " 'prayeelen',\n",
       " 'bizondere',\n",
       " 'cier',\n",
       " 'omringde',\n",
       " 'zingende',\n",
       " 'laatste',\n",
       " 'paying',\n",
       " 'verzorgd',\n",
       " 'blik',\n",
       " 'onder',\n",
       " 'nieuwsgierigheid',\n",
       " 'wien',\n",
       " 'knaap',\n",
       " 'ontrouwen',\n",
       " 'bied',\n",
       " 'werkelijkheid',\n",
       " 'tooverbedde',\n",
       " 'haas',\n",
       " 'dolende',\n",
       " 'promoting',\n",
       " 'eentonig',\n",
       " 'formats',\n",
       " 'nevelen',\n",
       " 'rukte',\n",
       " 'ruischloos',\n",
       " 'kloppend',\n",
       " 'heldendaad',\n",
       " 'groef',\n",
       " 'foundation',\n",
       " 'schaakmat',\n",
       " 'gebeurde',\n",
       " 'beminde',\n",
       " 'dreven',\n",
       " 'smartelijk',\n",
       " 'ridderromans',\n",
       " 'stortten',\n",
       " 'stortte',\n",
       " 'plicht',\n",
       " 'jonkvrouwen',\n",
       " 'drank',\n",
       " 'determine',\n",
       " 'sneeuwende',\n",
       " 'buigen',\n",
       " 'leste',\n",
       " 'blikkerden',\n",
       " 'gunste',\n",
       " 'deed',\n",
       " 'reden',\n",
       " 'gisteren',\n",
       " 'halzen',\n",
       " 'drang',\n",
       " 'verwonderden',\n",
       " 'verdronk',\n",
       " 'spiezen',\n",
       " 'gehad',\n",
       " 'dat',\n",
       " 'verslaan',\n",
       " 'belanglooze',\n",
       " 'verloopen',\n",
       " 'wacharme',\n",
       " 'cirkelend',\n",
       " 'vóor',\n",
       " 'zuiver',\n",
       " 'maakt',\n",
       " 'marië',\n",
       " 'ridderwoord',\n",
       " 'toeschouwende',\n",
       " 'keerde',\n",
       " 'radertjes',\n",
       " 'elkaar',\n",
       " 'schare',\n",
       " 'langzaam',\n",
       " 'hinnikende',\n",
       " 'laten',\n",
       " 'broeders',\n",
       " 'zot',\n",
       " 'minnezieken',\n",
       " 'noodde',\n",
       " 'iedereen',\n",
       " 'tooverenghiene',\n",
       " 'inrichten',\n",
       " 'pijlrecht',\n",
       " 'wolken',\n",
       " 'dichtbij',\n",
       " 'ophaalbrug',\n",
       " 'afscheid',\n",
       " 'eerbiedige',\n",
       " 'moeie',\n",
       " 'welfde',\n",
       " 'bezwij',\n",
       " 'rijken',\n",
       " 'reasonable',\n",
       " 'sleutelbos',\n",
       " 'gevecht',\n",
       " 'tòch',\n",
       " 'dichtten',\n",
       " 'electronically',\n",
       " 'mag',\n",
       " 'politiek',\n",
       " 'vond',\n",
       " 'sluimerende',\n",
       " 'sterft',\n",
       " 'huilde',\n",
       " 'genoegen',\n",
       " 'and',\n",
       " 'free',\n",
       " 'bij',\n",
       " 'sta',\n",
       " 'leeftijd',\n",
       " 'gezongen',\n",
       " 'wankelde',\n",
       " 'sollen',\n",
       " 'omgoten',\n",
       " 'jacht',\n",
       " 'verwijderen',\n",
       " 'verbod',\n",
       " 'wat',\n",
       " 'vergeten',\n",
       " 'vogels',\n",
       " 'geleesten',\n",
       " 'school',\n",
       " 'tegenover',\n",
       " 'heerschte',\n",
       " 'dringt',\n",
       " 'tweedenmale',\n",
       " 'wàs',\n",
       " 'viewing',\n",
       " 'brommerig',\n",
       " 'alzoo',\n",
       " 'welde',\n",
       " 'despite',\n",
       " 'slecht',\n",
       " 'roman',\n",
       " 'rijzen',\n",
       " 'blazende',\n",
       " 'kar',\n",
       " 'through',\n",
       " 'ontmoetten',\n",
       " 'loofde',\n",
       " 'acglovaels',\n",
       " 'spreidt',\n",
       " 'volzomer',\n",
       " 'denkens',\n",
       " 'zuster',\n",
       " 'togen',\n",
       " 'hulde',\n",
       " 'ondeugd',\n",
       " 'aandoeningen',\n",
       " 'zongen',\n",
       " 'heden',\n",
       " 'vroegere',\n",
       " 'bescherming',\n",
       " 'neef',\n",
       " 'verscheidenheden',\n",
       " 'verheugde',\n",
       " 'klétst',\n",
       " 'agaath',\n",
       " 'lachen',\n",
       " 'gordijn',\n",
       " 'bidde',\n",
       " 'hèm',\n",
       " 'radeloosheid',\n",
       " 'hert',\n",
       " 'bestormd',\n",
       " 'wallische',\n",
       " 'gelukkig',\n",
       " 'aangeschoten',\n",
       " 'heer',\n",
       " 'oor',\n",
       " 'verteer',\n",
       " 'treurenissen',\n",
       " 'werkelijk',\n",
       " 'nieuwen',\n",
       " 'liability',\n",
       " 'knoppen',\n",
       " 'geluk',\n",
       " 'kasteele',\n",
       " 'riffen',\n",
       " 'woedend',\n",
       " 'volbrengen',\n",
       " 'golven',\n",
       " 'zoet',\n",
       " 'gracielijk',\n",
       " 'val',\n",
       " 'edelknaap',\n",
       " 'slothof',\n",
       " 'zorgt',\n",
       " 'wonderland',\n",
       " 'minnen',\n",
       " 'amandelen',\n",
       " 'stuurder',\n",
       " 'ietwat',\n",
       " 'modernen',\n",
       " 'jonstig',\n",
       " 'voeten',\n",
       " 'gewonnen',\n",
       " 'bestond',\n",
       " 'wiesch',\n",
       " 'aanzetten',\n",
       " 'gedweept',\n",
       " 'weer',\n",
       " 'twee',\n",
       " 'heur',\n",
       " 'verlokken',\n",
       " 'allerdapperste',\n",
       " 'doken',\n",
       " 'kleiner',\n",
       " 'avonden',\n",
       " 'luchtig',\n",
       " 'haken',\n",
       " 'schouwt',\n",
       " 'knielende',\n",
       " 'bezetten',\n",
       " 'gloor',\n",
       " 'streek',\n",
       " 'ver',\n",
       " 'zwier',\n",
       " 'alteration',\n",
       " 'heidensch',\n",
       " 'bevestigenden',\n",
       " 'misbaar',\n",
       " 'princessen',\n",
       " 'nam',\n",
       " 'tokte',\n",
       " 'weèt',\n",
       " 'tafel',\n",
       " 'men',\n",
       " 'stand',\n",
       " 'sierlijkheid',\n",
       " 'bas',\n",
       " 'bel',\n",
       " 'fenixvogel',\n",
       " 'uur',\n",
       " 'bezwijmde',\n",
       " 'kroon',\n",
       " 'grijpt',\n",
       " 'allerberoemdste',\n",
       " 'halmen',\n",
       " 'wouden',\n",
       " 'wollene',\n",
       " 'hadde',\n",
       " 'has',\n",
       " 'by',\n",
       " 'delging',\n",
       " 'vertoond',\n",
       " 'geruild',\n",
       " 'donderde',\n",
       " 'forschen',\n",
       " 'omlaag',\n",
       " 'wonderbed',\n",
       " 'aanstaande',\n",
       " 'brauwen',\n",
       " 'vonkten',\n",
       " 'bekampt',\n",
       " 'nader',\n",
       " 'bewegen',\n",
       " 'end',\n",
       " 'zwaaien',\n",
       " 'writing',\n",
       " 'days',\n",
       " 'omspant',\n",
       " 'vogelkens',\n",
       " 'herleven',\n",
       " 'wendde',\n",
       " 'wensch',\n",
       " 'deden',\n",
       " 'dier',\n",
       " 'wachten',\n",
       " 'tallooze',\n",
       " 'zessen',\n",
       " 'tweestrijd',\n",
       " 'rustig',\n",
       " 'tafelgezellen',\n",
       " 'samen',\n",
       " 'damaged',\n",
       " 'ga',\n",
       " 'bloemkens',\n",
       " 'opsloten',\n",
       " 'jonckbloet',\n",
       " 'meerder',\n",
       " 'minde',\n",
       " 'brokkelde',\n",
       " 'dieren',\n",
       " 'doodden',\n",
       " 'meenden',\n",
       " 'volgen',\n",
       " 'wijdt',\n",
       " 'duwieren',\n",
       " 'binnenhof',\n",
       " 'getuigd',\n",
       " 'huwe',\n",
       " 'uitspraak',\n",
       " 'gringolette',\n",
       " 'tooverkar',\n",
       " 'not',\n",
       " 'sloeg',\n",
       " 'sluierde',\n",
       " 'gringolei',\n",
       " 'bedevaart',\n",
       " 'welk',\n",
       " 'gladden',\n",
       " 'inniglijk',\n",
       " 'poogde',\n",
       " 'everkop',\n",
       " 'vingers',\n",
       " 'eéne',\n",
       " 'pijnlijk',\n",
       " 'begeerten',\n",
       " 'modification',\n",
       " 'mij',\n",
       " 'meesmuilen',\n",
       " 'somber',\n",
       " 'dertig',\n",
       " 'clareit',\n",
       " 'strak',\n",
       " 'staarten',\n",
       " 'gehelmd',\n",
       " 'zwaar',\n",
       " 'vallen',\n",
       " 'gone',\n",
       " 'treurig',\n",
       " 'afgeschoten',\n",
       " 'whatsoever',\n",
       " 'scherp',\n",
       " 'tooverstaf',\n",
       " 'wereld',\n",
       " 'verlangend',\n",
       " 'drakemoeder',\n",
       " 'gebarsten',\n",
       " 'diep',\n",
       " 'magen',\n",
       " 'telkens',\n",
       " 'gevloekt',\n",
       " 'ontsloten',\n",
       " 'mengden',\n",
       " '60',\n",
       " 'keltische',\n",
       " 'geestesoogen',\n",
       " 'teekenen',\n",
       " 'vertrouwd',\n",
       " 'valleie',\n",
       " 'breede',\n",
       " 'danst',\n",
       " 'opgeslagen',\n",
       " 'zuchtte',\n",
       " 'sprong',\n",
       " 'bekend',\n",
       " 'aventuur',\n",
       " 'halve',\n",
       " 'brave',\n",
       " 'helle',\n",
       " 'verdwijnen',\n",
       " 'kasteel',\n",
       " 'wisselden',\n",
       " 'glimlachten',\n",
       " 'weest',\n",
       " 'lof',\n",
       " 'weerde',\n",
       " 'wentelden',\n",
       " 'bemin',\n",
       " 'allerdappersten',\n",
       " 'daarna',\n",
       " 'open',\n",
       " 'besloot',\n",
       " 'staaf',\n",
       " 'gespten',\n",
       " 'besteeg',\n",
       " 'gruwbare',\n",
       " 'sprakeblom',\n",
       " 'ontgleed',\n",
       " 'hermelijn',\n",
       " 'gestand',\n",
       " 'schram',\n",
       " 'deinde',\n",
       " 'speelsters',\n",
       " 'ingenomen',\n",
       " 'verslagen',\n",
       " 'mirakele',\n",
       " 'zelven',\n",
       " 'en',\n",
       " 'zeggen',\n",
       " 'koozing',\n",
       " 'kwade',\n",
       " 'gesteente',\n",
       " 'strijden',\n",
       " 'koos',\n",
       " 'burchtzaal',\n",
       " 'verblind',\n",
       " 'verduidelijkte',\n",
       " 'zijnen',\n",
       " 'kwijnt',\n",
       " 'moeilijk',\n",
       " 'vuisten',\n",
       " 'reuzen',\n",
       " 'gordelen',\n",
       " 'zien',\n",
       " 'gepeis',\n",
       " 'uitermate',\n",
       " 'heuveling',\n",
       " 'knikkende',\n",
       " 'vaart',\n",
       " 'duivelsche',\n",
       " 'curliaen',\n",
       " 'háre',\n",
       " 'brommende',\n",
       " 'stijf',\n",
       " 'kastanjelaar',\n",
       " 'as',\n",
       " 'helpt',\n",
       " 'waard',\n",
       " 'geheimvollen',\n",
       " 'muursteilen',\n",
       " 'wolkstapelingen',\n",
       " 'accept',\n",
       " 'cannot',\n",
       " 'bonden',\n",
       " 'hope',\n",
       " 'irs',\n",
       " 'teugels',\n",
       " 'steigerend',\n",
       " 'roept',\n",
       " 'luidde',\n",
       " 'legt',\n",
       " 'blanke',\n",
       " 'prees',\n",
       " 'stijging',\n",
       " 'verleidde',\n",
       " 'waarheen',\n",
       " 'lichtte',\n",
       " 'vergeleek',\n",
       " 'afstaan',\n",
       " 'bedieden',\n",
       " 'spreek',\n",
       " 'ha',\n",
       " 'ruigen',\n",
       " 'fellen',\n",
       " 'bewust',\n",
       " 'prof',\n",
       " 'bootsen',\n",
       " 'ligt',\n",
       " 'pigmentwijn',\n",
       " 'oudheid',\n",
       " 'hebt',\n",
       " 'galmde',\n",
       " 'vleugelen',\n",
       " 'sterk',\n",
       " 'bekeek',\n",
       " 'geluchte',\n",
       " 'toeven',\n",
       " 'heilige',\n",
       " 'bijten',\n",
       " 'sproeieren',\n",
       " 'graal',\n",
       " 'herder',\n",
       " 'wonderolie',\n",
       " 'verhinderen',\n",
       " 'heiligen',\n",
       " 'mizerabele',\n",
       " 'ding',\n",
       " 'plat',\n",
       " 'kimmen',\n",
       " 'gereide',\n",
       " 'zande',\n",
       " 'gast',\n",
       " 'ongeloovige',\n",
       " 'gaweins',\n",
       " 'kendet',\n",
       " 'only',\n",
       " 'amoereuzelijke',\n",
       " 'maak',\n",
       " 'but',\n",
       " 'dale',\n",
       " 'niets',\n",
       " 'schaker',\n",
       " '_u_',\n",
       " 'disclaimer',\n",
       " 'maken',\n",
       " 'years',\n",
       " 'iets',\n",
       " 'roemen',\n",
       " 'wijs',\n",
       " 'kwijt',\n",
       " 'alleenlijke',\n",
       " 'murmelde',\n",
       " 'geleiden',\n",
       " 'hoofdeinde',\n",
       " 'kaatsen',\n",
       " 'aardsche',\n",
       " 'nijdige',\n",
       " 'oorlogszuchtige',\n",
       " 'volbracht',\n",
       " 'vloekende',\n",
       " 'daden',\n",
       " 'wonderwet',\n",
       " 'gezadeld',\n",
       " 'daarom',\n",
       " 'gevoelden',\n",
       " 'vermogen',\n",
       " 'eenzame',\n",
       " 'direct',\n",
       " 'understand',\n",
       " 'reciet',\n",
       " 'levens',\n",
       " 'angst',\n",
       " 'equipment',\n",
       " 'vooraf',\n",
       " 'dronken',\n",
       " 'vlaggen',\n",
       " 'sluiks',\n",
       " 'ontkleed',\n",
       " 'both',\n",
       " 'kerkhove',\n",
       " 'verlichte',\n",
       " 'blijdschap',\n",
       " 'zullen',\n",
       " 'ban',\n",
       " 'slag',\n",
       " 'sprakebloeme',\n",
       " 'spoedig',\n",
       " 'spiegel',\n",
       " 'city',\n",
       " 'oogen',\n",
       " 'spichtige',\n",
       " 'vijandigen',\n",
       " 'gaan',\n",
       " 'zoó',\n",
       " 'overmoed',\n",
       " 'strijdros',\n",
       " 'klokskens',\n",
       " 'ginder',\n",
       " '_het',\n",
       " 'droombeeld',\n",
       " 'heetten',\n",
       " 'diepen',\n",
       " 'computers',\n",
       " 'gloeiend',\n",
       " 'rijden',\n",
       " 'easily',\n",
       " 'gastvrijheid',\n",
       " 'vatten',\n",
       " 'voel',\n",
       " 'freely',\n",
       " 'verliefde',\n",
       " 'gesnor',\n",
       " 'raderende',\n",
       " 'velt',\n",
       " 'grond',\n",
       " 'bruin',\n",
       " 'harten',\n",
       " 'hertogin',\n",
       " 'hermelijnen',\n",
       " 'schuin',\n",
       " 'hundreds',\n",
       " 'schijn',\n",
       " 'omhuifde',\n",
       " 'amoraen',\n",
       " 'nachts',\n",
       " 'below',\n",
       " 'geschaakte',\n",
       " 'gedaald',\n",
       " 'heir',\n",
       " 'schurk',\n",
       " 'wen',\n",
       " 'sparen',\n",
       " 'gregory',\n",
       " 'diepsten',\n",
       " 'oertijden',\n",
       " 'doorruischte',\n",
       " 'durf',\n",
       " 'principal',\n",
       " 'survive',\n",
       " 'schaarden',\n",
       " 'late',\n",
       " 'camelots',\n",
       " 'daarbij',\n",
       " 'zusters',\n",
       " 'blatend',\n",
       " 'veêler',\n",
       " 'redenen',\n",
       " 'toovenaar',\n",
       " 'wit',\n",
       " 'flanken',\n",
       " ...}"
      ]
     },
     "execution_count": 22,
     "metadata": {},
     "output_type": "execute_result"
    }
   ],
   "source": [
    "def two_chars_word(filename):\n",
    "    with open(filename, encoding='utf-8') as infile:\n",
    "        text = infile.read().lower()\n",
    "        return set(re.findall(\" (\\w\\w+)(?: |\\.|!|\\?|,)\", text))\n",
    "        \n",
    "two_chars_word('data/het_zwevende_schaakbord.txt')"
   ]
  },
  {
   "cell_type": "markdown",
   "metadata": {},
   "source": [
    "- Ex. 5 - Come up with a regular expression that matches time-of-day strings (such as 9:14 am or 11:20 pm)."
   ]
  },
  {
   "cell_type": "code",
   "execution_count": 4,
   "metadata": {
    "collapsed": false
   },
   "outputs": [
    {
     "data": {
      "text/plain": [
       "['9:14 am', '11:20 pm']"
      ]
     },
     "execution_count": 4,
     "metadata": {},
     "output_type": "execute_result"
    }
   ],
   "source": [
    "import re\n",
    "\n",
    "teststring = \"Come up with a regular expression that matches time-of-day strings (such as 9:14 am or 11:20 pm).\"\n",
    "\n",
    "re.findall(\"(\\d?\\d:\\d\\d\\s(?:am|pm))\", teststring)"
   ]
  },
  {
   "cell_type": "markdown",
   "metadata": {},
   "source": [
    "- Ex. 6 - Write a function that can validate email addresses: a valid email address contains at least one dot, one (and only one!) at-symbol. It should not contain other punctuation symbols and it should end in a common extension like \".com\", \".net\" or \".org\". Again, use regular expressions where possible! "
   ]
  },
  {
   "cell_type": "code",
   "execution_count": 31,
   "metadata": {
    "collapsed": false
   },
   "outputs": [
    {
     "name": "stdout",
     "output_type": "stream",
     "text": [
      "Please enter your mail address: test@1234.amsterdam\n"
     ]
    },
    {
     "data": {
      "text/plain": [
       "'Valid!'"
      ]
     },
     "execution_count": 31,
     "metadata": {},
     "output_type": "execute_result"
    }
   ],
   "source": [
    "import re\n",
    "\n",
    "email = input(\"Please enter your mail address: \")\n",
    "\n",
    "def is_email(email):\n",
    "    if re.match(\"[\\w\\d].*@[\\w\\d].*\\.[a-z]*\", email):\n",
    "        return \"Valid!\"\n",
    "    else:\n",
    "        return \"Not a valid email address!\"\n",
    "    \n",
    "is_email(email)\n"
   ]
  },
  {
   "cell_type": "code",
   "execution_count": 23,
   "metadata": {
    "collapsed": false
   },
   "outputs": [
    {
     "data": {
      "text/plain": [
       "<_sre.SRE_Match object; span=(0, 16), match='monty@python.org'>"
      ]
     },
     "execution_count": 23,
     "metadata": {},
     "output_type": "execute_result"
    }
   ],
   "source": [
    "email = \"monty@python.org\"\n",
    "\n",
    "re.match(\"[\\w\\d].*@[\\w\\d].*\\.[a-z]*\", email)"
   ]
  },
  {
   "cell_type": "markdown",
   "metadata": {},
   "source": [
    "----------------------\n",
    "\n",
    "You've reached the end of Chapter 6! Ignore the code below, it's only here to make the page pretty:"
   ]
  },
  {
   "cell_type": "code",
   "execution_count": 1,
   "metadata": {
    "collapsed": false
   },
   "outputs": [
    {
     "data": {
      "text/html": [
       "<style>\n",
       "    @font-face {\n",
       "        font-family: \"Computer Modern\";\n",
       "        src: url('http://mirrors.ctan.org/fonts/cm-unicode/fonts/otf/cmunss.otf');\n",
       "    }\n",
       "    div.cell {\n",
       "        width:800px;\n",
       "        margin-left:auto;\n",
       "        margin-right:auto;\n",
       "    }\n",
       "    div.cell, .input.hbox {\n",
       "    display:block;\n",
       "}\n",
       "    h1 {\n",
       "        font-family: \"Charis SIL\", Palatino, serif;\n",
       "    }\n",
       "    h4{\n",
       "        margin-top:12px;\n",
       "        margin-bottom: 3px;\n",
       "       }\n",
       "    div.text_cell_render{\n",
       "        font-family: Computer Modern, \"Helvetica Neue\", Arial, Helvetica, Geneva, sans-serif;\n",
       "        line-height: 145%;\n",
       "        font-size: 120%;\n",
       "        width:800px;\n",
       "        margin-left:auto;\n",
       "        margin-right:auto;\n",
       "    }\n",
       "    .CodeMirror{\n",
       "            font-family: \"Source Code Pro\", source-code-pro,Consolas, monospace;\n",
       "    }\n",
       "    .prompt{\n",
       "        display: None;\n",
       "    }\n",
       "    .text_cell_render h5 {\n",
       "        font-weight: 300;\n",
       "        font-size: 16pt;\n",
       "        color: #4057A1;\n",
       "        font-style: italic;\n",
       "        margin-bottom: .5em;\n",
       "        margin-top: 0.5em;\n",
       "        display: block;\n",
       "    }\n",
       "    \n",
       "    .warning{\n",
       "        color: rgb( 240, 20, 20 )\n",
       "        }\n",
       "\n",
       "    blockquote {\n",
       "    border-left: 4px solid #DDDDDD;\n",
       "    color: #777777;\n",
       "        padding: 0 15px;\n",
       "        }\n",
       "\n",
       "</style>\n",
       "<script>\n",
       "    MathJax.Hub.Config({\n",
       "                        TeX: {\n",
       "                           extensions: [\"AMSmath.js\"]\n",
       "                           },\n",
       "                tex2jax: {\n",
       "                    inlineMath: [ ['$','$'], [\"\\\\(\",\"\\\\)\"] ],\n",
       "                    displayMath: [ ['$$','$$'], [\"\\\\[\",\"\\\\]\"] ]\n",
       "                },\n",
       "                displayAlign: 'center', // Change this to 'center' to center equations.\n",
       "                \"HTML-CSS\": {\n",
       "                    styles: {'.MathJax_Display': {\"margin\": 4}}\n",
       "                }\n",
       "        });\n",
       "</script>"
      ],
      "text/plain": [
       "<IPython.core.display.HTML object>"
      ]
     },
     "execution_count": 1,
     "metadata": {},
     "output_type": "execute_result"
    }
   ],
   "source": [
    "from IPython.core.display import HTML\n",
    "def css_styling():\n",
    "    styles = open(\"styles/custom.css\", \"r\").read()\n",
    "    return HTML(styles)\n",
    "css_styling()"
   ]
  }
 ],
 "metadata": {
  "kernelspec": {
   "display_name": "Python 3",
   "language": "python",
   "name": "python3"
  },
  "language_info": {
   "codemirror_mode": {
    "name": "ipython",
    "version": 3
   },
   "file_extension": ".py",
   "mimetype": "text/x-python",
   "name": "python",
   "nbconvert_exporter": "python",
   "pygments_lexer": "ipython3",
   "version": "3.4.3"
  }
 },
 "nbformat": 4,
 "nbformat_minor": 0
}
